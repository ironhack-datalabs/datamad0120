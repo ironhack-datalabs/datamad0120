{
 "cells": [
  {
   "cell_type": "markdown",
   "metadata": {},
   "source": [
    "# Web Scraping Lab\n",
    "\n",
    "You will find in this notebook some scrapy exercises to practise your scraping skills.\n",
    "\n",
    "**Tips:**\n",
    "\n",
    "- Check the response status code for each request to ensure you have obtained the intended contennt.\n",
    "- Print the response text in each request to understand the kind of info you are getting and its format.\n",
    "- Check for patterns in the response text to extract the data/info requested in each question.\n",
    "- Visit each url and take a look at its source through Chrome DevTools. You'll need to identify the html tags, special class names etc. used for the html content you are expected to extract."
   ]
  },
  {
   "cell_type": "markdown",
   "metadata": {},
   "source": [
    "- [Requests library](http://docs.python-requests.org/en/master/#the-user-guide) documentation \n",
    "- [Beautiful Soup Doc](https://www.crummy.com/software/BeautifulSoup/bs4/doc/)\n",
    "- [Urllib](https://docs.python.org/3/library/urllib.html#module-urllib)\n",
    "- [re lib](https://docs.python.org/3/library/re.html)\n",
    "- [lxml lib](https://lxml.de/)\n",
    "- [Scrapy](https://scrapy.org/)\n",
    "- [List of HTTP status codes](https://en.wikipedia.org/wiki/List_of_HTTP_status_codes)\n",
    "- [HTML basics](http://www.simplehtmlguide.com/cheatsheet.php)\n",
    "- [CSS basics](https://www.cssbasics.com/#page_start)"
   ]
  },
  {
   "cell_type": "markdown",
   "metadata": {},
   "source": [
    "#### Below are the libraries and modules you may need. `requests`,  `BeautifulSoup` and `pandas` are imported for you. If you prefer to use additional libraries feel free to uncomment them."
   ]
  },
  {
   "cell_type": "code",
   "execution_count": 1,
   "metadata": {},
   "outputs": [],
   "source": [
    "import requests\n",
    "from bs4 import BeautifulSoup\n",
    "import pandas as pd\n",
    "# from pprint import pprint\n",
    "# from lxml import html\n",
    "# from lxml.html import fromstring\n",
    "# import urllib.request\n",
    "# from urllib.request import urlopen\n",
    "import random\n",
    "import re\n",
    "# import scrapy"
   ]
  },
  {
   "cell_type": "markdown",
   "metadata": {},
   "source": [
    "#### Download, parse (using BeautifulSoup), and print the content from the Trending Developers page from GitHub:"
   ]
  },
  {
   "cell_type": "code",
   "execution_count": 2,
   "metadata": {},
   "outputs": [],
   "source": [
    "# This is the url you will scrape in this exercise\n",
    "url = 'https://github.com/trending/developers'"
   ]
  },
  {
   "cell_type": "code",
   "execution_count": 3,
   "metadata": {},
   "outputs": [],
   "source": [
    "data = requests.get('https://github.com/trending/developers').text\n",
    "soup = BeautifulSoup(data, 'html.parser')\n"
   ]
  },
  {
   "cell_type": "markdown",
   "metadata": {},
   "source": [
    "#### Display the names of the trending developers retrieved in the previous step.\n",
    "\n",
    "Your output should be a Python list of developer names. Each name should not contain any html tag.\n",
    "\n",
    "**Instructions:**\n",
    "\n",
    "1. Find out the html tag and class names used for the developer names. You can achieve this using Chrome DevTools.\n",
    "\n",
    "1. Use BeautifulSoup to extract all the html elements that contain the developer names.\n",
    "\n",
    "1. Use string manipulation techniques to replace whitespaces and linebreaks (i.e. `\\n`) in the *text* of each html element. Use a list to store the clean names.\n",
    "\n",
    "1. Print the list of names.\n",
    "\n",
    "Your output should look like below:\n",
    "\n",
    "```\n",
    "['trimstray (@trimstray)',\n",
    " 'joewalnes (JoeWalnes)',\n",
    " 'charlax (Charles-AxelDein)',\n",
    " 'ForrestKnight (ForrestKnight)',\n",
    " 'revery-ui (revery-ui)',\n",
    " 'alibaba (Alibaba)',\n",
    " 'Microsoft (Microsoft)',\n",
    " 'github (GitHub)',\n",
    " 'facebook (Facebook)',\n",
    " 'boazsegev (Bo)',\n",
    " 'google (Google)',\n",
    " 'cloudfetch',\n",
    " 'sindresorhus (SindreSorhus)',\n",
    " 'tensorflow',\n",
    " 'apache (TheApacheSoftwareFoundation)',\n",
    " 'DevonCrawford (DevonCrawford)',\n",
    " 'ARMmbed (ArmMbed)',\n",
    " 'vuejs (vuejs)',\n",
    " 'fastai (fast.ai)',\n",
    " 'QiShaoXuan (Qi)',\n",
    " 'joelparkerhenderson (JoelParkerHenderson)',\n",
    " 'torvalds (LinusTorvalds)',\n",
    " 'CyC2018',\n",
    " 'komeiji-satori (神楽坂覚々)',\n",
    " 'script-8']\n",
    " ```"
   ]
  },
  {
   "cell_type": "code",
   "execution_count": 4,
   "metadata": {},
   "outputs": [
    {
     "data": {
      "text/plain": [
       "[('Kyle Conroy', 'kyleconroy'),\n",
       " ('Andreas Mueller', 'amueller'),\n",
       " ('Christian Clauss', 'cclauss'),\n",
       " ('Liu-Cheng Xu', 'liuchengxu'),\n",
       " ('Lucas Michot', 'lucasmichot'),\n",
       " ('Erik Schierboom', 'ErikSchierboom'),\n",
       " ('Viktor Farcic', 'vfarcic'),\n",
       " ('hackerman', 'aeneasr'),\n",
       " ('Sascha Grunert', 'saschagrunert'),\n",
       " ('Kevin Papst', 'kevinpapst'),\n",
       " ('ᴜɴᴋɴᴡᴏɴ', 'unknwon'),\n",
       " ('Jonathan Leitschuh', 'JLLeitschuh'),\n",
       " ('Anthony Sottile', 'asottile'),\n",
       " ('Kazuho Oku', 'kazuho'),\n",
       " ('Daniel Agar', 'dagar'),\n",
       " ('Ben Newman', 'benjamn'),\n",
       " ('Mike Penz', 'mikepenz'),\n",
       " ('David Karnok', 'akarnokd'),\n",
       " ('Joel Arvidsson', 'oblador'),\n",
       " ('Phil Plückthun', 'kitten'),\n",
       " ('Daybrush (Younkue Choi)', 'daybrush'),\n",
       " ('Rijk van Zanten', 'rijkvanzanten'),\n",
       " ('Yihui Xie', 'yihui'),\n",
       " ('Philip Walton', 'philipwalton'),\n",
       " ('Bryan Phelps', 'bryphe')]"
      ]
     },
     "execution_count": 4,
     "metadata": {},
     "output_type": "execute_result"
    }
   ],
   "source": [
    "def extractNamesAlias():\n",
    "    nombres=soup.select ('h1.h3 a[href]')\n",
    "    alias=soup.select ('p.f4 a.link-gray')\n",
    "    \n",
    "    return [(nombre.text.strip(),alia.text.strip()) for (nombre,alia) in zip(nombres,alias)]\n",
    "\n",
    "extractNamesAlias ()"
   ]
  },
  {
   "cell_type": "code",
   "execution_count": 6,
   "metadata": {},
   "outputs": [
    {
     "name": "stdout",
     "output_type": "stream",
     "text": [
      "\n",
      "            Kyle Conroy\n",
      "\n",
      "            Andreas Mueller\n",
      "\n",
      "            Christian Clauss\n",
      "\n",
      "            Liu-Cheng Xu\n",
      "\n",
      "            Lucas Michot\n",
      "\n",
      "            Erik Schierboom\n",
      "\n",
      "            Viktor Farcic\n",
      "\n",
      "            hackerman\n",
      "\n",
      "            Sascha Grunert\n",
      "\n",
      "            Kevin Papst\n",
      "\n",
      "            ᴜɴᴋɴᴡᴏɴ\n",
      "\n",
      "            Jonathan Leitschuh\n",
      "\n",
      "            Anthony Sottile\n",
      "\n",
      "            Kazuho Oku\n",
      "\n",
      "            Daniel Agar\n",
      "\n",
      "            Ben Newman\n",
      "\n",
      "            Mike Penz\n",
      "\n",
      "            David Karnok\n",
      "\n",
      "            Joel Arvidsson\n",
      "\n",
      "            Phil Plückthun\n",
      "\n",
      "            Daybrush (Younkue Choi)\n",
      "\n",
      "            Rijk van Zanten\n",
      "\n",
      "            Yihui Xie\n",
      "\n",
      "            Philip Walton\n",
      "\n",
      "            Bryan Phelps\n",
      "\n"
     ]
    }
   ],
   "source": [
    "#Otra forma:\n",
    "\n",
    "lista_h1=soup.find_all('h1', class_=\"h3 lh-condensed\")\n",
    "\n",
    "\n",
    "lista_art=[e.find_all('a') for e in lista_h1]\n",
    "\n",
    "nombres=[a.text for b in lista_art for a in b]\n",
    "print(''.join(nombres))\n",
    "\n"
   ]
  },
  {
   "cell_type": "markdown",
   "metadata": {},
   "source": [
    "#### Display the trending Python repositories in GitHub\n",
    "\n",
    "The steps to solve this problem is similar to the previous one except that you need to find out the repository names instead of developer names."
   ]
  },
  {
   "cell_type": "code",
   "execution_count": 7,
   "metadata": {},
   "outputs": [],
   "source": [
    "# This is the url you will scrape in this exercise\n",
    "url = 'https://github.com/trending/python?since=daily'"
   ]
  },
  {
   "cell_type": "code",
   "execution_count": 8,
   "metadata": {},
   "outputs": [
    {
     "name": "stdout",
     "output_type": "stream",
     "text": [
      "['Chaos', 'python-cheatsheet', 'tinder-swipe-bot', 'interpy-zh', 'CppCoreGuidelines', 'chatbot', 'donkeycar', 'Deep-Learning-with-TensorFlow-book', 'catalyst', 'DialoGPT', 'DiCE', 'sight', 'spinningup', 'django-rest-auth', 'fuzzywuzzy', 'pytorch_geometric', 'causalnex', 'Awesome-Linux-Software', 'persepolis', 'DeepLabCut', 'pointnet', 'pip-tools', 'safaribooks', 'awesome-python-login-model', 'cupp']\n"
     ]
    }
   ],
   "source": [
    "data2 = requests.get('https://github.com/trending/python?since=daily').text\n",
    "soup2 = BeautifulSoup(data2, 'html.parser')\n",
    "\n",
    "def extractRepoName():\n",
    "    repo=soup2.select ('div h1.h3.lh-condensed a[href]')\n",
    "    \n",
    "    return [rep.text.strip() for rep in repo]\n",
    "\n",
    "\n",
    "repositories =[re.findall (r'(\\s(\\d|\\w).*$)', e) for e in extractRepoName()]\n",
    "repositories_flatten= [a[0].strip() for b in repositories for a in b ]\n",
    "print(repositories_flatten)\n"
   ]
  },
  {
   "cell_type": "markdown",
   "metadata": {},
   "source": [
    "#### Display all the image links from Walt Disney wikipedia page"
   ]
  },
  {
   "cell_type": "code",
   "execution_count": 9,
   "metadata": {},
   "outputs": [],
   "source": [
    "# This is the url you will scrape in this exercise\n",
    "url = 'https://en.wikipedia.org/wiki/Walt_Disney'"
   ]
  },
  {
   "cell_type": "code",
   "execution_count": 10,
   "metadata": {},
   "outputs": [
    {
     "name": "stdout",
     "output_type": "stream",
     "text": [
      "['https://upload.wikimedia.org/wikipedia/en/thumb/1/1b/Semi-protection-shackle.svg/20px-Semi-protection-shackle.svg.png', 'https://upload.wikimedia.org/wikipedia/commons/thumb/d/df/Walt_Disney_1946.JPG/220px-Walt_Disney_1946.JPG', 'https://upload.wikimedia.org/wikipedia/commons/thumb/8/87/Walt_Disney_1942_signature.svg/150px-Walt_Disney_1942_signature.svg.png', 'https://upload.wikimedia.org/wikipedia/commons/thumb/c/c4/Walt_Disney_envelope_ca._1921.jpg/220px-Walt_Disney_envelope_ca._1921.jpg']\n"
     ]
    }
   ],
   "source": [
    "data3 = requests.get('https://en.wikipedia.org/wiki/Walt_Disney').text\n",
    "soup3 = BeautifulSoup(data3, 'html.parser')\n",
    "\n",
    "def urlImage():\n",
    "    images=soup3.select ('img')\n",
    "    return [ima for ima in images]\n",
    "\n",
    "urlEnlaces= urlImage()\n",
    "\n",
    "atributos= [a.attrs for a in urlEnlaces]\n",
    "enlaces=['https:' + e['src'] for e in atributos]\n",
    "\n",
    "print(enlaces[1:5])"
   ]
  },
  {
   "cell_type": "markdown",
   "metadata": {},
   "source": [
    "#### Retrieve an arbitary Wikipedia page of \"Python\" and create a list of links on that page"
   ]
  },
  {
   "cell_type": "code",
   "execution_count": 11,
   "metadata": {},
   "outputs": [],
   "source": [
    "# This is the url you will scrape in this exercise\n",
    "urlPython ='https://en.wikipedia.org/wiki/Python' "
   ]
  },
  {
   "cell_type": "code",
   "execution_count": 12,
   "metadata": {
    "scrolled": false
   },
   "outputs": [
    {
     "name": "stdout",
     "output_type": "stream",
     "text": [
      "Primera extracción de Python-Wikipedia:\n",
      "\n",
      " [None, '/wiki/Wikipedia:Featured_articles', '/wiki/Wikipedia:Protection_policy#semi', '#mw-head', '#p-search']\n",
      "---------------------------------------------------------------------------------------------------------\n",
      "Eliminado el primer elemento:\n",
      "\n",
      " ['/wiki/Wikipedia:Featured_articles', '/wiki/Wikipedia:Protection_policy#semi', '#mw-head', '#p-search', '/wiki/The_Walt_Disney_Company']\n",
      "---------------------------------------------------------------------------------------------------------\n"
     ]
    },
    {
     "ename": "TypeError",
     "evalue": "'NoneType' object is not subscriptable",
     "output_type": "error",
     "traceback": [
      "\u001b[0;31m---------------------------------------------------------------------------\u001b[0m",
      "\u001b[0;31mTypeError\u001b[0m                                 Traceback (most recent call last)",
      "\u001b[0;32m<ipython-input-12-0b4493cc479d>\u001b[0m in \u001b[0;36m<module>\u001b[0;34m\u001b[0m\n\u001b[1;32m     20\u001b[0m \u001b[0;32mfor\u001b[0m \u001b[0mlink\u001b[0m \u001b[0;32min\u001b[0m \u001b[0murlPython\u001b[0m\u001b[0;34m:\u001b[0m\u001b[0;34m\u001b[0m\u001b[0;34m\u001b[0m\u001b[0m\n\u001b[1;32m     21\u001b[0m \u001b[0;34m\u001b[0m\u001b[0m\n\u001b[0;32m---> 22\u001b[0;31m     \u001b[0;32mif\u001b[0m \u001b[0mlink\u001b[0m\u001b[0;34m[\u001b[0m\u001b[0;36m0\u001b[0m\u001b[0;34m]\u001b[0m\u001b[0;34m==\u001b[0m\u001b[0;34m'#'\u001b[0m\u001b[0;34m:\u001b[0m\u001b[0;34m\u001b[0m\u001b[0;34m\u001b[0m\u001b[0m\n\u001b[0m\u001b[1;32m     23\u001b[0m         \u001b[0;32mpass\u001b[0m\u001b[0;34m\u001b[0m\u001b[0;34m\u001b[0m\u001b[0m\n\u001b[1;32m     24\u001b[0m     \u001b[0;32mif\u001b[0m \u001b[0mlink\u001b[0m\u001b[0;34m[\u001b[0m\u001b[0;36m0\u001b[0m\u001b[0;34m]\u001b[0m\u001b[0;34m==\u001b[0m\u001b[0;34m'/'\u001b[0m\u001b[0;32mand\u001b[0m \u001b[0;34m'wiki'\u001b[0m \u001b[0;32min\u001b[0m \u001b[0mlink\u001b[0m\u001b[0;34m:\u001b[0m\u001b[0;34m\u001b[0m\u001b[0;34m\u001b[0m\u001b[0m\n",
      "\u001b[0;31mTypeError\u001b[0m: 'NoneType' object is not subscriptable"
     ]
    }
   ],
   "source": [
    "data4 = requests.get('https://en.wikipedia.org/wiki/Walt_Disney').text\n",
    "soup4 = BeautifulSoup(data4, 'html.parser')\n",
    "\n",
    "urlPython=[]\n",
    "\n",
    "for link in soup4.find_all('a'):\n",
    "    urlPython.append(link.get('href'))\n",
    "\n",
    "print('Primera extracción de Python-Wikipedia:\\n\\n',urlPython[0:5])\n",
    "print('---------------------------------------------------------------------------------------------------------')\n",
    "\n",
    "#el primer elemento de urlPython es none, lo voy a eliminar.\n",
    "\n",
    "urlPython2=urlPython[1:]\n",
    "print('Eliminado el primer elemento:\\n\\n',urlPython2[0:5])\n",
    "print('---------------------------------------------------------------------------------------------------------')\n",
    "\n",
    "urlPython_cleaned=[]\n",
    "    \n",
    "for link in urlPython:\n",
    "    \n",
    "    if link[0]=='#':\n",
    "        pass\n",
    "    if link[0]=='/'and 'wiki' in link:\n",
    "        urlPython_cleaned.append('https://en.wikipedia.org/'+link)\n",
    "    elif link[0]=='/':\n",
    "        urlPython_cleaned.append('https:'+link)\n",
    "    else:\n",
    "        urlPython_cleaned.append(link)\n",
    "\n",
    "print('URL en la Wikipedia-Python:\\n\\n', urlPython_cleaned[:5])\n",
    "print('---------------------------------------------------------------------------------------------------------')\n",
    "\n",
    "    "
   ]
  },
  {
   "cell_type": "code",
   "execution_count": 13,
   "metadata": {},
   "outputs": [
    {
     "ename": "IndexError",
     "evalue": "Cannot choose from an empty sequence",
     "output_type": "error",
     "traceback": [
      "\u001b[0;31m---------------------------------------------------------------------------\u001b[0m",
      "\u001b[0;31mIndexError\u001b[0m                                Traceback (most recent call last)",
      "\u001b[0;32m<ipython-input-13-7499913ec8da>\u001b[0m in \u001b[0;36m<module>\u001b[0;34m\u001b[0m\n\u001b[1;32m      1\u001b[0m \u001b[0;31m#Habría que limpiar más las url, ya que alguna sólo ponen 'w' en lugar de 'wiki', etc. Y esas dan error.\u001b[0m\u001b[0;34m\u001b[0m\u001b[0;34m\u001b[0m\u001b[0;34m\u001b[0m\u001b[0m\n\u001b[1;32m      2\u001b[0m \u001b[0;34m\u001b[0m\u001b[0m\n\u001b[0;32m----> 3\u001b[0;31m \u001b[0mrandomUrl\u001b[0m\u001b[0;34m=\u001b[0m\u001b[0murlPython_cleaned\u001b[0m\u001b[0;34m[\u001b[0m\u001b[0mrandom\u001b[0m\u001b[0;34m.\u001b[0m\u001b[0mchoice\u001b[0m\u001b[0;34m(\u001b[0m\u001b[0mlist\u001b[0m\u001b[0;34m(\u001b[0m\u001b[0mrange\u001b[0m\u001b[0;34m(\u001b[0m\u001b[0;36m0\u001b[0m\u001b[0;34m,\u001b[0m\u001b[0mlen\u001b[0m\u001b[0;34m(\u001b[0m\u001b[0murlPython_cleaned\u001b[0m\u001b[0;34m)\u001b[0m\u001b[0;34m)\u001b[0m\u001b[0;34m)\u001b[0m\u001b[0;34m)\u001b[0m\u001b[0;34m]\u001b[0m\u001b[0;34m\u001b[0m\u001b[0;34m\u001b[0m\u001b[0m\n\u001b[0m\u001b[1;32m      4\u001b[0m \u001b[0;34m\u001b[0m\u001b[0m\n\u001b[1;32m      5\u001b[0m \u001b[0mprint\u001b[0m\u001b[0;34m(\u001b[0m\u001b[0mrandomUrl\u001b[0m\u001b[0;34m)\u001b[0m\u001b[0;34m\u001b[0m\u001b[0;34m\u001b[0m\u001b[0m\n",
      "\u001b[0;32m/home/linuxbrew/.linuxbrew/Cellar/jupyterlab/1.2.4/libexec/lib/python3.7/random.py\u001b[0m in \u001b[0;36mchoice\u001b[0;34m(self, seq)\u001b[0m\n\u001b[1;32m    259\u001b[0m             \u001b[0mi\u001b[0m \u001b[0;34m=\u001b[0m \u001b[0mself\u001b[0m\u001b[0;34m.\u001b[0m\u001b[0m_randbelow\u001b[0m\u001b[0;34m(\u001b[0m\u001b[0mlen\u001b[0m\u001b[0;34m(\u001b[0m\u001b[0mseq\u001b[0m\u001b[0;34m)\u001b[0m\u001b[0;34m)\u001b[0m\u001b[0;34m\u001b[0m\u001b[0;34m\u001b[0m\u001b[0m\n\u001b[1;32m    260\u001b[0m         \u001b[0;32mexcept\u001b[0m \u001b[0mValueError\u001b[0m\u001b[0;34m:\u001b[0m\u001b[0;34m\u001b[0m\u001b[0;34m\u001b[0m\u001b[0m\n\u001b[0;32m--> 261\u001b[0;31m             \u001b[0;32mraise\u001b[0m \u001b[0mIndexError\u001b[0m\u001b[0;34m(\u001b[0m\u001b[0;34m'Cannot choose from an empty sequence'\u001b[0m\u001b[0;34m)\u001b[0m \u001b[0;32mfrom\u001b[0m \u001b[0;32mNone\u001b[0m\u001b[0;34m\u001b[0m\u001b[0;34m\u001b[0m\u001b[0m\n\u001b[0m\u001b[1;32m    262\u001b[0m         \u001b[0;32mreturn\u001b[0m \u001b[0mseq\u001b[0m\u001b[0;34m[\u001b[0m\u001b[0mi\u001b[0m\u001b[0;34m]\u001b[0m\u001b[0;34m\u001b[0m\u001b[0;34m\u001b[0m\u001b[0m\n\u001b[1;32m    263\u001b[0m \u001b[0;34m\u001b[0m\u001b[0m\n",
      "\u001b[0;31mIndexError\u001b[0m: Cannot choose from an empty sequence"
     ]
    }
   ],
   "source": [
    "#Habría que limpiar más las url, ya que alguna sólo ponen 'w' en lugar de 'wiki', etc. Y esas dan error.\n",
    "\n",
    "randomUrl=urlPython_cleaned[random.choice(list(range(0,len(urlPython_cleaned))))]\n",
    "\n",
    "print(randomUrl)\n",
    "print('---------------------------------------------------------------------------------------------------------')\n",
    "\n",
    "def enlacesRandomURL(randomUrl):\n",
    "    dataRandom = requests.get(randomUrl).text\n",
    "    soupRandom = BeautifulSoup(dataRandom, 'html.parser')\n",
    "    enlacesRandomList=[]\n",
    "\n",
    "    for link in soupRandom.find_all('a'):\n",
    "        enlacesRandomList.append(link.get('href'))\n",
    "    \n",
    "    enlacesRandomList2=enlacesRandomList[1:]\n",
    "    print('Primeros enlaces randomlist:\\n\\n',enlacesRandomList2[:5])\n",
    "    print('---------------------------------------------------------------------------------------------------------')\n",
    "    \n",
    "    randomUrl_cleaned=[]\n",
    "    for link in enlacesRandomList2:\n",
    "        if link[0]=='#':\n",
    "            pass\n",
    "        elif link[0]=='/'and 'wiki' in link:\n",
    "            randomUrl_cleaned.append('https://en.wikipedia.org/'+link)\n",
    "        elif link[0]=='/':\n",
    "            urlPython_cleaned.append('https:'+link)\n",
    "        else:\n",
    "            randomUrl_cleaned.append(link) \n",
    "\n",
    "    return print('Enlaces de la random URL:\\n\\n',randomUrl_cleaned[:5])\n",
    "\n",
    "enlacesRandomURL(randomUrl)"
   ]
  },
  {
   "cell_type": "markdown",
   "metadata": {},
   "source": [
    "#### Number of Titles that have changed in the United States Code since its last release point "
   ]
  },
  {
   "cell_type": "code",
   "execution_count": 14,
   "metadata": {},
   "outputs": [],
   "source": [
    "# This is the url you will scrape in this exercise\n",
    "urlUS = 'http://uscode.house.gov/download/download.shtml'"
   ]
  },
  {
   "cell_type": "code",
   "execution_count": 15,
   "metadata": {},
   "outputs": [
    {
     "name": "stdout",
     "output_type": "stream",
     "text": [
      " United States Code ha cambiado 3 títulos.\n"
     ]
    }
   ],
   "source": [
    "dataUS = requests.get(urlUS).text\n",
    "soupUS = BeautifulSoup(dataUS, 'html.parser')\n",
    "\n",
    "def extractTitle():\n",
    "    titles=soupUS.select ('.usctitlechanged')\n",
    "    \n",
    "    return [title.text.strip() for title in titles]\n",
    "\n",
    "changed_titles= extractTitle()\n",
    "print(' United States Code ha cambiado', len(changed_titles),'títulos.')"
   ]
  },
  {
   "cell_type": "markdown",
   "metadata": {},
   "source": [
    "#### A Python list with the top ten FBI's Most Wanted names "
   ]
  },
  {
   "cell_type": "code",
   "execution_count": 16,
   "metadata": {},
   "outputs": [],
   "source": [
    "# This is the url you will scrape in this exercise\n",
    "\n",
    "#Accedo a través web.archive.org  a una versión en caché porque la url que indica el ejercicio está restringida\n",
    "\n",
    "urlFBI = 'https://web.archive.org/web/20200116041853/https://www.fbi.gov/wanted/topten'"
   ]
  },
  {
   "cell_type": "code",
   "execution_count": 17,
   "metadata": {},
   "outputs": [
    {
     "name": "stdout",
     "output_type": "stream",
     "text": [
      "La lista de los más buscados por el FBI: ['SANTIAGO VILLALBA MEDEROS', 'RAFAEL CARO-QUINTERO', 'ROBERT WILLIAM FISHER', 'BHADRESHKUMAR CHETANBHAI PATEL', 'ARNOLDO JIMENEZ', 'ALEJANDRO ROSALES CASTILLO', 'YASER ABDEL SAID', 'JASON DEREK BROWN', 'ALEXIS FLORES', 'EUGENE PALMER']\n"
     ]
    }
   ],
   "source": [
    "dataFBI= requests.get(urlFBI).text\n",
    "soupFBI= BeautifulSoup(dataFBI, 'html.parser')\n",
    "\n",
    "def top10FBI():\n",
    "    top10=soupFBI.select ('h3.title a[href]')\n",
    "    \n",
    "    return [top.text.strip() for top in top10]\n",
    "\n",
    "mostWanted= top10FBI()\n",
    "print('La lista de los más buscados por el FBI:', mostWanted)\n"
   ]
  },
  {
   "cell_type": "markdown",
   "metadata": {},
   "source": [
    "####  20 latest earthquakes info (date, time, latitude, longitude and region name) by the EMSC as a pandas dataframe"
   ]
  },
  {
   "cell_type": "code",
   "execution_count": 18,
   "metadata": {},
   "outputs": [],
   "source": [
    "# This is the url you will scrape in this exercise\n",
    "urlEMSC = 'https://www.emsc-csem.org/Earthquake/'"
   ]
  },
  {
   "cell_type": "code",
   "execution_count": 19,
   "metadata": {},
   "outputs": [
    {
     "name": "stdout",
     "output_type": "stream",
     "text": [
      "<th class=\"th2\" colspan=\"2\" onclick=\"change_tri('im_lon');\" onmouseout=\"change_image(this,'out','im_lon');\" onmouseover=\"change_image(this,'over','im_lon');\">Longitude <span class=\"spriteorig sp_s_asc\" id=\"im_lon\" style=\"display:none;\"></span><div style=\"font-weight:normal;\">degrees</div></th>\n",
      "---------------------------------------------------------------------------------------------------------\n",
      "\n",
      "['CitizenResponse', 'Date & Time UTC', 'Latitude degrees', 'Longitude degrees', 'Depth km', 'Mag  [+]', 'Region name  [+]', 'Last update [-]']\n",
      "---------------------------------------------------------------------------------------------------------\n",
      "\n"
     ]
    },
    {
     "data": {
      "text/plain": [
       "'def procesaFila(list_th):\\n    m = list_th.find_all(\"td\")\\n    print(m[1])\\n    return {\\n        \"date&time\":m[1].find(\".tabev6 a\").text.strip(),\\n        \"latitude\":int(m[2].text),\\n        \"longitude\":int(m[3].text),\\n        \"region\":int(m[4].text)\\n    }\\n    \\nearthquaters = soupEMSC.find_all(\\'tbody\\')\\nearthquaters_dict = [procesaFila(fila) for fila in earthquaters.find_all(\"tr\")[1:]]'"
      ]
     },
     "execution_count": 19,
     "metadata": {},
     "output_type": "execute_result"
    }
   ],
   "source": [
    "dataEMSC= requests.get(urlEMSC).text\n",
    "soupEMSC=BeautifulSoup(dataEMSC, 'html.parser')\n",
    "\n",
    "th=soupEMSC.find_all('th')\n",
    "\n",
    "\n",
    "print(th[3])\n",
    "print('---------------------------------------------------------------------------------------------------------\\n')\n",
    "\n",
    "list_th=[]\n",
    "for e in th:\n",
    "    list_th.append(e.text)\n",
    "\n",
    "print(list_th)\n",
    "print('---------------------------------------------------------------------------------------------------------\\n')\n",
    "\n",
    "'''def procesaFila(list_th):\n",
    "    m = list_th.find_all(\"td\")\n",
    "    print(m[1])\n",
    "    return {\n",
    "        \"date&time\":m[1].find(\".tabev6 a\").text.strip(),\n",
    "        \"latitude\":int(m[2].text),\n",
    "        \"longitude\":int(m[3].text),\n",
    "        \"region\":int(m[4].text)\n",
    "    }\n",
    "    \n",
    "earthquaters = soupEMSC.find_all('tbody')\n",
    "earthquaters_dict = [procesaFila(fila) for fila in earthquaters.find_all(\"tr\")[1:]]'''\n"
   ]
  },
  {
   "cell_type": "markdown",
   "metadata": {},
   "source": [
    "#### Display the date, days, title, city, country of next 25 hackathon events as a Pandas dataframe table"
   ]
  },
  {
   "cell_type": "code",
   "execution_count": null,
   "metadata": {},
   "outputs": [],
   "source": [
    "# This is the url you will scrape in this exercise\n",
    "url ='https://hackevents.co/hackathons'"
   ]
  },
  {
   "cell_type": "code",
   "execution_count": null,
   "metadata": {},
   "outputs": [],
   "source": [
    "#your code"
   ]
  },
  {
   "cell_type": "markdown",
   "metadata": {},
   "source": [
    "#### Count number of tweets by a given Twitter account."
   ]
  },
  {
   "cell_type": "markdown",
   "metadata": {},
   "source": [
    "You will need to include a ***try/except block*** for account names not found. \n",
    "<br>***Hint:*** the program should count the number of tweets for any provided account"
   ]
  },
  {
   "cell_type": "code",
   "execution_count": null,
   "metadata": {},
   "outputs": [],
   "source": [
    "# This is the url you will scrape in this exercise \n",
    "# You will need to add the account credentials to this url\n",
    "url = 'https://twitter.com/'"
   ]
  },
  {
   "cell_type": "code",
   "execution_count": null,
   "metadata": {},
   "outputs": [],
   "source": [
    "#your code"
   ]
  },
  {
   "cell_type": "markdown",
   "metadata": {},
   "source": [
    "#### Number of followers of a given twitter account"
   ]
  },
  {
   "cell_type": "markdown",
   "metadata": {},
   "source": [
    "You will need to include a ***try/except block*** in case account/s name not found. \n",
    "<br>***Hint:*** the program should count the followers for any provided account"
   ]
  },
  {
   "cell_type": "code",
   "execution_count": null,
   "metadata": {},
   "outputs": [],
   "source": [
    "# This is the url you will scrape in this exercise \n",
    "# You will need to add the account credentials to this url\n",
    "url = 'https://twitter.com/'"
   ]
  },
  {
   "cell_type": "code",
   "execution_count": null,
   "metadata": {},
   "outputs": [],
   "source": [
    "#your code"
   ]
  },
  {
   "cell_type": "markdown",
   "metadata": {},
   "source": [
    "#### List all language names and number of related articles in the order they appear in wikipedia.org"
   ]
  },
  {
   "cell_type": "code",
   "execution_count": null,
   "metadata": {},
   "outputs": [],
   "source": [
    "# This is the url you will scrape in this exercise\n",
    "url = 'https://www.wikipedia.org/'"
   ]
  },
  {
   "cell_type": "code",
   "execution_count": null,
   "metadata": {},
   "outputs": [],
   "source": [
    "#your code"
   ]
  },
  {
   "cell_type": "markdown",
   "metadata": {},
   "source": [
    "#### A list with the different kind of datasets available in data.gov.uk "
   ]
  },
  {
   "cell_type": "code",
   "execution_count": null,
   "metadata": {},
   "outputs": [],
   "source": [
    "# This is the url you will scrape in this exercise\n",
    "url = 'https://data.gov.uk/'"
   ]
  },
  {
   "cell_type": "code",
   "execution_count": null,
   "metadata": {},
   "outputs": [],
   "source": [
    "#your code "
   ]
  },
  {
   "cell_type": "markdown",
   "metadata": {},
   "source": [
    "#### Top 10 languages by number of native speakers stored in a Pandas Dataframe"
   ]
  },
  {
   "cell_type": "code",
   "execution_count": null,
   "metadata": {},
   "outputs": [],
   "source": [
    "# This is the url you will scrape in this exercise\n",
    "url = 'https://en.wikipedia.org/wiki/List_of_languages_by_number_of_native_speakers'"
   ]
  },
  {
   "cell_type": "code",
   "execution_count": null,
   "metadata": {},
   "outputs": [],
   "source": [
    "#your code"
   ]
  },
  {
   "cell_type": "markdown",
   "metadata": {},
   "source": [
    "### BONUS QUESTIONS"
   ]
  },
  {
   "cell_type": "markdown",
   "metadata": {},
   "source": [
    "#### Scrape a certain number of tweets of a given Twitter account."
   ]
  },
  {
   "cell_type": "code",
   "execution_count": null,
   "metadata": {},
   "outputs": [],
   "source": [
    "# This is the url you will scrape in this exercise \n",
    "# You will need to add the account credentials to this url\n",
    "url = 'https://twitter.com/'"
   ]
  },
  {
   "cell_type": "code",
   "execution_count": null,
   "metadata": {},
   "outputs": [],
   "source": [
    "# your code"
   ]
  },
  {
   "cell_type": "markdown",
   "metadata": {},
   "source": [
    "#### IMDB's Top 250 data (movie name, Initial release, director name and stars) as a pandas dataframe"
   ]
  },
  {
   "cell_type": "code",
   "execution_count": null,
   "metadata": {},
   "outputs": [],
   "source": [
    "# This is the url you will scrape in this exercise \n",
    "url = 'https://www.imdb.com/chart/top'"
   ]
  },
  {
   "cell_type": "code",
   "execution_count": null,
   "metadata": {},
   "outputs": [],
   "source": [
    "# your code"
   ]
  },
  {
   "cell_type": "markdown",
   "metadata": {},
   "source": [
    "#### Movie name, year and a brief summary of the top 10 random movies (IMDB) as a pandas dataframe."
   ]
  },
  {
   "cell_type": "code",
   "execution_count": null,
   "metadata": {},
   "outputs": [],
   "source": [
    "#This is the url you will scrape in this exercise\n",
    "url = 'http://www.imdb.com/chart/top'"
   ]
  },
  {
   "cell_type": "code",
   "execution_count": null,
   "metadata": {},
   "outputs": [],
   "source": [
    "#your code"
   ]
  },
  {
   "cell_type": "markdown",
   "metadata": {},
   "source": [
    "#### Find the live weather report (temperature, wind speed, description and weather) of a given city."
   ]
  },
  {
   "cell_type": "code",
   "execution_count": null,
   "metadata": {},
   "outputs": [],
   "source": [
    "#https://openweathermap.org/current\n",
    "city = city=input('Enter the city:')\n",
    "url = 'http://api.openweathermap.org/data/2.5/weather?'+'q='+city+'&APPID=b35975e18dc93725acb092f7272cc6b8&units=metric'"
   ]
  },
  {
   "cell_type": "code",
   "execution_count": null,
   "metadata": {},
   "outputs": [],
   "source": [
    "# your code"
   ]
  },
  {
   "cell_type": "markdown",
   "metadata": {},
   "source": [
    "#### Book name,price and stock availability as a pandas dataframe."
   ]
  },
  {
   "cell_type": "code",
   "execution_count": null,
   "metadata": {},
   "outputs": [],
   "source": [
    "# This is the url you will scrape in this exercise. \n",
    "# It is a fictional bookstore created to be scraped. \n",
    "url = 'http://books.toscrape.com/'"
   ]
  },
  {
   "cell_type": "code",
   "execution_count": null,
   "metadata": {},
   "outputs": [],
   "source": [
    "#your code"
   ]
  }
 ],
 "metadata": {
  "kernelspec": {
   "display_name": "Python 3",
   "language": "python",
   "name": "python3"
  },
  "language_info": {
   "codemirror_mode": {
    "name": "ipython",
    "version": 3
   },
   "file_extension": ".py",
   "mimetype": "text/x-python",
   "name": "python",
   "nbconvert_exporter": "python",
   "pygments_lexer": "ipython3",
   "version": "3.7.6"
  }
 },
 "nbformat": 4,
 "nbformat_minor": 2
}
