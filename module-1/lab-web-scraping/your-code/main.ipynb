{
 "cells": [
  {
   "cell_type": "markdown",
   "metadata": {},
   "source": [
    "# Web Scraping Lab\n",
    "\n",
    "You will find in this notebook some scrapy exercises to practise your scraping skills.\n",
    "\n",
    "**Tips:**\n",
    "\n",
    "- Check the response status code for each request to ensure you have obtained the intended contennt.\n",
    "- Print the response text in each request to understand the kind of info you are getting and its format.\n",
    "- Check for patterns in the response text to extract the data/info requested in each question.\n",
    "- Visit each url and take a look at its source through Chrome DevTools. You'll need to identify the html tags, special class names etc. used for the html content you are expected to extract."
   ]
  },
  {
   "cell_type": "markdown",
   "metadata": {},
   "source": [
    "- [Requests library](http://docs.python-requests.org/en/master/#the-user-guide) documentation \n",
    "- [Beautiful Soup Doc](https://www.crummy.com/software/BeautifulSoup/bs4/doc/)\n",
    "- [Urllib](https://docs.python.org/3/library/urllib.html#module-urllib)\n",
    "- [re lib](https://docs.python.org/3/library/re.html)\n",
    "- [lxml lib](https://lxml.de/)\n",
    "- [Scrapy](https://scrapy.org/)\n",
    "- [List of HTTP status codes](https://en.wikipedia.org/wiki/List_of_HTTP_status_codes)\n",
    "- [HTML basics](http://www.simplehtmlguide.com/cheatsheet.php)\n",
    "- [CSS basics](https://www.cssbasics.com/#page_start)"
   ]
  },
  {
   "cell_type": "markdown",
   "metadata": {},
   "source": [
    "#### Below are the libraries and modules you may need. `requests`,  `BeautifulSoup` and `pandas` are imported for you. If you prefer to use additional libraries feel free to uncomment them."
   ]
  },
  {
   "cell_type": "code",
   "execution_count": 4,
   "metadata": {},
   "outputs": [],
   "source": [
    "import requests\n",
    "from bs4 import BeautifulSoup\n",
    "import pandas as pd\n",
    "# from pprint import pprint\n",
    "# from lxml import html\n",
    "# from lxml.html import fromstring\n",
    "# import urllib.request\n",
    "# from urllib.request import urlopen\n",
    "# import random\n",
    "# import re\n",
    "# import scrapy"
   ]
  },
  {
   "cell_type": "markdown",
   "metadata": {},
   "source": [
    "#### Download, parse (using BeautifulSoup), and print the content from the Trending Developers page from GitHub:"
   ]
  },
  {
   "cell_type": "code",
   "execution_count": 3,
   "metadata": {},
   "outputs": [],
   "source": [
    "# This is the url you will scrape in this exercise\n",
    "url = 'https://github.com/trending/developers'"
   ]
  },
  {
   "cell_type": "code",
   "execution_count": 38,
   "metadata": {},
   "outputs": [],
   "source": [
    "data = requests.get(url).text\n",
    "html = BeautifulSoup(data, 'html.parser')\n",
    "tags = [e.find_all(\"a\") for e in html.select(\".h3.lh-condensed\")]\n"
   ]
  },
  {
   "cell_type": "markdown",
   "metadata": {},
   "source": [
    "#### Display the names of the trending developers retrieved in the previous step.\n",
    "\n",
    "Your output should be a Python list of developer names. Each name should not contain any html tag.\n",
    "\n",
    "**Instructions:**\n",
    "\n",
    "1. Find out the html tag and class names used for the developer names. You can achieve this using Chrome DevTools.\n",
    "\n",
    "1. Use BeautifulSoup to extract all the html elements that contain the developer names.\n",
    "\n",
    "1. Use string manipulation techniques to replace whitespaces and linebreaks (i.e. `\\n`) in the *text* of each html element. Use a list to store the clean names.\n",
    "\n",
    "1. Print the list of names.\n",
    "\n",
    "Your output should look like below:\n",
    "\n",
    "```\n",
    "['trimstray (@trimstray)',\n",
    " 'joewalnes (JoeWalnes)',\n",
    " 'charlax (Charles-AxelDein)',\n",
    " 'ForrestKnight (ForrestKnight)',\n",
    " 'revery-ui (revery-ui)',\n",
    " 'alibaba (Alibaba)',\n",
    " 'Microsoft (Microsoft)',\n",
    " 'github (GitHub)',\n",
    " 'facebook (Facebook)',\n",
    " 'boazsegev (Bo)',\n",
    " 'google (Google)',\n",
    " 'cloudfetch',\n",
    " 'sindresorhus (SindreSorhus)',\n",
    " 'tensorflow',\n",
    " 'apache (TheApacheSoftwareFoundation)',\n",
    " 'DevonCrawford (DevonCrawford)',\n",
    " 'ARMmbed (ArmMbed)',\n",
    " 'vuejs (vuejs)',\n",
    " 'fastai (fast.ai)',\n",
    " 'QiShaoXuan (Qi)',\n",
    " 'joelparkerhenderson (JoelParkerHenderson)',\n",
    " 'torvalds (LinusTorvalds)',\n",
    " 'CyC2018',\n",
    " 'komeiji-satori (神楽坂覚々)',\n",
    " 'script-8']\n",
    " ```"
   ]
  },
  {
   "cell_type": "code",
   "execution_count": 40,
   "metadata": {},
   "outputs": [
    {
     "data": {
      "text/plain": [
       "['mattn',\n",
       " 'Andreas Mueller',\n",
       " 'Brian C',\n",
       " 'Erik Schierboom',\n",
       " 'John Sundell',\n",
       " 'Siddharth Kshetrapal',\n",
       " 'Jason Williams',\n",
       " 'Kyle Conroy',\n",
       " 'Anthony Sottile',\n",
       " 'William Candillon',\n",
       " 'Colin Rofls',\n",
       " 'Filip Skokan',\n",
       " 'Amila Welihinda',\n",
       " 'Kristoffer Carlsson',\n",
       " 'Giulio Canti',\n",
       " 'greatghoul',\n",
       " 'Miek Gieben',\n",
       " 'Jesse Katsumata',\n",
       " 'Lucas Michot',\n",
       " 'Adam Geitgey',\n",
       " 'Philipp Oppermann',\n",
       " 'Tony Narlock',\n",
       " 'isaacs',\n",
       " 'Florian Rival',\n",
       " 'Satyajit Sahoo']"
      ]
     },
     "execution_count": 40,
     "metadata": {},
     "output_type": "execute_result"
    }
   ],
   "source": [
    "names = [d.text.strip() for e in tags for d in e]\n",
    "names"
   ]
  },
  {
   "cell_type": "markdown",
   "metadata": {},
   "source": [
    "#### Display the trending Python repositories in GitHub\n",
    "\n",
    "The steps to solve this problem is similar to the previous one except that you need to find out the repository names instead of developer names."
   ]
  },
  {
   "cell_type": "code",
   "execution_count": 5,
   "metadata": {},
   "outputs": [],
   "source": [
    "# This is the url you will scrape in this exercise\n",
    "url = 'https://github.com/trending/python?since=daily'"
   ]
  },
  {
   "cell_type": "code",
   "execution_count": 6,
   "metadata": {},
   "outputs": [],
   "source": [
    "data = requests.get(url).text\n",
    "html = BeautifulSoup(data, 'html.parser')\n"
   ]
  },
  {
   "cell_type": "code",
   "execution_count": 20,
   "metadata": {},
   "outputs": [
    {
     "data": {
      "text/plain": [
       "['DXY-2019-nCoV-Crawler',\n",
       " 'python-cheatsheet',\n",
       " 'spiderfoot',\n",
       " 'NLP-progress',\n",
       " 'sight',\n",
       " 'Awesome-Linux-Software',\n",
       " 'awesome-python',\n",
       " 'rex-gym',\n",
       " 'DAIN',\n",
       " 'interpy-zh',\n",
       " 'fastapi',\n",
       " 'thinc',\n",
       " 'rich',\n",
       " 'Vieux',\n",
       " 'vardbg',\n",
       " 'Deep-Learning-with-TensorFlow-book',\n",
       " 'bpf-perf-tools-book',\n",
       " 'google-cloud-python',\n",
       " 'anchore-engine',\n",
       " 'tinder-swipe-bot',\n",
       " 'captum',\n",
       " 'Eel',\n",
       " 'policy_sentry',\n",
       " 'anomaly-detection-resources',\n",
       " 'daily-coding-problem']"
      ]
     },
     "execution_count": 20,
     "metadata": {},
     "output_type": "execute_result"
    }
   ],
   "source": [
    "tags = html.select(\".h3.lh-condensed > a\")\n",
    "repos = [e.text.split(\"/\")[1].strip() for e in tags ]\n",
    "repos"
   ]
  },
  {
   "cell_type": "markdown",
   "metadata": {},
   "source": [
    "#### Display all the image links from Walt Disney wikipedia page"
   ]
  },
  {
   "cell_type": "code",
   "execution_count": 59,
   "metadata": {},
   "outputs": [],
   "source": [
    "# This is the url you will scrape in this exercise\n",
    "url = 'https://en.wikipedia.org/wiki/Walt_Disney'\n",
    "data = requests.get(url).text\n",
    "html = BeautifulSoup(data, 'html.parser')"
   ]
  },
  {
   "cell_type": "code",
   "execution_count": 91,
   "metadata": {},
   "outputs": [
    {
     "data": {
      "text/plain": [
       "['https://en.wikipedia.org/wiki/Walt_Disney#/media/File:Walt_Disney_1946.JPG',\n",
       " 'https://en.wikipedia.org/wiki/Walt_Disney#/media/File:Walt_Disney_1942_signature.svg',\n",
       " 'https://en.wikipedia.org/wiki/Walt_Disney#/media/File:Walt_Disney_envelope_ca._1921.jpg',\n",
       " 'https://en.wikipedia.org/wiki/Walt_Disney#/media/File:Trolley_Troubles_poster.jpg',\n",
       " 'https://en.wikipedia.org/wiki/Walt_Disney#/media/File:Walt_Disney_and_his_cartoon_creation_%22Mickey_Mouse%22_-_National_Board_of_Review_Magazine.jpg',\n",
       " 'https://en.wikipedia.org/wiki/Walt_Disney#/media/File:Steamboat-willie.jpg',\n",
       " 'https://en.wikipedia.org/wiki/Walt_Disney#/media/File:Walt_Disney_1935.jpg',\n",
       " 'https://en.wikipedia.org/wiki/Walt_Disney#/media/File:Walt_Disney_Snow_white_1937_trailer_screenshot_(13).jpg',\n",
       " 'https://en.wikipedia.org/wiki/Walt_Disney#/media/File:Disney_drawing_goofy.jpg',\n",
       " 'https://en.wikipedia.org/wiki/Walt_Disney#/media/File:DisneySchiphol1951.jpg',\n",
       " 'https://en.wikipedia.org/wiki/Walt_Disney#/media/File:WaltDisneyplansDisneylandDec1954.jpg',\n",
       " 'https://en.wikipedia.org/wiki/Walt_Disney#/media/File:Walt_disney_portrait_right.jpg',\n",
       " 'https://en.wikipedia.org/wiki/Walt_Disney#/media/File:Walt_Disney_Grave.JPG',\n",
       " 'https://en.wikipedia.org/wiki/Walt_Disney#/media/File:Roy_O._Disney_with_Company_at_Press_Conference.jpg',\n",
       " 'https://en.wikipedia.org/wiki/Walt_Disney#/media/File:Disney_Display_Case.JPG',\n",
       " 'https://en.wikipedia.org/wiki/Walt_Disney#/media/File:Disney1968.jpg',\n",
       " 'https://en.wikipedia.org/wiki/Walt_Disney#/media/File:The_Walt_Disney_Company_Logo.svg',\n",
       " 'https://en.wikipedia.org/wiki/Walt_Disney#/media/File:Animation_disc.svg',\n",
       " 'https://en.wikipedia.org/wiki/Walt_Disney#/media/File:P_vip.svg',\n",
       " 'https://en.wikipedia.org/wiki/Walt_Disney#/media/File:Magic_Kingdom_castle.jpg',\n",
       " 'https://en.wikipedia.org/wiki/Walt_Disney#/media/File:Video-x-generic.svg',\n",
       " 'https://en.wikipedia.org/wiki/Walt_Disney#/media/File:Flag_of_Los_Angeles_County,_California.svg',\n",
       " 'https://en.wikipedia.org/wiki/Walt_Disney#/media/File:Blank_television_set.svg',\n",
       " 'https://en.wikipedia.org/wiki/Walt_Disney#/media/File:Flag_of_the_United_States.svg']"
      ]
     },
     "execution_count": 91,
     "metadata": {},
     "output_type": "execute_result"
    }
   ],
   "source": [
    "tags = html.select(\".image\")\n",
    "images = [url +\"#/media\" + e.attrs[\"href\"][5:] for e in tags]\n",
    "images\n",
    "#https://en.wikipedia.org/wiki/Walt_Disney#/media/File:Walt_Disney_1946.JPG"
   ]
  },
  {
   "cell_type": "markdown",
   "metadata": {},
   "source": [
    "#### Retrieve an arbitary Wikipedia page of \"Python\" and create a list of links on that page"
   ]
  },
  {
   "cell_type": "code",
   "execution_count": 103,
   "metadata": {},
   "outputs": [],
   "source": [
    "# This is the url you will scrape in this exercise\n",
    "url ='https://en.wikipedia.org/wiki/Python'\n",
    "url = \"https://en.wikipedia.org/wiki/Python_(mythology)\"\n",
    "data = requests.get(url).text\n",
    "html = BeautifulSoup(data, 'html.parser')"
   ]
  },
  {
   "cell_type": "code",
   "execution_count": 108,
   "metadata": {},
   "outputs": [
    {
     "name": "stdout",
     "output_type": "stream",
     "text": [
      "235 10 245\n"
     ]
    }
   ],
   "source": [
    "tags_a = [e.attrs[\"href\"] for e in html.find_all(\"a\") if \"href\" in e.attrs.keys()]\n",
    "tags_img = [e.attrs[\"src\"] for e in html.find_all(\"img\") if \"src\" in e.attrs.keys()]\n",
    "links = tags_a +  tags_img\n",
    "print(len(tags_a), len(tags_img), len(links))\n",
    "#links"
   ]
  },
  {
   "cell_type": "markdown",
   "metadata": {},
   "source": [
    "#### Number of Titles that have changed in the United States Code since its last release point "
   ]
  },
  {
   "cell_type": "code",
   "execution_count": 109,
   "metadata": {},
   "outputs": [],
   "source": [
    "# This is the url you will scrape in this exercise\n",
    "url = 'http://uscode.house.gov/download/download.shtml'\n",
    "data = requests.get(url).text\n",
    "html = BeautifulSoup(data, 'html.parser')"
   ]
  },
  {
   "cell_type": "code",
   "execution_count": 125,
   "metadata": {},
   "outputs": [
    {
     "name": "stdout",
     "output_type": "stream",
     "text": [
      "['Title 18 - Crimes and Criminal Procedure ٭', 'Title 20 - Education', 'Title 26 - Internal Revenue Code']\n"
     ]
    },
    {
     "data": {
      "text/plain": [
       "3"
      ]
     },
     "execution_count": 125,
     "metadata": {},
     "output_type": "execute_result"
    }
   ],
   "source": [
    "tags = html.select(\".usctitlechanged\")\n",
    "titles = [e.text.strip() for e in tags]\n",
    "print(titles) \n",
    "len(titles)"
   ]
  },
  {
   "cell_type": "markdown",
   "metadata": {},
   "source": [
    "#### A Python list with the top ten FBI's Most Wanted names "
   ]
  },
  {
   "cell_type": "code",
   "execution_count": 126,
   "metadata": {},
   "outputs": [],
   "source": [
    "# This is the url you will scrape in this exercise\n",
    "url = 'https://www.fbi.gov/wanted/topten'\n",
    "data = requests.get(url).text\n",
    "html = BeautifulSoup(data, 'html.parser')"
   ]
  },
  {
   "cell_type": "code",
   "execution_count": 131,
   "metadata": {},
   "outputs": [
    {
     "data": {
      "text/plain": [
       "['JASON DEREK BROWN',\n",
       " 'ALEXIS FLORES',\n",
       " 'EUGENE PALMER',\n",
       " 'SANTIAGO VILLALBA MEDEROS',\n",
       " 'RAFAEL CARO-QUINTERO',\n",
       " 'ROBERT WILLIAM FISHER',\n",
       " 'BHADRESHKUMAR CHETANBHAI PATEL',\n",
       " 'ARNOLDO JIMENEZ',\n",
       " 'ALEJANDRO ROSALES CASTILLO',\n",
       " 'YASER ABDEL SAID']"
      ]
     },
     "execution_count": 131,
     "metadata": {},
     "output_type": "execute_result"
    }
   ],
   "source": [
    "tags = html.select(\"h3 > a\")\n",
    "top_ten = [e.text.strip() for e in tags]\n",
    "top_ten\n"
   ]
  },
  {
   "cell_type": "markdown",
   "metadata": {},
   "source": [
    "####  20 latest earthquakes info (date, time, latitude, longitude and region name) by the EMSC as a pandas dataframe"
   ]
  },
  {
   "cell_type": "code",
   "execution_count": 173,
   "metadata": {},
   "outputs": [],
   "source": [
    "# This is the url you will scrape in this exercise\n",
    "url = 'https://www.emsc-csem.org/Earthquake/'\n",
    "data = requests.get(url).text\n",
    "html = BeautifulSoup(data, 'html.parser')"
   ]
  },
  {
   "cell_type": "code",
   "execution_count": 189,
   "metadata": {},
   "outputs": [
    {
     "data": {
      "text/html": [
       "<div>\n",
       "<style scoped>\n",
       "    .dataframe tbody tr th:only-of-type {\n",
       "        vertical-align: middle;\n",
       "    }\n",
       "\n",
       "    .dataframe tbody tr th {\n",
       "        vertical-align: top;\n",
       "    }\n",
       "\n",
       "    .dataframe thead th {\n",
       "        text-align: right;\n",
       "    }\n",
       "</style>\n",
       "<table border=\"1\" class=\"dataframe\">\n",
       "  <thead>\n",
       "    <tr style=\"text-align: right;\">\n",
       "      <th></th>\n",
       "      <th>Date</th>\n",
       "      <th>Time</th>\n",
       "      <th>Latitude</th>\n",
       "      <th>Longitude</th>\n",
       "      <th>Region Name</th>\n",
       "    </tr>\n",
       "  </thead>\n",
       "  <tbody>\n",
       "    <tr>\n",
       "      <th>0</th>\n",
       "      <td>(2020-01-30)</td>\n",
       "      <td>(16:07:04.6)</td>\n",
       "      <td>35.66</td>\n",
       "      <td>117.48</td>\n",
       "      <td>SOUTHERN CALIFORNIA</td>\n",
       "    </tr>\n",
       "    <tr>\n",
       "      <th>1</th>\n",
       "      <td>(2020-01-30)</td>\n",
       "      <td>(16:03:06.9)</td>\n",
       "      <td>36.70</td>\n",
       "      <td>121.36</td>\n",
       "      <td>CENTRAL CALIFORNIA</td>\n",
       "    </tr>\n",
       "    <tr>\n",
       "      <th>2</th>\n",
       "      <td>(2020-01-30)</td>\n",
       "      <td>(15:47:59.5)</td>\n",
       "      <td>19.49</td>\n",
       "      <td>155.24</td>\n",
       "      <td>ISLAND OF HAWAII, HAWAII</td>\n",
       "    </tr>\n",
       "    <tr>\n",
       "      <th>3</th>\n",
       "      <td>(2020-01-30)</td>\n",
       "      <td>(15:31:32.7)</td>\n",
       "      <td>19.12</td>\n",
       "      <td>155.42</td>\n",
       "      <td>ISLAND OF HAWAII, HAWAII</td>\n",
       "    </tr>\n",
       "    <tr>\n",
       "      <th>4</th>\n",
       "      <td>(2020-01-30)</td>\n",
       "      <td>(15:31:31.5)</td>\n",
       "      <td>39.24</td>\n",
       "      <td>18.72</td>\n",
       "      <td>SOUTHERN ITALY</td>\n",
       "    </tr>\n",
       "    <tr>\n",
       "      <th>5</th>\n",
       "      <td>(2020-01-30)</td>\n",
       "      <td>(15:30:47.4)</td>\n",
       "      <td>39.06</td>\n",
       "      <td>27.86</td>\n",
       "      <td>WESTERN TURKEY</td>\n",
       "    </tr>\n",
       "    <tr>\n",
       "      <th>6</th>\n",
       "      <td>(2020-01-30)</td>\n",
       "      <td>(15:27:18.0)</td>\n",
       "      <td>49.41</td>\n",
       "      <td>0.01</td>\n",
       "      <td>FRANCE</td>\n",
       "    </tr>\n",
       "    <tr>\n",
       "      <th>7</th>\n",
       "      <td>(2020-01-30)</td>\n",
       "      <td>(15:24:22.0)</td>\n",
       "      <td>16.85</td>\n",
       "      <td>100.10</td>\n",
       "      <td>OFFSHORE GUERRERO, MEXICO</td>\n",
       "    </tr>\n",
       "    <tr>\n",
       "      <th>8</th>\n",
       "      <td>(2020-01-30)</td>\n",
       "      <td>(15:12:32.6)</td>\n",
       "      <td>35.28</td>\n",
       "      <td>28.06</td>\n",
       "      <td>EASTERN MEDITERRANEAN SEA</td>\n",
       "    </tr>\n",
       "    <tr>\n",
       "      <th>9</th>\n",
       "      <td>(2020-01-30)</td>\n",
       "      <td>(15:02:42.4)</td>\n",
       "      <td>39.08</td>\n",
       "      <td>27.85</td>\n",
       "      <td>WESTERN TURKEY</td>\n",
       "    </tr>\n",
       "    <tr>\n",
       "      <th>10</th>\n",
       "      <td>(2020-01-30)</td>\n",
       "      <td>(15:00:42.9)</td>\n",
       "      <td>56.45</td>\n",
       "      <td>150.00</td>\n",
       "      <td>GULF OF ALASKA</td>\n",
       "    </tr>\n",
       "    <tr>\n",
       "      <th>11</th>\n",
       "      <td>(2020-01-30)</td>\n",
       "      <td>(14:48:15.7)</td>\n",
       "      <td>39.09</td>\n",
       "      <td>27.83</td>\n",
       "      <td>WESTERN TURKEY</td>\n",
       "    </tr>\n",
       "    <tr>\n",
       "      <th>12</th>\n",
       "      <td>(2020-01-30)</td>\n",
       "      <td>(14:43:53.4)</td>\n",
       "      <td>36.70</td>\n",
       "      <td>121.34</td>\n",
       "      <td>CENTRAL CALIFORNIA</td>\n",
       "    </tr>\n",
       "    <tr>\n",
       "      <th>13</th>\n",
       "      <td>(2020-01-30)</td>\n",
       "      <td>(14:21:45.6)</td>\n",
       "      <td>39.09</td>\n",
       "      <td>27.81</td>\n",
       "      <td>WESTERN TURKEY</td>\n",
       "    </tr>\n",
       "    <tr>\n",
       "      <th>14</th>\n",
       "      <td>(2020-01-30)</td>\n",
       "      <td>(14:18:04.3)</td>\n",
       "      <td>38.53</td>\n",
       "      <td>122.33</td>\n",
       "      <td>NORTHERN CALIFORNIA</td>\n",
       "    </tr>\n",
       "    <tr>\n",
       "      <th>15</th>\n",
       "      <td>(2020-01-30)</td>\n",
       "      <td>(14:10:03.1)</td>\n",
       "      <td>35.03</td>\n",
       "      <td>28.01</td>\n",
       "      <td>EASTERN MEDITERRANEAN SEA</td>\n",
       "    </tr>\n",
       "    <tr>\n",
       "      <th>16</th>\n",
       "      <td>(2020-01-30)</td>\n",
       "      <td>(14:04:30.3)</td>\n",
       "      <td>19.24</td>\n",
       "      <td>155.42</td>\n",
       "      <td>ISLAND OF HAWAII, HAWAII</td>\n",
       "    </tr>\n",
       "    <tr>\n",
       "      <th>17</th>\n",
       "      <td>(2020-01-30)</td>\n",
       "      <td>(14:03:55.1)</td>\n",
       "      <td>39.09</td>\n",
       "      <td>27.83</td>\n",
       "      <td>WESTERN TURKEY</td>\n",
       "    </tr>\n",
       "    <tr>\n",
       "      <th>18</th>\n",
       "      <td>(2020-01-30)</td>\n",
       "      <td>(14:02:26.9)</td>\n",
       "      <td>35.01</td>\n",
       "      <td>27.97</td>\n",
       "      <td>DODECANESE ISLANDS, GREECE</td>\n",
       "    </tr>\n",
       "    <tr>\n",
       "      <th>19</th>\n",
       "      <td>(2020-01-30)</td>\n",
       "      <td>(13:52:48.8)</td>\n",
       "      <td>39.11</td>\n",
       "      <td>27.83</td>\n",
       "      <td>WESTERN TURKEY</td>\n",
       "    </tr>\n",
       "    <tr>\n",
       "      <th>20</th>\n",
       "      <td>(2020-01-30)</td>\n",
       "      <td>(13:52:37.5)</td>\n",
       "      <td>36.72</td>\n",
       "      <td>5.67</td>\n",
       "      <td>NORTHERN ALGERIA</td>\n",
       "    </tr>\n",
       "    <tr>\n",
       "      <th>21</th>\n",
       "      <td>(2020-01-30)</td>\n",
       "      <td>(13:49:03.1)</td>\n",
       "      <td>38.48</td>\n",
       "      <td>39.28</td>\n",
       "      <td>EASTERN TURKEY</td>\n",
       "    </tr>\n",
       "    <tr>\n",
       "      <th>22</th>\n",
       "      <td>(2020-01-30)</td>\n",
       "      <td>(13:37:10.0)</td>\n",
       "      <td>0.99</td>\n",
       "      <td>127.28</td>\n",
       "      <td>HALMAHERA, INDONESIA</td>\n",
       "    </tr>\n",
       "    <tr>\n",
       "      <th>23</th>\n",
       "      <td>(2020-01-30)</td>\n",
       "      <td>(13:18:46.9)</td>\n",
       "      <td>38.99</td>\n",
       "      <td>27.85</td>\n",
       "      <td>WESTERN TURKEY</td>\n",
       "    </tr>\n",
       "    <tr>\n",
       "      <th>24</th>\n",
       "      <td>(2020-01-30)</td>\n",
       "      <td>(13:15:24.0)</td>\n",
       "      <td>10.04</td>\n",
       "      <td>160.85</td>\n",
       "      <td>SOLOMON ISLANDS</td>\n",
       "    </tr>\n",
       "    <tr>\n",
       "      <th>25</th>\n",
       "      <td>(2020-01-30)</td>\n",
       "      <td>(12:45:53.1)</td>\n",
       "      <td>35.14</td>\n",
       "      <td>27.98</td>\n",
       "      <td>DODECANESE ISLANDS, GREECE</td>\n",
       "    </tr>\n",
       "    <tr>\n",
       "      <th>26</th>\n",
       "      <td>(2020-01-30)</td>\n",
       "      <td>(12:45:11.3)</td>\n",
       "      <td>29.62</td>\n",
       "      <td>52.13</td>\n",
       "      <td>SOUTHERN IRAN</td>\n",
       "    </tr>\n",
       "    <tr>\n",
       "      <th>27</th>\n",
       "      <td>(2020-01-30)</td>\n",
       "      <td>(12:43:00.3)</td>\n",
       "      <td>35.11</td>\n",
       "      <td>95.38</td>\n",
       "      <td>OKLAHOMA</td>\n",
       "    </tr>\n",
       "    <tr>\n",
       "      <th>28</th>\n",
       "      <td>(2020-01-30)</td>\n",
       "      <td>(12:17:27.3)</td>\n",
       "      <td>35.11</td>\n",
       "      <td>95.38</td>\n",
       "      <td>OKLAHOMA</td>\n",
       "    </tr>\n",
       "    <tr>\n",
       "      <th>29</th>\n",
       "      <td>(2020-01-30)</td>\n",
       "      <td>(12:15:41.0)</td>\n",
       "      <td>2.69</td>\n",
       "      <td>127.79</td>\n",
       "      <td>CERAM SEA, INDONESIA</td>\n",
       "    </tr>\n",
       "    <tr>\n",
       "      <th>30</th>\n",
       "      <td>(2020-01-30)</td>\n",
       "      <td>(12:04:42.0)</td>\n",
       "      <td>0.35</td>\n",
       "      <td>91.57</td>\n",
       "      <td>GALAPAGOS ISLANDS, ECUADOR</td>\n",
       "    </tr>\n",
       "    <tr>\n",
       "      <th>31</th>\n",
       "      <td>(2020-01-30)</td>\n",
       "      <td>(12:02:54.0)</td>\n",
       "      <td>0.34</td>\n",
       "      <td>91.58</td>\n",
       "      <td>GALAPAGOS ISLANDS, ECUADOR</td>\n",
       "    </tr>\n",
       "    <tr>\n",
       "      <th>32</th>\n",
       "      <td>(2020-01-30)</td>\n",
       "      <td>(11:54:05.2)</td>\n",
       "      <td>19.34</td>\n",
       "      <td>155.14</td>\n",
       "      <td>ISLAND OF HAWAII, HAWAII</td>\n",
       "    </tr>\n",
       "    <tr>\n",
       "      <th>33</th>\n",
       "      <td>(2020-01-30)</td>\n",
       "      <td>(11:53:41.1)</td>\n",
       "      <td>35.31</td>\n",
       "      <td>27.88</td>\n",
       "      <td>DODECANESE ISLANDS, GREECE</td>\n",
       "    </tr>\n",
       "    <tr>\n",
       "      <th>34</th>\n",
       "      <td>(2020-01-30)</td>\n",
       "      <td>(11:51:57.9)</td>\n",
       "      <td>19.34</td>\n",
       "      <td>155.12</td>\n",
       "      <td>ISLAND OF HAWAII, HAWAII</td>\n",
       "    </tr>\n",
       "    <tr>\n",
       "      <th>35</th>\n",
       "      <td>(2020-01-30)</td>\n",
       "      <td>(11:49:20.5)</td>\n",
       "      <td>35.11</td>\n",
       "      <td>95.38</td>\n",
       "      <td>OKLAHOMA</td>\n",
       "    </tr>\n",
       "    <tr>\n",
       "      <th>36</th>\n",
       "      <td>(2020-01-30)</td>\n",
       "      <td>(11:46:29.4)</td>\n",
       "      <td>35.76</td>\n",
       "      <td>27.44</td>\n",
       "      <td>DODECANESE ISLANDS, GREECE</td>\n",
       "    </tr>\n",
       "    <tr>\n",
       "      <th>37</th>\n",
       "      <td>(2020-01-30)</td>\n",
       "      <td>(11:45:08.0)</td>\n",
       "      <td>21.06</td>\n",
       "      <td>68.48</td>\n",
       "      <td>ANTOFAGASTA, CHILE</td>\n",
       "    </tr>\n",
       "    <tr>\n",
       "      <th>38</th>\n",
       "      <td>(2020-01-30)</td>\n",
       "      <td>(11:43:00.7)</td>\n",
       "      <td>35.26</td>\n",
       "      <td>27.86</td>\n",
       "      <td>DODECANESE ISLANDS, GREECE</td>\n",
       "    </tr>\n",
       "    <tr>\n",
       "      <th>39</th>\n",
       "      <td>(2020-01-30)</td>\n",
       "      <td>(11:42:30.0)</td>\n",
       "      <td>3.74</td>\n",
       "      <td>126.88</td>\n",
       "      <td>KEPULAUAN TALAUD, INDONESIA</td>\n",
       "    </tr>\n",
       "    <tr>\n",
       "      <th>40</th>\n",
       "      <td>(2020-01-30)</td>\n",
       "      <td>(11:40:07.0)</td>\n",
       "      <td>35.16</td>\n",
       "      <td>28.14</td>\n",
       "      <td>EASTERN MEDITERRANEAN SEA</td>\n",
       "    </tr>\n",
       "    <tr>\n",
       "      <th>41</th>\n",
       "      <td>(2020-01-30)</td>\n",
       "      <td>(11:32:09.4)</td>\n",
       "      <td>34.90</td>\n",
       "      <td>28.10</td>\n",
       "      <td>EASTERN MEDITERRANEAN SEA</td>\n",
       "    </tr>\n",
       "    <tr>\n",
       "      <th>42</th>\n",
       "      <td>(2020-01-30)</td>\n",
       "      <td>(11:29:09.6)</td>\n",
       "      <td>18.99</td>\n",
       "      <td>67.81</td>\n",
       "      <td>DOMINICAN REPUBLIC REGION</td>\n",
       "    </tr>\n",
       "    <tr>\n",
       "      <th>43</th>\n",
       "      <td>(2020-01-30)</td>\n",
       "      <td>(11:27:10.5)</td>\n",
       "      <td>39.08</td>\n",
       "      <td>27.85</td>\n",
       "      <td>WESTERN TURKEY</td>\n",
       "    </tr>\n",
       "    <tr>\n",
       "      <th>44</th>\n",
       "      <td>(2020-01-30)</td>\n",
       "      <td>(11:24:42.0)</td>\n",
       "      <td>23.86</td>\n",
       "      <td>67.47</td>\n",
       "      <td>ANTOFAGASTA, CHILE</td>\n",
       "    </tr>\n",
       "    <tr>\n",
       "      <th>45</th>\n",
       "      <td>(2020-01-30)</td>\n",
       "      <td>(11:21:36.5)</td>\n",
       "      <td>35.08</td>\n",
       "      <td>27.80</td>\n",
       "      <td>DODECANESE ISLANDS, GREECE</td>\n",
       "    </tr>\n",
       "    <tr>\n",
       "      <th>46</th>\n",
       "      <td>(2020-01-30)</td>\n",
       "      <td>(11:09:22.0)</td>\n",
       "      <td>18.81</td>\n",
       "      <td>68.89</td>\n",
       "      <td>DOMINICAN REPUBLIC</td>\n",
       "    </tr>\n",
       "    <tr>\n",
       "      <th>47</th>\n",
       "      <td>(2020-01-30)</td>\n",
       "      <td>(11:07:48.6)</td>\n",
       "      <td>18.26</td>\n",
       "      <td>119.95</td>\n",
       "      <td>NORTHWEST OF AUSTRALIA</td>\n",
       "    </tr>\n",
       "    <tr>\n",
       "      <th>48</th>\n",
       "      <td>(2020-01-30)</td>\n",
       "      <td>(11:06:12.1)</td>\n",
       "      <td>35.86</td>\n",
       "      <td>117.70</td>\n",
       "      <td>CENTRAL CALIFORNIA</td>\n",
       "    </tr>\n",
       "    <tr>\n",
       "      <th>49</th>\n",
       "      <td>(2020-01-30)</td>\n",
       "      <td>(10:57:00.0)</td>\n",
       "      <td>35.02</td>\n",
       "      <td>5.88</td>\n",
       "      <td>NORTHERN ALGERIA</td>\n",
       "    </tr>\n",
       "  </tbody>\n",
       "</table>\n",
       "</div>"
      ],
      "text/plain": [
       "            Date          Time  Latitude  Longitude  \\\n",
       "0   (2020-01-30)  (16:07:04.6)     35.66     117.48   \n",
       "1   (2020-01-30)  (16:03:06.9)     36.70     121.36   \n",
       "2   (2020-01-30)  (15:47:59.5)     19.49     155.24   \n",
       "3   (2020-01-30)  (15:31:32.7)     19.12     155.42   \n",
       "4   (2020-01-30)  (15:31:31.5)     39.24      18.72   \n",
       "5   (2020-01-30)  (15:30:47.4)     39.06      27.86   \n",
       "6   (2020-01-30)  (15:27:18.0)     49.41       0.01   \n",
       "7   (2020-01-30)  (15:24:22.0)     16.85     100.10   \n",
       "8   (2020-01-30)  (15:12:32.6)     35.28      28.06   \n",
       "9   (2020-01-30)  (15:02:42.4)     39.08      27.85   \n",
       "10  (2020-01-30)  (15:00:42.9)     56.45     150.00   \n",
       "11  (2020-01-30)  (14:48:15.7)     39.09      27.83   \n",
       "12  (2020-01-30)  (14:43:53.4)     36.70     121.34   \n",
       "13  (2020-01-30)  (14:21:45.6)     39.09      27.81   \n",
       "14  (2020-01-30)  (14:18:04.3)     38.53     122.33   \n",
       "15  (2020-01-30)  (14:10:03.1)     35.03      28.01   \n",
       "16  (2020-01-30)  (14:04:30.3)     19.24     155.42   \n",
       "17  (2020-01-30)  (14:03:55.1)     39.09      27.83   \n",
       "18  (2020-01-30)  (14:02:26.9)     35.01      27.97   \n",
       "19  (2020-01-30)  (13:52:48.8)     39.11      27.83   \n",
       "20  (2020-01-30)  (13:52:37.5)     36.72       5.67   \n",
       "21  (2020-01-30)  (13:49:03.1)     38.48      39.28   \n",
       "22  (2020-01-30)  (13:37:10.0)      0.99     127.28   \n",
       "23  (2020-01-30)  (13:18:46.9)     38.99      27.85   \n",
       "24  (2020-01-30)  (13:15:24.0)     10.04     160.85   \n",
       "25  (2020-01-30)  (12:45:53.1)     35.14      27.98   \n",
       "26  (2020-01-30)  (12:45:11.3)     29.62      52.13   \n",
       "27  (2020-01-30)  (12:43:00.3)     35.11      95.38   \n",
       "28  (2020-01-30)  (12:17:27.3)     35.11      95.38   \n",
       "29  (2020-01-30)  (12:15:41.0)      2.69     127.79   \n",
       "30  (2020-01-30)  (12:04:42.0)      0.35      91.57   \n",
       "31  (2020-01-30)  (12:02:54.0)      0.34      91.58   \n",
       "32  (2020-01-30)  (11:54:05.2)     19.34     155.14   \n",
       "33  (2020-01-30)  (11:53:41.1)     35.31      27.88   \n",
       "34  (2020-01-30)  (11:51:57.9)     19.34     155.12   \n",
       "35  (2020-01-30)  (11:49:20.5)     35.11      95.38   \n",
       "36  (2020-01-30)  (11:46:29.4)     35.76      27.44   \n",
       "37  (2020-01-30)  (11:45:08.0)     21.06      68.48   \n",
       "38  (2020-01-30)  (11:43:00.7)     35.26      27.86   \n",
       "39  (2020-01-30)  (11:42:30.0)      3.74     126.88   \n",
       "40  (2020-01-30)  (11:40:07.0)     35.16      28.14   \n",
       "41  (2020-01-30)  (11:32:09.4)     34.90      28.10   \n",
       "42  (2020-01-30)  (11:29:09.6)     18.99      67.81   \n",
       "43  (2020-01-30)  (11:27:10.5)     39.08      27.85   \n",
       "44  (2020-01-30)  (11:24:42.0)     23.86      67.47   \n",
       "45  (2020-01-30)  (11:21:36.5)     35.08      27.80   \n",
       "46  (2020-01-30)  (11:09:22.0)     18.81      68.89   \n",
       "47  (2020-01-30)  (11:07:48.6)     18.26     119.95   \n",
       "48  (2020-01-30)  (11:06:12.1)     35.86     117.70   \n",
       "49  (2020-01-30)  (10:57:00.0)     35.02       5.88   \n",
       "\n",
       "                    Region Name  \n",
       "0           SOUTHERN CALIFORNIA  \n",
       "1            CENTRAL CALIFORNIA  \n",
       "2      ISLAND OF HAWAII, HAWAII  \n",
       "3      ISLAND OF HAWAII, HAWAII  \n",
       "4                SOUTHERN ITALY  \n",
       "5                WESTERN TURKEY  \n",
       "6                        FRANCE  \n",
       "7     OFFSHORE GUERRERO, MEXICO  \n",
       "8     EASTERN MEDITERRANEAN SEA  \n",
       "9                WESTERN TURKEY  \n",
       "10               GULF OF ALASKA  \n",
       "11               WESTERN TURKEY  \n",
       "12           CENTRAL CALIFORNIA  \n",
       "13               WESTERN TURKEY  \n",
       "14          NORTHERN CALIFORNIA  \n",
       "15    EASTERN MEDITERRANEAN SEA  \n",
       "16     ISLAND OF HAWAII, HAWAII  \n",
       "17               WESTERN TURKEY  \n",
       "18   DODECANESE ISLANDS, GREECE  \n",
       "19               WESTERN TURKEY  \n",
       "20             NORTHERN ALGERIA  \n",
       "21               EASTERN TURKEY  \n",
       "22         HALMAHERA, INDONESIA  \n",
       "23               WESTERN TURKEY  \n",
       "24              SOLOMON ISLANDS  \n",
       "25   DODECANESE ISLANDS, GREECE  \n",
       "26                SOUTHERN IRAN  \n",
       "27                     OKLAHOMA  \n",
       "28                     OKLAHOMA  \n",
       "29         CERAM SEA, INDONESIA  \n",
       "30   GALAPAGOS ISLANDS, ECUADOR  \n",
       "31   GALAPAGOS ISLANDS, ECUADOR  \n",
       "32     ISLAND OF HAWAII, HAWAII  \n",
       "33   DODECANESE ISLANDS, GREECE  \n",
       "34     ISLAND OF HAWAII, HAWAII  \n",
       "35                     OKLAHOMA  \n",
       "36   DODECANESE ISLANDS, GREECE  \n",
       "37           ANTOFAGASTA, CHILE  \n",
       "38   DODECANESE ISLANDS, GREECE  \n",
       "39  KEPULAUAN TALAUD, INDONESIA  \n",
       "40    EASTERN MEDITERRANEAN SEA  \n",
       "41    EASTERN MEDITERRANEAN SEA  \n",
       "42    DOMINICAN REPUBLIC REGION  \n",
       "43               WESTERN TURKEY  \n",
       "44           ANTOFAGASTA, CHILE  \n",
       "45   DODECANESE ISLANDS, GREECE  \n",
       "46           DOMINICAN REPUBLIC  \n",
       "47       NORTHWEST OF AUSTRALIA  \n",
       "48           CENTRAL CALIFORNIA  \n",
       "49             NORTHERN ALGERIA  "
      ]
     },
     "execution_count": 189,
     "metadata": {},
     "output_type": "execute_result"
    }
   ],
   "source": [
    "tags_a = html.select(\"b > a\")\n",
    "date_time = [{e.text.split()[0]:e.text.split()[1]} for e in tags_a[:-1]]\n",
    "reg = [e.text.strip() for e in html.select(\".tb_region\")]\n",
    "lat = [float(e.text.strip()) for i,e in enumerate(html.select(\".tabev1\")) if i % 2 == 0]\n",
    "lon = [float(e.text.strip()) for i,e in enumerate(html.select(\".tabev1\")) if i % 2 != 0]\n",
    "data = {'Date':[e.keys() for e in date_time], 'Time':[e.values() for e in date_time], 'Latitude': lat, 'Longitude': lon, \"Region Name\": reg} \n",
    "df = pd.DataFrame(data)\n",
    "df"
   ]
  },
  {
   "cell_type": "markdown",
   "metadata": {},
   "source": [
    "#### Display the date, days, title, city, country of next 25 hackathon events as a Pandas dataframe table"
   ]
  },
  {
   "cell_type": "code",
   "execution_count": 191,
   "metadata": {},
   "outputs": [],
   "source": [
    "# This is the url you will scrape in this exercise\n",
    "url ='https://hackevents.co/hackathons'\n",
    "#No esta la pag"
   ]
  },
  {
   "cell_type": "code",
   "execution_count": 22,
   "metadata": {},
   "outputs": [],
   "source": [
    "\n"
   ]
  },
  {
   "cell_type": "markdown",
   "metadata": {},
   "source": [
    "#### Count number of tweets by a given Twitter account."
   ]
  },
  {
   "cell_type": "markdown",
   "metadata": {},
   "source": [
    "You will need to include a ***try/except block*** for account names not found. \n",
    "<br>***Hint:*** the program should count the number of tweets for any provided account"
   ]
  },
  {
   "cell_type": "code",
   "execution_count": 109,
   "metadata": {},
   "outputs": [
    {
     "name": "stdout",
     "output_type": "stream",
     "text": [
      "La cuenta no existe\n"
     ]
    }
   ],
   "source": [
    "# This is the url you will scrape in this exercise \n",
    "# You will need to add the account credentials to this url\n",
    "url = 'https://twitter.com/ddddddddddddddddddddddd'\n",
    "try:\n",
    "    data = requests.get(url).text\n",
    "    html = BeautifulSoup(data, 'html.parser')\n",
    "    h1 = html.find_all(\"h1\")[0]\n",
    "    if \"Sorry, that page doesn’t exist!\" in h1:\n",
    "        raise ReferenceError\n",
    "except ReferenceError:\n",
    "    print(\"La cuenta no existe\")"
   ]
  },
  {
   "cell_type": "code",
   "execution_count": 110,
   "metadata": {},
   "outputs": [
    {
     "data": {
      "text/plain": [
       "0"
      ]
     },
     "execution_count": 110,
     "metadata": {},
     "output_type": "execute_result"
    }
   ],
   "source": [
    "div = html.find_all(\"div\")\n",
    "div = [e for e in div if \"class\" in e.attrs and e.attrs[\"class\"] == [\"js-tweet-text-container\"]]\n",
    "len(div)"
   ]
  },
  {
   "cell_type": "markdown",
   "metadata": {},
   "source": [
    "#### Number of followers of a given twitter account"
   ]
  },
  {
   "cell_type": "markdown",
   "metadata": {},
   "source": [
    "You will need to include a ***try/except block*** in case account/s name not found. \n",
    "<br>***Hint:*** the program should count the followers for any provided account"
   ]
  },
  {
   "cell_type": "code",
   "execution_count": 116,
   "metadata": {},
   "outputs": [],
   "source": [
    "# This is the url you will scrape in this exercise \n",
    "# You will need to add the account credentials to this url\n",
    "url = 'https://twitter.com/realDonaldTrump'\n",
    "try:\n",
    "    data = requests.get(url).text\n",
    "    html = BeautifulSoup(data, 'html.parser')\n",
    "    h1 = html.find_all(\"h1\")[0]\n",
    "    if \"Sorry, that page doesn’t exist!\" in h1:\n",
    "        raise ReferenceError\n",
    "except ReferenceError:\n",
    "    print(\"La cuenta no existe\")"
   ]
  },
  {
   "cell_type": "code",
   "execution_count": 125,
   "metadata": {},
   "outputs": [
    {
     "data": {
      "text/plain": [
       "'71.869.880 Seguidores'"
      ]
     },
     "execution_count": 125,
     "metadata": {},
     "output_type": "execute_result"
    }
   ],
   "source": [
    "a = html.find_all(\"a\")\n",
    "a = [e for e in a if \"href\" in e.attrs and \"followers\" in e.attrs[\"href\"]]\n",
    "a[0].attrs[\"title\"]"
   ]
  },
  {
   "cell_type": "markdown",
   "metadata": {},
   "source": [
    "#### List all language names and number of related articles in the order they appear in wikipedia.org"
   ]
  },
  {
   "cell_type": "code",
   "execution_count": 126,
   "metadata": {},
   "outputs": [],
   "source": [
    "# This is the url you will scrape in this exercise\n",
    "url = 'https://www.wikipedia.org/'\n",
    "data = requests.get(url).text\n",
    "html = BeautifulSoup(data, 'html.parser')"
   ]
  },
  {
   "cell_type": "code",
   "execution_count": 174,
   "metadata": {},
   "outputs": [
    {
     "name": "stdout",
     "output_type": "stream",
     "text": [
      "English : 5 994 000+ articles\n",
      "æ¥æ¬èª : 1 185 000+ è¨äº\n",
      "Deutsch : 2 385 000+ Artikel\n",
      "EspaÃ±ol : 1 571 000+ artÃ­culos\n",
      "Ð ÑÑÑÐºÐ¸Ð¹ : 1 590 000+ ÑÑÐ°ÑÐµÐ¹\n",
      "FranÃ§ais : 2 171 000+ articles\n",
      "Italiano : 1 576 000+ voci\n",
      "ä¸­æ : 1 090 000+ æ¢ç®\n",
      "PortuguÃªs : 1 018 000+ artigos\n"
     ]
    }
   ],
   "source": [
    "strong = html.find_all(\"strong\")\n",
    "small = html.find_all(\"small\")\n",
    "countries = [e.text for e in strong[1:11]]\n",
    "articles = [e.text for e in small[:9]]\n",
    "for i in range(len(articles)):\n",
    "    print(countries[i], \":\", articles[i])"
   ]
  },
  {
   "cell_type": "markdown",
   "metadata": {},
   "source": [
    "#### A list with the different kind of datasets available in data.gov.uk "
   ]
  },
  {
   "cell_type": "code",
   "execution_count": 175,
   "metadata": {},
   "outputs": [],
   "source": [
    "# This is the url you will scrape in this exercise\n",
    "url = 'https://data.gov.uk/'\n",
    "data = requests.get(url).text\n",
    "html = BeautifulSoup(data, 'html.parser')"
   ]
  },
  {
   "cell_type": "code",
   "execution_count": 177,
   "metadata": {},
   "outputs": [
    {
     "data": {
      "text/plain": [
       "['Business and economy',\n",
       " 'Crime and justice',\n",
       " 'Defence',\n",
       " 'Education',\n",
       " 'Environment',\n",
       " 'Government',\n",
       " 'Government spending',\n",
       " 'Health',\n",
       " 'Mapping',\n",
       " 'Society',\n",
       " 'Towns and cities',\n",
       " 'Transport']"
      ]
     },
     "execution_count": 177,
     "metadata": {},
     "output_type": "execute_result"
    }
   ],
   "source": [
    "datasets = [e.text for e in html.find_all(\"h2\")]\n",
    "datasets"
   ]
  },
  {
   "cell_type": "markdown",
   "metadata": {},
   "source": [
    "#### Top 10 languages by number of native speakers stored in a Pandas Dataframe"
   ]
  },
  {
   "cell_type": "code",
   "execution_count": 178,
   "metadata": {},
   "outputs": [],
   "source": [
    "# This is the url you will scrape in this exercise\n",
    "url = 'https://en.wikipedia.org/wiki/List_of_languages_by_number_of_native_speakers'\n",
    "data = requests.get(url).text\n",
    "html = BeautifulSoup(data, 'html.parser')"
   ]
  },
  {
   "cell_type": "code",
   "execution_count": 202,
   "metadata": {},
   "outputs": [
    {
     "data": {
      "text/html": [
       "<div>\n",
       "<style scoped>\n",
       "    .dataframe tbody tr th:only-of-type {\n",
       "        vertical-align: middle;\n",
       "    }\n",
       "\n",
       "    .dataframe tbody tr th {\n",
       "        vertical-align: top;\n",
       "    }\n",
       "\n",
       "    .dataframe thead th {\n",
       "        text-align: right;\n",
       "    }\n",
       "</style>\n",
       "<table border=\"1\" class=\"dataframe\">\n",
       "  <thead>\n",
       "    <tr style=\"text-align: right;\">\n",
       "      <th></th>\n",
       "      <th>Language</th>\n",
       "      <th>Native Speakers in millions</th>\n",
       "    </tr>\n",
       "  </thead>\n",
       "  <tbody>\n",
       "    <tr>\n",
       "      <th>0</th>\n",
       "      <td>Mandarin</td>\n",
       "      <td>935 (955)</td>\n",
       "    </tr>\n",
       "    <tr>\n",
       "      <th>1</th>\n",
       "      <td>Spanish</td>\n",
       "      <td>390 (405)</td>\n",
       "    </tr>\n",
       "    <tr>\n",
       "      <th>2</th>\n",
       "      <td>English</td>\n",
       "      <td>365 (360)</td>\n",
       "    </tr>\n",
       "    <tr>\n",
       "      <th>3</th>\n",
       "      <td>Hindi</td>\n",
       "      <td>295 (310)</td>\n",
       "    </tr>\n",
       "    <tr>\n",
       "      <th>4</th>\n",
       "      <td>Arabic</td>\n",
       "      <td>280 (295)</td>\n",
       "    </tr>\n",
       "    <tr>\n",
       "      <th>5</th>\n",
       "      <td>Portuguese</td>\n",
       "      <td>205 (215)</td>\n",
       "    </tr>\n",
       "    <tr>\n",
       "      <th>6</th>\n",
       "      <td>Bengali</td>\n",
       "      <td>200 (205)</td>\n",
       "    </tr>\n",
       "    <tr>\n",
       "      <th>7</th>\n",
       "      <td>Russian</td>\n",
       "      <td>160 (155)</td>\n",
       "    </tr>\n",
       "    <tr>\n",
       "      <th>8</th>\n",
       "      <td>Japanese</td>\n",
       "      <td>125 (125)</td>\n",
       "    </tr>\n",
       "    <tr>\n",
       "      <th>9</th>\n",
       "      <td>Punjabi</td>\n",
       "      <td>95 (100)</td>\n",
       "    </tr>\n",
       "  </tbody>\n",
       "</table>\n",
       "</div>"
      ],
      "text/plain": [
       "     Language Native Speakers in millions\n",
       "0    Mandarin                   935 (955)\n",
       "1     Spanish                   390 (405)\n",
       "2     English                   365 (360)\n",
       "3       Hindi                   295 (310)\n",
       "4      Arabic                   280 (295)\n",
       "5  Portuguese                   205 (215)\n",
       "6     Bengali                   200 (205)\n",
       "7     Russian                   160 (155)\n",
       "8    Japanese                   125 (125)\n",
       "9     Punjabi                    95 (100)"
      ]
     },
     "execution_count": 202,
     "metadata": {},
     "output_type": "execute_result"
    }
   ],
   "source": [
    "table = html.find_all(\"table\")\n",
    "language = [e.text for e in table[2].find_all(\"b\")][:10]\n",
    "td = [e.text for e in table[2].find_all(\"td\")]\n",
    "native = [td[e] for e in range(2,40,4)]\n",
    "data = {'Language':language, 'Native Speakers in millions':native} \n",
    "df = pd.DataFrame(data)\n",
    "df"
   ]
  },
  {
   "cell_type": "markdown",
   "metadata": {},
   "source": [
    "### BONUS QUESTIONS"
   ]
  },
  {
   "cell_type": "markdown",
   "metadata": {},
   "source": [
    "#### Scrape a certain number of tweets of a given Twitter account."
   ]
  },
  {
   "cell_type": "code",
   "execution_count": null,
   "metadata": {},
   "outputs": [],
   "source": [
    "# This is the url you will scrape in this exercise \n",
    "# You will need to add the account credentials to this url\n",
    "url = 'https://twitter.com/'"
   ]
  },
  {
   "cell_type": "code",
   "execution_count": null,
   "metadata": {},
   "outputs": [],
   "source": [
    "# your code"
   ]
  },
  {
   "cell_type": "markdown",
   "metadata": {},
   "source": [
    "#### IMDB's Top 250 data (movie name, Initial release, director name and stars) as a pandas dataframe"
   ]
  },
  {
   "cell_type": "code",
   "execution_count": null,
   "metadata": {},
   "outputs": [],
   "source": [
    "# This is the url you will scrape in this exercise \n",
    "url = 'https://www.imdb.com/chart/top'"
   ]
  },
  {
   "cell_type": "code",
   "execution_count": null,
   "metadata": {},
   "outputs": [],
   "source": [
    "# your code"
   ]
  },
  {
   "cell_type": "markdown",
   "metadata": {},
   "source": [
    "#### Movie name, year and a brief summary of the top 10 random movies (IMDB) as a pandas dataframe."
   ]
  },
  {
   "cell_type": "code",
   "execution_count": null,
   "metadata": {},
   "outputs": [],
   "source": [
    "#This is the url you will scrape in this exercise\n",
    "url = 'http://www.imdb.com/chart/top'"
   ]
  },
  {
   "cell_type": "code",
   "execution_count": null,
   "metadata": {},
   "outputs": [],
   "source": [
    "#your code"
   ]
  },
  {
   "cell_type": "markdown",
   "metadata": {},
   "source": [
    "#### Find the live weather report (temperature, wind speed, description and weather) of a given city."
   ]
  },
  {
   "cell_type": "code",
   "execution_count": null,
   "metadata": {},
   "outputs": [],
   "source": [
    "#https://openweathermap.org/current\n",
    "city = city=input('Enter the city:')\n",
    "url = 'http://api.openweathermap.org/data/2.5/weather?'+'q='+city+'&APPID=b35975e18dc93725acb092f7272cc6b8&units=metric'"
   ]
  },
  {
   "cell_type": "code",
   "execution_count": null,
   "metadata": {},
   "outputs": [],
   "source": [
    "# your code"
   ]
  },
  {
   "cell_type": "markdown",
   "metadata": {},
   "source": [
    "#### Book name,price and stock availability as a pandas dataframe."
   ]
  },
  {
   "cell_type": "code",
   "execution_count": null,
   "metadata": {},
   "outputs": [],
   "source": [
    "# This is the url you will scrape in this exercise. \n",
    "# It is a fictional bookstore created to be scraped. \n",
    "url = 'http://books.toscrape.com/'"
   ]
  },
  {
   "cell_type": "code",
   "execution_count": null,
   "metadata": {},
   "outputs": [],
   "source": [
    "#your code"
   ]
  }
 ],
 "metadata": {
  "kernelspec": {
   "display_name": "Python 3",
   "language": "python",
   "name": "python3"
  },
  "language_info": {
   "codemirror_mode": {
    "name": "ipython",
    "version": 3
   },
   "file_extension": ".py",
   "mimetype": "text/x-python",
   "name": "python",
   "nbconvert_exporter": "python",
   "pygments_lexer": "ipython3",
   "version": "3.7.5"
  }
 },
 "nbformat": 4,
 "nbformat_minor": 2
}
