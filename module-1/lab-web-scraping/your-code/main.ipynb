{
 "cells": [
  {
   "cell_type": "markdown",
   "metadata": {},
   "source": [
    "# Web Scraping Lab\n",
    "\n",
    "You will find in this notebook some scrapy exercises to practise your scraping skills.\n",
    "\n",
    "**Tips:**\n",
    "\n",
    "- Check the response status code for each request to ensure you have obtained the intended contennt.\n",
    "- Print the response text in each request to understand the kind of info you are getting and its format.\n",
    "- Check for patterns in the response text to extract the data/info requested in each question.\n",
    "- Visit each url and take a look at its source through Chrome DevTools. You'll need to identify the html tags, special class names etc. used for the html content you are expected to extract."
   ]
  },
  {
   "cell_type": "markdown",
   "metadata": {},
   "source": [
    "- [Requests library](http://docs.python-requests.org/en/master/#the-user-guide) documentation \n",
    "- [Beautiful Soup Doc](https://www.crummy.com/software/BeautifulSoup/bs4/doc/)\n",
    "- [Urllib](https://docs.python.org/3/library/urllib.html#module-urllib)\n",
    "- [re lib](https://docs.python.org/3/library/re.html)\n",
    "- [lxml lib](https://lxml.de/)\n",
    "- [Scrapy](https://scrapy.org/)\n",
    "- [List of HTTP status codes](https://en.wikipedia.org/wiki/List_of_HTTP_status_codes)\n",
    "- [HTML basics](http://www.simplehtmlguide.com/cheatsheet.php)\n",
    "- [CSS basics](https://www.cssbasics.com/#page_start)"
   ]
  },
  {
   "cell_type": "markdown",
   "metadata": {},
   "source": [
    "#### Below are the libraries and modules you may need. `requests`,  `BeautifulSoup` and `pandas` are imported for you. If you prefer to use additional libraries feel free to uncomment them."
   ]
  },
  {
   "cell_type": "code",
   "execution_count": 1,
   "metadata": {},
   "outputs": [],
   "source": [
    "import requests\n",
    "from bs4 import BeautifulSoup\n",
    "import pandas as pd\n",
    "# from pprint import pprint\n",
    "# from lxml import html\n",
    "# from lxml.html import fromstring\n",
    "# import urllib.request\n",
    "# from urllib.request import urlopen\n",
    "import random\n",
    "import re\n",
    "# import scrapy"
   ]
  },
  {
   "cell_type": "markdown",
   "metadata": {},
   "source": [
    "#### Download, parse (using BeautifulSoup), and print the content from the Trending Developers page from GitHub:"
   ]
  },
  {
   "cell_type": "code",
   "execution_count": 2,
   "metadata": {},
   "outputs": [],
   "source": [
    "# This is the url you will scrape in this exercise\n",
    "url = 'https://github.com/trending/developers'"
   ]
  },
  {
   "cell_type": "code",
   "execution_count": 3,
   "metadata": {},
   "outputs": [],
   "source": [
    "data = requests.get(url).text\n",
    "html = BeautifulSoup(data, 'html.parser')\n",
    "tags = [e.find_all(\"a\") for e in html.select(\".h3.lh-condensed\")]\n"
   ]
  },
  {
   "cell_type": "markdown",
   "metadata": {},
   "source": [
    "#### Display the names of the trending developers retrieved in the previous step.\n",
    "\n",
    "Your output should be a Python list of developer names. Each name should not contain any html tag.\n",
    "\n",
    "**Instructions:**\n",
    "\n",
    "1. Find out the html tag and class names used for the developer names. You can achieve this using Chrome DevTools.\n",
    "\n",
    "1. Use BeautifulSoup to extract all the html elements that contain the developer names.\n",
    "\n",
    "1. Use string manipulation techniques to replace whitespaces and linebreaks (i.e. `\\n`) in the *text* of each html element. Use a list to store the clean names.\n",
    "\n",
    "1. Print the list of names.\n",
    "\n",
    "Your output should look like below:\n",
    "\n",
    "```\n",
    "['trimstray (@trimstray)',\n",
    " 'joewalnes (JoeWalnes)',\n",
    " 'charlax (Charles-AxelDein)',\n",
    " 'ForrestKnight (ForrestKnight)',\n",
    " 'revery-ui (revery-ui)',\n",
    " 'alibaba (Alibaba)',\n",
    " 'Microsoft (Microsoft)',\n",
    " 'github (GitHub)',\n",
    " 'facebook (Facebook)',\n",
    " 'boazsegev (Bo)',\n",
    " 'google (Google)',\n",
    " 'cloudfetch',\n",
    " 'sindresorhus (SindreSorhus)',\n",
    " 'tensorflow',\n",
    " 'apache (TheApacheSoftwareFoundation)',\n",
    " 'DevonCrawford (DevonCrawford)',\n",
    " 'ARMmbed (ArmMbed)',\n",
    " 'vuejs (vuejs)',\n",
    " 'fastai (fast.ai)',\n",
    " 'QiShaoXuan (Qi)',\n",
    " 'joelparkerhenderson (JoelParkerHenderson)',\n",
    " 'torvalds (LinusTorvalds)',\n",
    " 'CyC2018',\n",
    " 'komeiji-satori (神楽坂覚々)',\n",
    " 'script-8']\n",
    " ```"
   ]
  },
  {
   "cell_type": "code",
   "execution_count": 4,
   "metadata": {},
   "outputs": [
    {
     "data": {
      "text/plain": [
       "['mattn',\n",
       " 'Andreas Mueller',\n",
       " 'Brian C',\n",
       " 'Erik Schierboom',\n",
       " 'John Sundell',\n",
       " 'Siddharth Kshetrapal',\n",
       " 'Jason Williams',\n",
       " 'Kyle Conroy',\n",
       " 'Anthony Sottile',\n",
       " 'William Candillon',\n",
       " 'Colin Rofls',\n",
       " 'Filip Skokan',\n",
       " 'Amila Welihinda',\n",
       " 'Kristoffer Carlsson',\n",
       " 'Giulio Canti',\n",
       " 'greatghoul',\n",
       " 'Miek Gieben',\n",
       " 'Jesse Katsumata',\n",
       " 'Lucas Michot',\n",
       " 'Adam Geitgey',\n",
       " 'Philipp Oppermann',\n",
       " 'Tony Narlock',\n",
       " 'isaacs',\n",
       " 'Florian Rival',\n",
       " 'Satyajit Sahoo']"
      ]
     },
     "execution_count": 4,
     "metadata": {},
     "output_type": "execute_result"
    }
   ],
   "source": [
    "names = [d.text.strip() for e in tags for d in e]\n",
    "names"
   ]
  },
  {
   "cell_type": "markdown",
   "metadata": {},
   "source": [
    "#### Display the trending Python repositories in GitHub\n",
    "\n",
    "The steps to solve this problem is similar to the previous one except that you need to find out the repository names instead of developer names."
   ]
  },
  {
   "cell_type": "code",
   "execution_count": 5,
   "metadata": {},
   "outputs": [],
   "source": [
    "# This is the url you will scrape in this exercise\n",
    "url = 'https://github.com/trending/python?since=daily'"
   ]
  },
  {
   "cell_type": "code",
   "execution_count": 6,
   "metadata": {},
   "outputs": [],
   "source": [
    "data = requests.get(url).text\n",
    "html = BeautifulSoup(data, 'html.parser')\n"
   ]
  },
  {
   "cell_type": "code",
   "execution_count": 7,
   "metadata": {},
   "outputs": [
    {
     "data": {
      "text/plain": [
       "['DXY-2019-nCoV-Crawler',\n",
       " 'python-cheatsheet',\n",
       " 'spiderfoot',\n",
       " 'NLP-progress',\n",
       " 'sight',\n",
       " 'Awesome-Linux-Software',\n",
       " 'awesome-python',\n",
       " 'rex-gym',\n",
       " 'DAIN',\n",
       " 'interpy-zh',\n",
       " 'fastapi',\n",
       " 'thinc',\n",
       " 'rich',\n",
       " 'Vieux',\n",
       " 'vardbg',\n",
       " 'Deep-Learning-with-TensorFlow-book',\n",
       " 'bpf-perf-tools-book',\n",
       " 'google-cloud-python',\n",
       " 'anchore-engine',\n",
       " 'tinder-swipe-bot',\n",
       " 'captum',\n",
       " 'Eel',\n",
       " 'policy_sentry',\n",
       " 'anomaly-detection-resources',\n",
       " 'daily-coding-problem']"
      ]
     },
     "execution_count": 7,
     "metadata": {},
     "output_type": "execute_result"
    }
   ],
   "source": [
    "tags = html.select(\".h3.lh-condensed > a\")\n",
    "repos = [e.text.split(\"/\")[1].strip() for e in tags ]\n",
    "repos"
   ]
  },
  {
   "cell_type": "markdown",
   "metadata": {},
   "source": [
    "#### Display all the image links from Walt Disney wikipedia page"
   ]
  },
  {
   "cell_type": "code",
   "execution_count": 8,
   "metadata": {},
   "outputs": [],
   "source": [
    "# This is the url you will scrape in this exercise\n",
    "url = 'https://en.wikipedia.org/wiki/Walt_Disney'\n",
    "data = requests.get(url).text\n",
    "html = BeautifulSoup(data, 'html.parser')"
   ]
  },
  {
   "cell_type": "code",
   "execution_count": 9,
   "metadata": {},
   "outputs": [
    {
     "data": {
      "text/plain": [
       "['https://en.wikipedia.org/wiki/Walt_Disney#/media/File:Walt_Disney_1946.JPG',\n",
       " 'https://en.wikipedia.org/wiki/Walt_Disney#/media/File:Walt_Disney_1942_signature.svg',\n",
       " 'https://en.wikipedia.org/wiki/Walt_Disney#/media/File:Walt_Disney_envelope_ca._1921.jpg',\n",
       " 'https://en.wikipedia.org/wiki/Walt_Disney#/media/File:Trolley_Troubles_poster.jpg',\n",
       " 'https://en.wikipedia.org/wiki/Walt_Disney#/media/File:Walt_Disney_and_his_cartoon_creation_%22Mickey_Mouse%22_-_National_Board_of_Review_Magazine.jpg',\n",
       " 'https://en.wikipedia.org/wiki/Walt_Disney#/media/File:Steamboat-willie.jpg',\n",
       " 'https://en.wikipedia.org/wiki/Walt_Disney#/media/File:Walt_Disney_1935.jpg',\n",
       " 'https://en.wikipedia.org/wiki/Walt_Disney#/media/File:Walt_Disney_Snow_white_1937_trailer_screenshot_(13).jpg',\n",
       " 'https://en.wikipedia.org/wiki/Walt_Disney#/media/File:Disney_drawing_goofy.jpg',\n",
       " 'https://en.wikipedia.org/wiki/Walt_Disney#/media/File:DisneySchiphol1951.jpg',\n",
       " 'https://en.wikipedia.org/wiki/Walt_Disney#/media/File:WaltDisneyplansDisneylandDec1954.jpg',\n",
       " 'https://en.wikipedia.org/wiki/Walt_Disney#/media/File:Walt_disney_portrait_right.jpg',\n",
       " 'https://en.wikipedia.org/wiki/Walt_Disney#/media/File:Walt_Disney_Grave.JPG',\n",
       " 'https://en.wikipedia.org/wiki/Walt_Disney#/media/File:Roy_O._Disney_with_Company_at_Press_Conference.jpg',\n",
       " 'https://en.wikipedia.org/wiki/Walt_Disney#/media/File:Disney_Display_Case.JPG',\n",
       " 'https://en.wikipedia.org/wiki/Walt_Disney#/media/File:Disney1968.jpg',\n",
       " 'https://en.wikipedia.org/wiki/Walt_Disney#/media/File:The_Walt_Disney_Company_Logo.svg',\n",
       " 'https://en.wikipedia.org/wiki/Walt_Disney#/media/File:Animation_disc.svg',\n",
       " 'https://en.wikipedia.org/wiki/Walt_Disney#/media/File:P_vip.svg',\n",
       " 'https://en.wikipedia.org/wiki/Walt_Disney#/media/File:Magic_Kingdom_castle.jpg',\n",
       " 'https://en.wikipedia.org/wiki/Walt_Disney#/media/File:Video-x-generic.svg',\n",
       " 'https://en.wikipedia.org/wiki/Walt_Disney#/media/File:Flag_of_Los_Angeles_County,_California.svg',\n",
       " 'https://en.wikipedia.org/wiki/Walt_Disney#/media/File:Blank_television_set.svg',\n",
       " 'https://en.wikipedia.org/wiki/Walt_Disney#/media/File:Flag_of_the_United_States.svg']"
      ]
     },
     "execution_count": 9,
     "metadata": {},
     "output_type": "execute_result"
    }
   ],
   "source": [
    "tags = html.select(\".image\")\n",
    "images = [url +\"#/media\" + e.attrs[\"href\"][5:] for e in tags]\n",
    "images\n",
    "#https://en.wikipedia.org/wiki/Walt_Disney#/media/File:Walt_Disney_1946.JPG"
   ]
  },
  {
   "cell_type": "markdown",
   "metadata": {},
   "source": [
    "#### Retrieve an arbitary Wikipedia page of \"Python\" and create a list of links on that page"
   ]
  },
  {
   "cell_type": "code",
   "execution_count": 10,
   "metadata": {},
   "outputs": [],
   "source": [
    "# This is the url you will scrape in this exercise\n",
    "url ='https://en.wikipedia.org/wiki/Python'\n",
    "url = \"https://en.wikipedia.org/wiki/Python_(mythology)\"\n",
    "data = requests.get(url).text\n",
    "html = BeautifulSoup(data, 'html.parser')"
   ]
  },
  {
   "cell_type": "code",
   "execution_count": 11,
   "metadata": {},
   "outputs": [
    {
     "name": "stdout",
     "output_type": "stream",
     "text": [
      "235 10 245\n"
     ]
    }
   ],
   "source": [
    "tags_a = [e.attrs[\"href\"] for e in html.find_all(\"a\") if \"href\" in e.attrs.keys()]\n",
    "tags_img = [e.attrs[\"src\"] for e in html.find_all(\"img\") if \"src\" in e.attrs.keys()]\n",
    "links = tags_a +  tags_img\n",
    "print(len(tags_a), len(tags_img), len(links))\n",
    "#links"
   ]
  },
  {
   "cell_type": "markdown",
   "metadata": {},
   "source": [
    "#### Number of Titles that have changed in the United States Code since its last release point "
   ]
  },
  {
   "cell_type": "code",
   "execution_count": 12,
   "metadata": {},
   "outputs": [],
   "source": [
    "# This is the url you will scrape in this exercise\n",
    "url = 'http://uscode.house.gov/download/download.shtml'\n",
    "data = requests.get(url).text\n",
    "html = BeautifulSoup(data, 'html.parser')"
   ]
  },
  {
   "cell_type": "code",
   "execution_count": 13,
   "metadata": {},
   "outputs": [
    {
     "name": "stdout",
     "output_type": "stream",
     "text": [
      "['Title 18 - Crimes and Criminal Procedure ٭', 'Title 20 - Education', 'Title 26 - Internal Revenue Code']\n"
     ]
    },
    {
     "data": {
      "text/plain": [
       "3"
      ]
     },
     "execution_count": 13,
     "metadata": {},
     "output_type": "execute_result"
    }
   ],
   "source": [
    "tags = html.select(\".usctitlechanged\")\n",
    "titles = [e.text.strip() for e in tags]\n",
    "print(titles) \n",
    "len(titles)"
   ]
  },
  {
   "cell_type": "markdown",
   "metadata": {},
   "source": [
    "#### A Python list with the top ten FBI's Most Wanted names "
   ]
  },
  {
   "cell_type": "code",
   "execution_count": 14,
   "metadata": {},
   "outputs": [],
   "source": [
    "# This is the url you will scrape in this exercise\n",
    "url = 'https://www.fbi.gov/wanted/topten'\n",
    "data = requests.get(url).text\n",
    "html = BeautifulSoup(data, 'html.parser')"
   ]
  },
  {
   "cell_type": "code",
   "execution_count": 15,
   "metadata": {},
   "outputs": [
    {
     "data": {
      "text/plain": [
       "['JASON DEREK BROWN',\n",
       " 'ALEXIS FLORES',\n",
       " 'EUGENE PALMER',\n",
       " 'SANTIAGO VILLALBA MEDEROS',\n",
       " 'RAFAEL CARO-QUINTERO',\n",
       " 'ROBERT WILLIAM FISHER',\n",
       " 'BHADRESHKUMAR CHETANBHAI PATEL',\n",
       " 'ARNOLDO JIMENEZ',\n",
       " 'ALEJANDRO ROSALES CASTILLO',\n",
       " 'YASER ABDEL SAID']"
      ]
     },
     "execution_count": 15,
     "metadata": {},
     "output_type": "execute_result"
    }
   ],
   "source": [
    "tags = html.select(\"h3 > a\")\n",
    "top_ten = [e.text.strip() for e in tags]\n",
    "top_ten\n"
   ]
  },
  {
   "cell_type": "markdown",
   "metadata": {},
   "source": [
    "####  20 latest earthquakes info (date, time, latitude, longitude and region name) by the EMSC as a pandas dataframe"
   ]
  },
  {
   "cell_type": "code",
   "execution_count": 16,
   "metadata": {},
   "outputs": [],
   "source": [
    "# This is the url you will scrape in this exercise\n",
    "url = 'https://www.emsc-csem.org/Earthquake/'\n",
    "data = requests.get(url).text\n",
    "html = BeautifulSoup(data, 'html.parser')"
   ]
  },
  {
   "cell_type": "code",
   "execution_count": 17,
   "metadata": {},
   "outputs": [
    {
     "data": {
      "text/html": [
       "<div>\n",
       "<style scoped>\n",
       "    .dataframe tbody tr th:only-of-type {\n",
       "        vertical-align: middle;\n",
       "    }\n",
       "\n",
       "    .dataframe tbody tr th {\n",
       "        vertical-align: top;\n",
       "    }\n",
       "\n",
       "    .dataframe thead th {\n",
       "        text-align: right;\n",
       "    }\n",
       "</style>\n",
       "<table border=\"1\" class=\"dataframe\">\n",
       "  <thead>\n",
       "    <tr style=\"text-align: right;\">\n",
       "      <th></th>\n",
       "      <th>Date</th>\n",
       "      <th>Time</th>\n",
       "      <th>Latitude</th>\n",
       "      <th>Longitude</th>\n",
       "      <th>Region Name</th>\n",
       "    </tr>\n",
       "  </thead>\n",
       "  <tbody>\n",
       "    <tr>\n",
       "      <th>0</th>\n",
       "      <td>2020-01-30</td>\n",
       "      <td>22:10:14.0</td>\n",
       "      <td>3.65</td>\n",
       "      <td>75.37</td>\n",
       "      <td>NORTHERN PERU</td>\n",
       "    </tr>\n",
       "    <tr>\n",
       "      <th>1</th>\n",
       "      <td>2020-01-30</td>\n",
       "      <td>21:53:05.0</td>\n",
       "      <td>2.03</td>\n",
       "      <td>99.85</td>\n",
       "      <td>KEP. MENTAWAI REGION, INDONESIA</td>\n",
       "    </tr>\n",
       "    <tr>\n",
       "      <th>2</th>\n",
       "      <td>2020-01-30</td>\n",
       "      <td>21:50:58.1</td>\n",
       "      <td>38.51</td>\n",
       "      <td>39.31</td>\n",
       "      <td>EASTERN TURKEY</td>\n",
       "    </tr>\n",
       "    <tr>\n",
       "      <th>3</th>\n",
       "      <td>2020-01-30</td>\n",
       "      <td>21:50:36.2</td>\n",
       "      <td>19.21</td>\n",
       "      <td>155.42</td>\n",
       "      <td>ISLAND OF HAWAII, HAWAII</td>\n",
       "    </tr>\n",
       "    <tr>\n",
       "      <th>4</th>\n",
       "      <td>2020-01-30</td>\n",
       "      <td>21:46:30.0</td>\n",
       "      <td>27.94</td>\n",
       "      <td>26.83</td>\n",
       "      <td>SOUTH AFRICA</td>\n",
       "    </tr>\n",
       "    <tr>\n",
       "      <th>5</th>\n",
       "      <td>2020-01-30</td>\n",
       "      <td>21:27:39.6</td>\n",
       "      <td>39.02</td>\n",
       "      <td>27.82</td>\n",
       "      <td>WESTERN TURKEY</td>\n",
       "    </tr>\n",
       "    <tr>\n",
       "      <th>6</th>\n",
       "      <td>2020-01-30</td>\n",
       "      <td>21:26:40.2</td>\n",
       "      <td>61.51</td>\n",
       "      <td>146.51</td>\n",
       "      <td>SOUTHERN ALASKA</td>\n",
       "    </tr>\n",
       "    <tr>\n",
       "      <th>7</th>\n",
       "      <td>2020-01-30</td>\n",
       "      <td>21:08:29.0</td>\n",
       "      <td>17.84</td>\n",
       "      <td>101.02</td>\n",
       "      <td>GUERRERO, MEXICO</td>\n",
       "    </tr>\n",
       "    <tr>\n",
       "      <th>8</th>\n",
       "      <td>2020-01-30</td>\n",
       "      <td>21:07:53.0</td>\n",
       "      <td>7.09</td>\n",
       "      <td>122.27</td>\n",
       "      <td>FLORES SEA</td>\n",
       "    </tr>\n",
       "    <tr>\n",
       "      <th>9</th>\n",
       "      <td>2020-01-30</td>\n",
       "      <td>21:05:51.7</td>\n",
       "      <td>38.21</td>\n",
       "      <td>38.71</td>\n",
       "      <td>EASTERN TURKEY</td>\n",
       "    </tr>\n",
       "  </tbody>\n",
       "</table>\n",
       "</div>"
      ],
      "text/plain": [
       "         Date        Time  Latitude  Longitude  \\\n",
       "0  2020-01-30  22:10:14.0      3.65      75.37   \n",
       "1  2020-01-30  21:53:05.0      2.03      99.85   \n",
       "2  2020-01-30  21:50:58.1     38.51      39.31   \n",
       "3  2020-01-30  21:50:36.2     19.21     155.42   \n",
       "4  2020-01-30  21:46:30.0     27.94      26.83   \n",
       "5  2020-01-30  21:27:39.6     39.02      27.82   \n",
       "6  2020-01-30  21:26:40.2     61.51     146.51   \n",
       "7  2020-01-30  21:08:29.0     17.84     101.02   \n",
       "8  2020-01-30  21:07:53.0      7.09     122.27   \n",
       "9  2020-01-30  21:05:51.7     38.21      38.71   \n",
       "\n",
       "                       Region Name  \n",
       "0                    NORTHERN PERU  \n",
       "1  KEP. MENTAWAI REGION, INDONESIA  \n",
       "2                   EASTERN TURKEY  \n",
       "3         ISLAND OF HAWAII, HAWAII  \n",
       "4                     SOUTH AFRICA  \n",
       "5                   WESTERN TURKEY  \n",
       "6                  SOUTHERN ALASKA  \n",
       "7                 GUERRERO, MEXICO  \n",
       "8                       FLORES SEA  \n",
       "9                   EASTERN TURKEY  "
      ]
     },
     "execution_count": 17,
     "metadata": {},
     "output_type": "execute_result"
    }
   ],
   "source": [
    "tags_a = html.select(\"b > a\")\n",
    "date = [e.text.split()[0] for e in tags_a[:-1]]\n",
    "time = [e.text.split()[1] for e in tags_a[:-1]]\n",
    "reg = [e.text.strip() for e in html.select(\".tb_region\")]\n",
    "lat = [float(e.text.strip()) for i,e in enumerate(html.select(\".tabev1\")) if i % 2 == 0]\n",
    "lon = [float(e.text.strip()) for i,e in enumerate(html.select(\".tabev1\")) if i % 2 != 0]\n",
    "data = {'Date':date, 'Time':time, 'Latitude': lat, 'Longitude': lon, \"Region Name\": reg} \n",
    "df = pd.DataFrame(data)\n",
    "df[:10]"
   ]
  },
  {
   "cell_type": "markdown",
   "metadata": {},
   "source": [
    "#### Display the date, days, title, city, country of next 25 hackathon events as a Pandas dataframe table"
   ]
  },
  {
   "cell_type": "code",
   "execution_count": 18,
   "metadata": {},
   "outputs": [],
   "source": [
    "# This is the url you will scrape in this exercise\n",
    "url ='https://hackevents.co/hackathons'\n",
    "#No esta la pag"
   ]
  },
  {
   "cell_type": "code",
   "execution_count": null,
   "metadata": {},
   "outputs": [],
   "source": [
    "\n"
   ]
  },
  {
   "cell_type": "markdown",
   "metadata": {},
   "source": [
    "#### Count number of tweets by a given Twitter account."
   ]
  },
  {
   "cell_type": "markdown",
   "metadata": {},
   "source": [
    "You will need to include a ***try/except block*** for account names not found. \n",
    "<br>***Hint:*** the program should count the number of tweets for any provided account"
   ]
  },
  {
   "cell_type": "code",
   "execution_count": 19,
   "metadata": {},
   "outputs": [
    {
     "name": "stdout",
     "output_type": "stream",
     "text": [
      "La cuenta no existe\n"
     ]
    }
   ],
   "source": [
    "# This is the url you will scrape in this exercise \n",
    "# You will need to add the account credentials to this url\n",
    "url = 'https://twitter.com/ddddddddddddddddddddddd'\n",
    "try:\n",
    "    data = requests.get(url).text\n",
    "    html = BeautifulSoup(data, 'html.parser')\n",
    "    h1 = html.find_all(\"h1\")[0]\n",
    "    if \"Sorry, that page doesn’t exist!\" in h1:\n",
    "        raise ReferenceError\n",
    "except ReferenceError:\n",
    "    print(\"La cuenta no existe\")"
   ]
  },
  {
   "cell_type": "code",
   "execution_count": 20,
   "metadata": {},
   "outputs": [
    {
     "data": {
      "text/plain": [
       "0"
      ]
     },
     "execution_count": 20,
     "metadata": {},
     "output_type": "execute_result"
    }
   ],
   "source": [
    "div = html.find_all(\"div\")\n",
    "div = [e for e in div if \"class\" in e.attrs and e.attrs[\"class\"] == [\"js-tweet-text-container\"]]\n",
    "len(div)"
   ]
  },
  {
   "cell_type": "markdown",
   "metadata": {},
   "source": [
    "#### Number of followers of a given twitter account"
   ]
  },
  {
   "cell_type": "markdown",
   "metadata": {},
   "source": [
    "You will need to include a ***try/except block*** in case account/s name not found. \n",
    "<br>***Hint:*** the program should count the followers for any provided account"
   ]
  },
  {
   "cell_type": "code",
   "execution_count": 21,
   "metadata": {},
   "outputs": [],
   "source": [
    "# This is the url you will scrape in this exercise \n",
    "# You will need to add the account credentials to this url\n",
    "url = 'https://twitter.com/realDonaldTrump'\n",
    "try:\n",
    "    data = requests.get(url).text\n",
    "    html = BeautifulSoup(data, 'html.parser')\n",
    "    h1 = html.find_all(\"h1\")[0]\n",
    "    if \"Sorry, that page doesn’t exist!\" in h1:\n",
    "        raise ReferenceError\n",
    "except ReferenceError:\n",
    "    print(\"La cuenta no existe\")"
   ]
  },
  {
   "cell_type": "code",
   "execution_count": 22,
   "metadata": {},
   "outputs": [
    {
     "data": {
      "text/plain": [
       "'71.879.896 Seguidores'"
      ]
     },
     "execution_count": 22,
     "metadata": {},
     "output_type": "execute_result"
    }
   ],
   "source": [
    "a = html.find_all(\"a\")\n",
    "a = [e for e in a if \"href\" in e.attrs and \"followers\" in e.attrs[\"href\"]]\n",
    "a[0].attrs[\"title\"]"
   ]
  },
  {
   "cell_type": "markdown",
   "metadata": {},
   "source": [
    "#### List all language names and number of related articles in the order they appear in wikipedia.org"
   ]
  },
  {
   "cell_type": "code",
   "execution_count": 23,
   "metadata": {},
   "outputs": [],
   "source": [
    "# This is the url you will scrape in this exercise\n",
    "url = 'https://www.wikipedia.org/'\n",
    "data = requests.get(url).text\n",
    "html = BeautifulSoup(data, 'html.parser')"
   ]
  },
  {
   "cell_type": "code",
   "execution_count": 24,
   "metadata": {},
   "outputs": [
    {
     "name": "stdout",
     "output_type": "stream",
     "text": [
      "English : 5 994 000+ articles\n",
      "æ¥æ¬èª : 1 185 000+ è¨äº\n",
      "Deutsch : 2 385 000+ Artikel\n",
      "EspaÃ±ol : 1 571 000+ artÃ­culos\n",
      "Ð ÑÑÑÐºÐ¸Ð¹ : 1 590 000+ ÑÑÐ°ÑÐµÐ¹\n",
      "FranÃ§ais : 2 171 000+ articles\n",
      "Italiano : 1 576 000+ voci\n",
      "ä¸­æ : 1 090 000+ æ¢ç®\n",
      "PortuguÃªs : 1 018 000+ artigos\n"
     ]
    }
   ],
   "source": [
    "strong = html.find_all(\"strong\")\n",
    "small = html.find_all(\"small\")\n",
    "countries = [e.text for e in strong[1:11]]\n",
    "articles = [e.text for e in small[:9]]\n",
    "for i in range(len(articles)):\n",
    "    print(countries[i], \":\", articles[i])"
   ]
  },
  {
   "cell_type": "markdown",
   "metadata": {},
   "source": [
    "#### A list with the different kind of datasets available in data.gov.uk "
   ]
  },
  {
   "cell_type": "code",
   "execution_count": 25,
   "metadata": {},
   "outputs": [],
   "source": [
    "# This is the url you will scrape in this exercise\n",
    "url = 'https://data.gov.uk/'\n",
    "data = requests.get(url).text\n",
    "html = BeautifulSoup(data, 'html.parser')"
   ]
  },
  {
   "cell_type": "code",
   "execution_count": 26,
   "metadata": {},
   "outputs": [
    {
     "data": {
      "text/plain": [
       "['Business and economy',\n",
       " 'Crime and justice',\n",
       " 'Defence',\n",
       " 'Education',\n",
       " 'Environment',\n",
       " 'Government',\n",
       " 'Government spending',\n",
       " 'Health',\n",
       " 'Mapping',\n",
       " 'Society',\n",
       " 'Towns and cities',\n",
       " 'Transport']"
      ]
     },
     "execution_count": 26,
     "metadata": {},
     "output_type": "execute_result"
    }
   ],
   "source": [
    "datasets = [e.text for e in html.find_all(\"h2\")]\n",
    "datasets"
   ]
  },
  {
   "cell_type": "markdown",
   "metadata": {},
   "source": [
    "#### Top 10 languages by number of native speakers stored in a Pandas Dataframe"
   ]
  },
  {
   "cell_type": "code",
   "execution_count": 27,
   "metadata": {},
   "outputs": [],
   "source": [
    "# This is the url you will scrape in this exercise\n",
    "url = 'https://en.wikipedia.org/wiki/List_of_languages_by_number_of_native_speakers'\n",
    "data = requests.get(url).text\n",
    "html = BeautifulSoup(data, 'html.parser')"
   ]
  },
  {
   "cell_type": "code",
   "execution_count": 28,
   "metadata": {},
   "outputs": [
    {
     "data": {
      "text/html": [
       "<div>\n",
       "<style scoped>\n",
       "    .dataframe tbody tr th:only-of-type {\n",
       "        vertical-align: middle;\n",
       "    }\n",
       "\n",
       "    .dataframe tbody tr th {\n",
       "        vertical-align: top;\n",
       "    }\n",
       "\n",
       "    .dataframe thead th {\n",
       "        text-align: right;\n",
       "    }\n",
       "</style>\n",
       "<table border=\"1\" class=\"dataframe\">\n",
       "  <thead>\n",
       "    <tr style=\"text-align: right;\">\n",
       "      <th></th>\n",
       "      <th>Language</th>\n",
       "      <th>Native Speakers in millions</th>\n",
       "    </tr>\n",
       "  </thead>\n",
       "  <tbody>\n",
       "    <tr>\n",
       "      <th>0</th>\n",
       "      <td>Mandarin</td>\n",
       "      <td>935 (955)</td>\n",
       "    </tr>\n",
       "    <tr>\n",
       "      <th>1</th>\n",
       "      <td>Spanish</td>\n",
       "      <td>390 (405)</td>\n",
       "    </tr>\n",
       "    <tr>\n",
       "      <th>2</th>\n",
       "      <td>English</td>\n",
       "      <td>365 (360)</td>\n",
       "    </tr>\n",
       "    <tr>\n",
       "      <th>3</th>\n",
       "      <td>Hindi</td>\n",
       "      <td>295 (310)</td>\n",
       "    </tr>\n",
       "    <tr>\n",
       "      <th>4</th>\n",
       "      <td>Arabic</td>\n",
       "      <td>280 (295)</td>\n",
       "    </tr>\n",
       "    <tr>\n",
       "      <th>5</th>\n",
       "      <td>Portuguese</td>\n",
       "      <td>205 (215)</td>\n",
       "    </tr>\n",
       "    <tr>\n",
       "      <th>6</th>\n",
       "      <td>Bengali</td>\n",
       "      <td>200 (205)</td>\n",
       "    </tr>\n",
       "    <tr>\n",
       "      <th>7</th>\n",
       "      <td>Russian</td>\n",
       "      <td>160 (155)</td>\n",
       "    </tr>\n",
       "    <tr>\n",
       "      <th>8</th>\n",
       "      <td>Japanese</td>\n",
       "      <td>125 (125)</td>\n",
       "    </tr>\n",
       "    <tr>\n",
       "      <th>9</th>\n",
       "      <td>Punjabi</td>\n",
       "      <td>95 (100)</td>\n",
       "    </tr>\n",
       "  </tbody>\n",
       "</table>\n",
       "</div>"
      ],
      "text/plain": [
       "     Language Native Speakers in millions\n",
       "0    Mandarin                   935 (955)\n",
       "1     Spanish                   390 (405)\n",
       "2     English                   365 (360)\n",
       "3       Hindi                   295 (310)\n",
       "4      Arabic                   280 (295)\n",
       "5  Portuguese                   205 (215)\n",
       "6     Bengali                   200 (205)\n",
       "7     Russian                   160 (155)\n",
       "8    Japanese                   125 (125)\n",
       "9     Punjabi                    95 (100)"
      ]
     },
     "execution_count": 28,
     "metadata": {},
     "output_type": "execute_result"
    }
   ],
   "source": [
    "table = html.find_all(\"table\")\n",
    "language = [e.text for e in table[2].find_all(\"b\")][:10]\n",
    "td = [e.text for e in table[2].find_all(\"td\")]\n",
    "native = [td[e] for e in range(2,40,4)]\n",
    "data = {'Language':language, 'Native Speakers in millions':native} \n",
    "df = pd.DataFrame(data)\n",
    "df"
   ]
  },
  {
   "cell_type": "markdown",
   "metadata": {},
   "source": [
    "### BONUS QUESTIONS"
   ]
  },
  {
   "cell_type": "markdown",
   "metadata": {},
   "source": [
    "#### Scrape a certain number of tweets of a given Twitter account."
   ]
  },
  {
   "cell_type": "code",
   "execution_count": 29,
   "metadata": {},
   "outputs": [],
   "source": [
    "# This is the url you will scrape in this exercise \n",
    "# You will need to add the account credentials to this url\n",
    "url = 'https://twitter.com/realDonaldTrump'\n",
    "try:\n",
    "    data = requests.get(url).text\n",
    "    html = BeautifulSoup(data, 'html.parser')\n",
    "    h1 = html.find_all(\"h1\")[0]\n",
    "    if \"Sorry, that page doesn’t exist!\" in h1:\n",
    "        raise ReferenceError\n",
    "except ReferenceError:\n",
    "    print(\"La cuenta no existe\")"
   ]
  },
  {
   "cell_type": "code",
   "execution_count": 30,
   "metadata": {},
   "outputs": [
    {
     "data": {
      "text/plain": [
       "['GAME OVER!pic.twitter.com/yvMa6bPqfy',\n",
       " \"Can't violate the Logan Act when you're working for the president or acting at his request. \\n\\nLogan Act was created to block private citizens from acting as *if* they represented (the President of) the USA (foreign policy specifically). \\nSuch as Kerry talking to Iran after 2016.\",\n",
       " 'CNN\\'s John King: \"Republicans make a good point. The Whistleblower started all this. Why has the Whistleblower never been questioned? Shouldn’t the House Democrats have found a secure way to do that? It’s a legitimate point of debate.\"pic.twitter.com/lsutmBXBwJ']"
      ]
     },
     "execution_count": 30,
     "metadata": {},
     "output_type": "execute_result"
    }
   ],
   "source": [
    "div = html.find_all(\"div\")\n",
    "div = [e for e in div if \"class\" in e.attrs and e.attrs[\"class\"] == [\"js-tweet-text-container\"]]\n",
    "tweets = [e.text.strip() for e in div]\n",
    "tweets[:3]"
   ]
  },
  {
   "cell_type": "markdown",
   "metadata": {},
   "source": [
    "#### IMDB's Top 250 data (movie name, Initial release, director name and stars) as a pandas dataframe"
   ]
  },
  {
   "cell_type": "code",
   "execution_count": 31,
   "metadata": {},
   "outputs": [],
   "source": [
    "# This is the url you will scrape in this exercise \n",
    "url = 'https://www.imdb.com/chart/top'\n",
    "data = requests.get(url).text\n",
    "html = BeautifulSoup(data, 'html.parser')"
   ]
  },
  {
   "cell_type": "code",
   "execution_count": 32,
   "metadata": {},
   "outputs": [
    {
     "data": {
      "text/html": [
       "<div>\n",
       "<style scoped>\n",
       "    .dataframe tbody tr th:only-of-type {\n",
       "        vertical-align: middle;\n",
       "    }\n",
       "\n",
       "    .dataframe tbody tr th {\n",
       "        vertical-align: top;\n",
       "    }\n",
       "\n",
       "    .dataframe thead th {\n",
       "        text-align: right;\n",
       "    }\n",
       "</style>\n",
       "<table border=\"1\" class=\"dataframe\">\n",
       "  <thead>\n",
       "    <tr style=\"text-align: right;\">\n",
       "      <th></th>\n",
       "      <th>Title</th>\n",
       "      <th>Director</th>\n",
       "      <th>Stars</th>\n",
       "    </tr>\n",
       "  </thead>\n",
       "  <tbody>\n",
       "    <tr>\n",
       "      <th>0</th>\n",
       "      <td>Cadena perpetua</td>\n",
       "      <td>Frank Darabont</td>\n",
       "      <td>Tim Robbins, Morgan Freeman</td>\n",
       "    </tr>\n",
       "    <tr>\n",
       "      <th>1</th>\n",
       "      <td>El padrino</td>\n",
       "      <td>Francis Ford Coppola</td>\n",
       "      <td>Marlon Brando, Al Pacino</td>\n",
       "    </tr>\n",
       "    <tr>\n",
       "      <th>2</th>\n",
       "      <td>El padrino: Parte II</td>\n",
       "      <td>Francis Ford Coppola</td>\n",
       "      <td>Al Pacino, Robert De Niro</td>\n",
       "    </tr>\n",
       "    <tr>\n",
       "      <th>3</th>\n",
       "      <td>El caballero oscuro</td>\n",
       "      <td>Christopher Nolan</td>\n",
       "      <td>Christian Bale, Heath Ledger</td>\n",
       "    </tr>\n",
       "    <tr>\n",
       "      <th>4</th>\n",
       "      <td>12 hombres sin piedad</td>\n",
       "      <td>Sidney Lumet</td>\n",
       "      <td>Henry Fonda, Lee J. Cobb</td>\n",
       "    </tr>\n",
       "  </tbody>\n",
       "</table>\n",
       "</div>"
      ],
      "text/plain": [
       "                   Title              Director                         Stars\n",
       "0        Cadena perpetua        Frank Darabont   Tim Robbins, Morgan Freeman\n",
       "1             El padrino  Francis Ford Coppola      Marlon Brando, Al Pacino\n",
       "2   El padrino: Parte II  Francis Ford Coppola     Al Pacino, Robert De Niro\n",
       "3    El caballero oscuro     Christopher Nolan  Christian Bale, Heath Ledger\n",
       "4  12 hombres sin piedad          Sidney Lumet      Henry Fonda, Lee J. Cobb"
      ]
     },
     "metadata": {},
     "output_type": "display_data"
    },
    {
     "data": {
      "text/html": [
       "<div>\n",
       "<style scoped>\n",
       "    .dataframe tbody tr th:only-of-type {\n",
       "        vertical-align: middle;\n",
       "    }\n",
       "\n",
       "    .dataframe tbody tr th {\n",
       "        vertical-align: top;\n",
       "    }\n",
       "\n",
       "    .dataframe thead th {\n",
       "        text-align: right;\n",
       "    }\n",
       "</style>\n",
       "<table border=\"1\" class=\"dataframe\">\n",
       "  <thead>\n",
       "    <tr style=\"text-align: right;\">\n",
       "      <th></th>\n",
       "      <th>Title</th>\n",
       "      <th>Director</th>\n",
       "      <th>Stars</th>\n",
       "    </tr>\n",
       "  </thead>\n",
       "  <tbody>\n",
       "    <tr>\n",
       "      <th>245</th>\n",
       "      <td>Contratiempo</td>\n",
       "      <td>Oriol Paulo</td>\n",
       "      <td>Mario Casas, Ana Wagener</td>\n",
       "    </tr>\n",
       "    <tr>\n",
       "      <th>246</th>\n",
       "      <td>Aladdín</td>\n",
       "      <td>Ron Clements</td>\n",
       "      <td>Scott Weinger, Robin Williams</td>\n",
       "    </tr>\n",
       "    <tr>\n",
       "      <th>247</th>\n",
       "      <td>Mujercitas</td>\n",
       "      <td>Greta Gerwig</td>\n",
       "      <td>Saoirse Ronan, Emma Watson</td>\n",
       "    </tr>\n",
       "    <tr>\n",
       "      <th>248</th>\n",
       "      <td>El castillo en el cielo</td>\n",
       "      <td>Hayao Miyazaki</td>\n",
       "      <td>Anna Paquin, James Van Der Beek</td>\n",
       "    </tr>\n",
       "    <tr>\n",
       "      <th>249</th>\n",
       "      <td>Neon Genesis Evangelion: The End of Evangelion</td>\n",
       "      <td>Hideaki Anno</td>\n",
       "      <td>Megumi Ogata, Megumi Hayashibara</td>\n",
       "    </tr>\n",
       "  </tbody>\n",
       "</table>\n",
       "</div>"
      ],
      "text/plain": [
       "                                              Title        Director  \\\n",
       "245                                    Contratiempo     Oriol Paulo   \n",
       "246                                         Aladdín    Ron Clements   \n",
       "247                                      Mujercitas    Greta Gerwig   \n",
       "248                         El castillo en el cielo  Hayao Miyazaki   \n",
       "249  Neon Genesis Evangelion: The End of Evangelion    Hideaki Anno   \n",
       "\n",
       "                                Stars  \n",
       "245          Mario Casas, Ana Wagener  \n",
       "246     Scott Weinger, Robin Williams  \n",
       "247        Saoirse Ronan, Emma Watson  \n",
       "248   Anna Paquin, James Van Der Beek  \n",
       "249  Megumi Ogata, Megumi Hayashibara  "
      ]
     },
     "execution_count": 32,
     "metadata": {},
     "output_type": "execute_result"
    }
   ],
   "source": [
    "a = html.find_all(\"a\")\n",
    "movies = [e for e in a if \"title\" in e.attrs][:-5]\n",
    "title = [e.text for e in movies]\n",
    "director = [e.attrs[\"title\"][:e.attrs[\"title\"].index(\" (dir.)\")] for e in movies]\n",
    "stars = [e.attrs[\"title\"][e.attrs[\"title\"].index(\"), \"):][3:] for e in movies]\n",
    "data = {'Title':title, 'Director':director, 'Stars':stars} \n",
    "df = pd.DataFrame(data)\n",
    "display(df.head())\n",
    "df.tail()"
   ]
  },
  {
   "cell_type": "markdown",
   "metadata": {},
   "source": [
    "#### Movie name, year and a brief summary of the top 10 random movies (IMDB) as a pandas dataframe."
   ]
  },
  {
   "cell_type": "code",
   "execution_count": 33,
   "metadata": {},
   "outputs": [],
   "source": [
    "#This is the url you will scrape in this exercise\n",
    "url = 'http://www.imdb.com/chart/top'"
   ]
  },
  {
   "cell_type": "code",
   "execution_count": 34,
   "metadata": {},
   "outputs": [],
   "source": [
    "def get_random_movies(num):\n",
    "    url = 'http://www.imdb.com/chart/top'\n",
    "    data = requests.get(url).text\n",
    "    html = BeautifulSoup(data, 'html.parser')\n",
    "    a = html.find_all(\"a\")\n",
    "    movies = [e for e in a if \"title\" in e.attrs][:-5]\n",
    "    title = [e.text for e in movies]\n",
    "    year = [e.text[1:-1] for e in html.select('span[class^=\"secondaryInfo\"]')]\n",
    "    urls = [url[:-10] + e.attrs[\"href\"] for e in a if \"title\" in e.attrs][:-5]\n",
    "    description_df = []\n",
    "    title_df = []\n",
    "    year_df = []\n",
    "    for e in random.choices(range(250), k=num):\n",
    "        data2 = requests.get(urls[e]).text\n",
    "        html2 = BeautifulSoup(data2, 'html.parser')\n",
    "        description_df.append(((html2.select('div[class^=\"summary_text\"]')[0].text)))\n",
    "        title_df.append(title[e])\n",
    "        year_df.append(year[e])\n",
    "    data = {'Title':title_df, 'Year':year_df, 'Description':description_df} \n",
    "    return pd.DataFrame(data)"
   ]
  },
  {
   "cell_type": "code",
   "execution_count": 35,
   "metadata": {},
   "outputs": [
    {
     "data": {
      "text/html": [
       "<div>\n",
       "<style scoped>\n",
       "    .dataframe tbody tr th:only-of-type {\n",
       "        vertical-align: middle;\n",
       "    }\n",
       "\n",
       "    .dataframe tbody tr th {\n",
       "        vertical-align: top;\n",
       "    }\n",
       "\n",
       "    .dataframe thead th {\n",
       "        text-align: right;\n",
       "    }\n",
       "</style>\n",
       "<table border=\"1\" class=\"dataframe\">\n",
       "  <thead>\n",
       "    <tr style=\"text-align: right;\">\n",
       "      <th></th>\n",
       "      <th>Title</th>\n",
       "      <th>Year</th>\n",
       "      <th>Description</th>\n",
       "    </tr>\n",
       "  </thead>\n",
       "  <tbody>\n",
       "    <tr>\n",
       "      <th>0</th>\n",
       "      <td>Jungla de cristal</td>\n",
       "      <td>1988</td>\n",
       "      <td>\\n                    An NYPD officer tries to...</td>\n",
       "    </tr>\n",
       "    <tr>\n",
       "      <th>1</th>\n",
       "      <td>Kill Bill: Volumen 1</td>\n",
       "      <td>2003</td>\n",
       "      <td>\\n                    After awakening from a f...</td>\n",
       "    </tr>\n",
       "    <tr>\n",
       "      <th>2</th>\n",
       "      <td>Sin perdón</td>\n",
       "      <td>1992</td>\n",
       "      <td>\\n                    Retired Old West gunslin...</td>\n",
       "    </tr>\n",
       "    <tr>\n",
       "      <th>3</th>\n",
       "      <td>Shutter Island</td>\n",
       "      <td>2010</td>\n",
       "      <td>\\n                    In 1954, a U.S. Marshal ...</td>\n",
       "    </tr>\n",
       "    <tr>\n",
       "      <th>4</th>\n",
       "      <td>No es país para viejos</td>\n",
       "      <td>2007</td>\n",
       "      <td>\\n                    Violence and mayhem ensu...</td>\n",
       "    </tr>\n",
       "  </tbody>\n",
       "</table>\n",
       "</div>"
      ],
      "text/plain": [
       "                    Title  Year  \\\n",
       "0       Jungla de cristal  1988   \n",
       "1    Kill Bill: Volumen 1  2003   \n",
       "2              Sin perdón  1992   \n",
       "3          Shutter Island  2010   \n",
       "4  No es país para viejos  2007   \n",
       "\n",
       "                                         Description  \n",
       "0  \\n                    An NYPD officer tries to...  \n",
       "1  \\n                    After awakening from a f...  \n",
       "2  \\n                    Retired Old West gunslin...  \n",
       "3  \\n                    In 1954, a U.S. Marshal ...  \n",
       "4  \\n                    Violence and mayhem ensu...  "
      ]
     },
     "execution_count": 35,
     "metadata": {},
     "output_type": "execute_result"
    }
   ],
   "source": [
    "get_random_movies(5)"
   ]
  },
  {
   "cell_type": "markdown",
   "metadata": {},
   "source": [
    "#### Find the live weather report (temperature, wind speed, description and weather) of a given city."
   ]
  },
  {
   "cell_type": "code",
   "execution_count": 36,
   "metadata": {},
   "outputs": [
    {
     "name": "stdout",
     "output_type": "stream",
     "text": [
      "Enter the city:Madrid\n"
     ]
    }
   ],
   "source": [
    "#https://openweathermap.org/current\n",
    "city = city=input('Enter the city:')\n",
    "url = 'http://api.openweathermap.org/data/2.5/weather?'+'q='+city+'&APPID=b35975e18dc93725acb092f7272cc6b8&units=metric'\n",
    "data = requests.get(url).text\n",
    "html = BeautifulSoup(data, 'html.parser')"
   ]
  },
  {
   "cell_type": "code",
   "execution_count": 37,
   "metadata": {},
   "outputs": [
    {
     "name": "stdout",
     "output_type": "stream",
     "text": [
      "Temperature: 9.24\n",
      "Wind Speed: 2.1\n",
      "Description: broken clouds\n"
     ]
    }
   ],
   "source": [
    "temp = re.search('temp\":\\d+\\.\\d+', html.text)\n",
    "wind = re.search('speed\":\\d+\\.\\d+', html.text)\n",
    "desc = re.search('description\":\"\\w+(\\s?\\w+)', html.text)\n",
    "desc = re.search('description\":\"\\w+(\\s?\\w+)', html.text)\n",
    "print(\"Temperature:\",temp.group().split(\":\")[1])\n",
    "print(\"Wind Speed:\",wind.group().split(\":\")[1])\n",
    "print(\"Description:\",desc.group().split(\":\")[1][1:])\n",
    "\n"
   ]
  },
  {
   "cell_type": "markdown",
   "metadata": {},
   "source": [
    "#### Book name,price and stock availability as a pandas dataframe."
   ]
  },
  {
   "cell_type": "code",
   "execution_count": 38,
   "metadata": {},
   "outputs": [],
   "source": [
    "# This is the url you will scrape in this exercise. \n",
    "# It is a fictional bookstore created to be scraped. \n",
    "url = 'http://books.toscrape.com/'\n",
    "data = requests.get(url).text\n",
    "html = BeautifulSoup(data, 'html.parser')"
   ]
  },
  {
   "cell_type": "code",
   "execution_count": 39,
   "metadata": {},
   "outputs": [
    {
     "data": {
      "text/html": [
       "<div>\n",
       "<style scoped>\n",
       "    .dataframe tbody tr th:only-of-type {\n",
       "        vertical-align: middle;\n",
       "    }\n",
       "\n",
       "    .dataframe tbody tr th {\n",
       "        vertical-align: top;\n",
       "    }\n",
       "\n",
       "    .dataframe thead th {\n",
       "        text-align: right;\n",
       "    }\n",
       "</style>\n",
       "<table border=\"1\" class=\"dataframe\">\n",
       "  <thead>\n",
       "    <tr style=\"text-align: right;\">\n",
       "      <th></th>\n",
       "      <th>Title</th>\n",
       "      <th>Price</th>\n",
       "      <th>Stock</th>\n",
       "    </tr>\n",
       "  </thead>\n",
       "  <tbody>\n",
       "    <tr>\n",
       "      <th>0</th>\n",
       "      <td>A Light in the Attic</td>\n",
       "      <td>£51.77</td>\n",
       "      <td>In stock</td>\n",
       "    </tr>\n",
       "    <tr>\n",
       "      <th>1</th>\n",
       "      <td>Tipping the Velvet</td>\n",
       "      <td>£53.74</td>\n",
       "      <td>In stock</td>\n",
       "    </tr>\n",
       "    <tr>\n",
       "      <th>2</th>\n",
       "      <td>Soumission</td>\n",
       "      <td>£50.10</td>\n",
       "      <td>In stock</td>\n",
       "    </tr>\n",
       "    <tr>\n",
       "      <th>3</th>\n",
       "      <td>Sharp Objects</td>\n",
       "      <td>£47.82</td>\n",
       "      <td>In stock</td>\n",
       "    </tr>\n",
       "    <tr>\n",
       "      <th>4</th>\n",
       "      <td>Sapiens: A Brief History of Humankind</td>\n",
       "      <td>£54.23</td>\n",
       "      <td>In stock</td>\n",
       "    </tr>\n",
       "  </tbody>\n",
       "</table>\n",
       "</div>"
      ],
      "text/plain": [
       "                                   Title   Price     Stock\n",
       "0                   A Light in the Attic  £51.77  In stock\n",
       "1                     Tipping the Velvet  £53.74  In stock\n",
       "2                             Soumission  £50.10  In stock\n",
       "3                          Sharp Objects  £47.82  In stock\n",
       "4  Sapiens: A Brief History of Humankind  £54.23  In stock"
      ]
     },
     "execution_count": 39,
     "metadata": {},
     "output_type": "execute_result"
    }
   ],
   "source": [
    "title = [e.attrs[\"title\"] for e in html.find_all(\"a\") if \"title\" in e.attrs]\n",
    "price = [e.text[1:] for e in html.select('p[class^=\"price\"]')]\n",
    "stock = [e.text.strip() for e in html.select('p[class^=\"instock availability\"]')]\n",
    "data = {'Title':title, 'Price':price, 'Stock':stock} \n",
    "df = pd.DataFrame(data)\n",
    "df.head()"
   ]
  }
 ],
 "metadata": {
  "kernelspec": {
   "display_name": "Python 3",
   "language": "python",
   "name": "python3"
  },
  "language_info": {
   "codemirror_mode": {
    "name": "ipython",
    "version": 3
   },
   "file_extension": ".py",
   "mimetype": "text/x-python",
   "name": "python",
   "nbconvert_exporter": "python",
   "pygments_lexer": "ipython3",
   "version": "3.7.5"
  }
 },
 "nbformat": 4,
 "nbformat_minor": 2
}
