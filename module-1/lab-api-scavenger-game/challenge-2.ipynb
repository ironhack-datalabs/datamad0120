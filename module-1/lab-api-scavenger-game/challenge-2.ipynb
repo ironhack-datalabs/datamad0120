{
 "cells": [
  {
   "cell_type": "code",
   "execution_count": 16,
   "metadata": {},
   "outputs": [],
   "source": [
    "# Imports\n",
    "import json\n",
    "import os\n",
    "import requests\n",
    "from dotenv import load_dotenv"
   ]
  },
  {
   "cell_type": "code",
   "execution_count": 17,
   "metadata": {},
   "outputs": [
    {
     "name": "stdout",
     "output_type": "stream",
     "text": [
      "We have a github token: 58c\n"
     ]
    }
   ],
   "source": [
    "load_dotenv()\n",
    "token = os.getenv('GITHUB_APIKEY')\n",
    "print(f\"We have a github token: {token[2:5]}\")"
   ]
  },
  {
   "cell_type": "code",
   "execution_count": 18,
   "metadata": {},
   "outputs": [],
   "source": [
    "def requestGithub(endpoint):\n",
    "    token = os.getenv(\"GITHUB_APIKEY\")\n",
    "    if not token:\n",
    "        raise ValueError(\"You must set a GITHUB_APIKEY token\")\n",
    "    \n",
    "    baseUrl = \"https://api.github.com\"\n",
    "    url = baseUrl+endpoint\n",
    "    print(f\"Requesting data from {url}\")\n",
    "    headers = {\n",
    "        \"Authorization\": f\"token {token}\"\n",
    "    }\n",
    "    res = requests.get(url,headers=headers)\n",
    "    if res.status_code != 200:\n",
    "        print(res.text)\n",
    "        raise ValueError(\"Bad Response\")\n",
    "        \n",
    "    return res.json()"
   ]
  },
  {
   "cell_type": "code",
   "execution_count": 26,
   "metadata": {},
   "outputs": [
    {
     "name": "stdout",
     "output_type": "stream",
     "text": [
      "Requesting data from https://api.github.com/repos/ironhack-datalabs/datamad0120/commits?since=2020-01-20:00:00:01&until=2020-01-26:23:59:59\n"
     ]
    }
   ],
   "source": [
    "data = requestGithub(\"/repos/ironhack-datalabs/datamad0120/commits?since=2020-01-20:00:00:01&until=2020-01-26:23:59:59\")"
   ]
  },
  {
   "cell_type": "code",
   "execution_count": 51,
   "metadata": {},
   "outputs": [
    {
     "data": {
      "text/plain": [
       "1"
      ]
     },
     "execution_count": 51,
     "metadata": {},
     "output_type": "execute_result"
    }
   ],
   "source": [
    "len([dat['commit'] for dat in data])"
   ]
  },
  {
   "cell_type": "code",
   "execution_count": null,
   "metadata": {},
   "outputs": [],
   "source": []
  }
 ],
 "metadata": {
  "kernelspec": {
   "display_name": "Python 3",
   "language": "python",
   "name": "python3"
  },
  "language_info": {
   "codemirror_mode": {
    "name": "ipython",
    "version": 3
   },
   "file_extension": ".py",
   "mimetype": "text/x-python",
   "name": "python",
   "nbconvert_exporter": "python",
   "pygments_lexer": "ipython3",
   "version": "3.7.5"
  }
 },
 "nbformat": 4,
 "nbformat_minor": 2
}
