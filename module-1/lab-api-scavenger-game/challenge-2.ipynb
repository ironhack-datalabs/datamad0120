{
 "cells": [
  {
   "cell_type": "code",
   "execution_count": null,
   "metadata": {},
   "outputs": [],
   "source": [
    "# Imports\n",
    "import json\n",
    "import os\n",
    "import requests\n",
    "from dotenv import load_dotenv"
   ]
  },
  {
   "cell_type": "code",
   "execution_count": null,
   "metadata": {},
   "outputs": [],
   "source": [
    "load_dotenv()\n",
    "token = os.getenv('GITHUB_APIKEY')\n",
    "print(f\"We have a github token: {token[2:5]}\")"
   ]
  },
  {
   "cell_type": "code",
   "execution_count": null,
   "metadata": {},
   "outputs": [],
   "source": [
    "def requestGithub(endpoint):\n",
    "    token = os.getenv(\"GITHUB_APIKEY\")\n",
    "    if not token:\n",
    "        raise ValueError(\"You must set a GITHUB_APIKEY token\")\n",
    "    \n",
    "    baseUrl = \"https://api.github.com\"\n",
    "    url = baseUrl+endpoint\n",
    "    print(f\"Requesting data from {url}\")\n",
    "    headers = {\n",
    "        \"Authorization\": f\"token {token}\"\n",
    "    }\n",
    "    res = requests.get(url,headers=headers)\n",
    "    if res.status_code != 200:\n",
    "        print(res.text)\n",
    "        raise ValueError(\"Bad Response\")\n",
    "    return res.json()"
   ]
  }
 ],
 "metadata": {
  "kernelspec": {
   "display_name": "Python 3",
   "language": "python",
   "name": "python3"
  },
  "language_info": {
   "codemirror_mode": {
    "name": "ipython",
    "version": 3
   },
   "file_extension": ".py",
   "mimetype": "text/x-python",
   "name": "python",
   "nbconvert_exporter": "python",
   "pygments_lexer": "ipython3",
   "version": "3.7.5"
  }
 },
 "nbformat": 4,
 "nbformat_minor": 2
}
