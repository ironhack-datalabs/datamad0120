{
 "cells": [
  {
   "cell_type": "code",
   "execution_count": 19,
   "metadata": {},
   "outputs": [
    {
     "name": "stdout",
     "output_type": "stream",
     "text": [
      "We have a github token: 40a\n"
     ]
    }
   ],
   "source": [
    "# try it with this bash command before running jupyter notebook\n",
    "# $ export GITHUB_APIKEY=\"1234\"\n",
    "import requests\n",
    "import os\n",
    "from dotenv import load_dotenv\n",
    "load_dotenv()\n",
    "\n",
    "token = os.getenv(\"GITHUB_KEY\")\n",
    "print(f\"We have a github token: {token[0:3]}\")"
   ]
  },
  {
   "cell_type": "code",
   "execution_count": 20,
   "metadata": {},
   "outputs": [],
   "source": [
    "def requestGithub(endpoint):\n",
    "    token = os.getenv(\"GITHUB_KEY\")\n",
    "    if not token:\n",
    "        raise ValueError(\"You must set a GITHUB_KEY token\")\n",
    "    \n",
    "    baseUrl = \"https://api.github.com\"\n",
    "    url = baseUrl+endpoint\n",
    "    print(f\"Requesting data from {url}\")\n",
    "    headers = {\n",
    "        \"Authorization\": f\"token {token}\"\n",
    "    }\n",
    "    res = requests.get(url,headers=headers)\n",
    "    if res.status_code != 200:\n",
    "        print(res.text)\n",
    "        raise ValueError(\"Bad Response\")\n",
    "    return res.json()\n"
   ]
  },
  {
   "cell_type": "code",
   "execution_count": 25,
   "metadata": {},
   "outputs": [
    {
     "name": "stdout",
     "output_type": "stream",
     "text": [
      "Requesting data from https://api.github.com/repos/ironhack-datalabs/datamad0120/commits?since='2020-01-20T00:00:00'Z\n"
     ]
    },
    {
     "data": {
      "text/plain": [
       "[{'sha': '6c8dd4ca113cf9dc58d60a04a5e12441a13c08fa',\n",
       "  'node_id': 'MDY6Q29tbWl0MjMzNTc5NDU2OjZjOGRkNGNhMTEzY2Y5ZGM1OGQ2MGEwNGE1ZTEyNDQxYTEzYzA4ZmE=',\n",
       "  'commit': {'author': {'name': 'Clara',\n",
       "    'email': '55156332+Clapiniella@users.noreply.github.com',\n",
       "    'date': '2020-01-23T13:58:34Z'},\n",
       "   'committer': {'name': 'GitHub',\n",
       "    'email': 'noreply@github.com',\n",
       "    'date': '2020-01-23T13:58:34Z'},\n",
       "   'message': 'Update README.md',\n",
       "   'tree': {'sha': 'e7160f4564bfe920182fdf0072180ff8ce89130f',\n",
       "    'url': 'https://api.github.com/repos/ironhack-datalabs/datamad0120/git/trees/e7160f4564bfe920182fdf0072180ff8ce89130f'},\n",
       "   'url': 'https://api.github.com/repos/ironhack-datalabs/datamad0120/git/commits/6c8dd4ca113cf9dc58d60a04a5e12441a13c08fa',\n",
       "   'comment_count': 0,\n",
       "   'verification': {'verified': True,\n",
       "    'reason': 'valid',\n",
       "    'signature': '-----BEGIN PGP SIGNATURE-----\\n\\nwsBcBAABCAAQBQJeKaaKCRBK7hj4Ov3rIwAAdHIIAGe2JdwREMk0k0y2NCjmwcGr\\nRv96wjEWR4dBoXVJdTzYYr/JOaeuLpsrw/QNFsFqKs7A63dH1U7CLC+baDhs2vdJ\\nIqFgGHr7rwuXuE5aOZInxHlQCRT44iNVha5Z66KWC6PBVabks5fegoxhmBetLoa4\\n32TyRHvkRujos8VxM3apnT3Z+fbA132ATchXiMV3im+3jDpUigUkstoL9aWPiP48\\naKCxh3TAlI8xwqy2m2hhgsxxQp09eA6KN/MKPMQzQw52cvXs7gN83TQBymQZl44O\\nnJ5hLI49TabhXLmfjL0CAl1sFUEJSvIZ+Dsmx0rlVbEaMk3naS8nSmQPdNZmua8=\\n=mbLn\\n-----END PGP SIGNATURE-----\\n',\n",
       "    'payload': 'tree e7160f4564bfe920182fdf0072180ff8ce89130f\\nparent 1cd7b23e91644bd7c2c6a241eee16ea21835955d\\nauthor Clara <55156332+Clapiniella@users.noreply.github.com> 1579787914 +0100\\ncommitter GitHub <noreply@github.com> 1579787914 +0100\\n\\nUpdate README.md'}},\n",
       "  'url': 'https://api.github.com/repos/ironhack-datalabs/datamad0120/commits/6c8dd4ca113cf9dc58d60a04a5e12441a13c08fa',\n",
       "  'html_url': 'https://github.com/ironhack-datalabs/datamad0120/commit/6c8dd4ca113cf9dc58d60a04a5e12441a13c08fa',\n",
       "  'comments_url': 'https://api.github.com/repos/ironhack-datalabs/datamad0120/commits/6c8dd4ca113cf9dc58d60a04a5e12441a13c08fa/comments',\n",
       "  'author': {'login': 'Clapiniella',\n",
       "   'id': 55156332,\n",
       "   'node_id': 'MDQ6VXNlcjU1MTU2MzMy',\n",
       "   'avatar_url': 'https://avatars3.githubusercontent.com/u/55156332?v=4',\n",
       "   'gravatar_id': '',\n",
       "   'url': 'https://api.github.com/users/Clapiniella',\n",
       "   'html_url': 'https://github.com/Clapiniella',\n",
       "   'followers_url': 'https://api.github.com/users/Clapiniella/followers',\n",
       "   'following_url': 'https://api.github.com/users/Clapiniella/following{/other_user}',\n",
       "   'gists_url': 'https://api.github.com/users/Clapiniella/gists{/gist_id}',\n",
       "   'starred_url': 'https://api.github.com/users/Clapiniella/starred{/owner}{/repo}',\n",
       "   'subscriptions_url': 'https://api.github.com/users/Clapiniella/subscriptions',\n",
       "   'organizations_url': 'https://api.github.com/users/Clapiniella/orgs',\n",
       "   'repos_url': 'https://api.github.com/users/Clapiniella/repos',\n",
       "   'events_url': 'https://api.github.com/users/Clapiniella/events{/privacy}',\n",
       "   'received_events_url': 'https://api.github.com/users/Clapiniella/received_events',\n",
       "   'type': 'User',\n",
       "   'site_admin': False},\n",
       "  'committer': {'login': 'web-flow',\n",
       "   'id': 19864447,\n",
       "   'node_id': 'MDQ6VXNlcjE5ODY0NDQ3',\n",
       "   'avatar_url': 'https://avatars3.githubusercontent.com/u/19864447?v=4',\n",
       "   'gravatar_id': '',\n",
       "   'url': 'https://api.github.com/users/web-flow',\n",
       "   'html_url': 'https://github.com/web-flow',\n",
       "   'followers_url': 'https://api.github.com/users/web-flow/followers',\n",
       "   'following_url': 'https://api.github.com/users/web-flow/following{/other_user}',\n",
       "   'gists_url': 'https://api.github.com/users/web-flow/gists{/gist_id}',\n",
       "   'starred_url': 'https://api.github.com/users/web-flow/starred{/owner}{/repo}',\n",
       "   'subscriptions_url': 'https://api.github.com/users/web-flow/subscriptions',\n",
       "   'organizations_url': 'https://api.github.com/users/web-flow/orgs',\n",
       "   'repos_url': 'https://api.github.com/users/web-flow/repos',\n",
       "   'events_url': 'https://api.github.com/users/web-flow/events{/privacy}',\n",
       "   'received_events_url': 'https://api.github.com/users/web-flow/received_events',\n",
       "   'type': 'User',\n",
       "   'site_admin': False},\n",
       "  'parents': [{'sha': '1cd7b23e91644bd7c2c6a241eee16ea21835955d',\n",
       "    'url': 'https://api.github.com/repos/ironhack-datalabs/datamad0120/commits/1cd7b23e91644bd7c2c6a241eee16ea21835955d',\n",
       "    'html_url': 'https://github.com/ironhack-datalabs/datamad0120/commit/1cd7b23e91644bd7c2c6a241eee16ea21835955d'}]}]"
      ]
     },
     "execution_count": 25,
     "metadata": {},
     "output_type": "execute_result"
    }
   ],
   "source": [
    "commits = requestGithub(\"/repos/ironhack-datalabs/datamad0120/commits?since='2020-01-20T00:00:00'Z\")\n",
    "commits"
   ]
  },
  {
   "cell_type": "code",
   "execution_count": 26,
   "metadata": {},
   "outputs": [
    {
     "data": {
      "text/plain": [
       "1"
      ]
     },
     "execution_count": 26,
     "metadata": {},
     "output_type": "execute_result"
    }
   ],
   "source": [
    "len(commits)"
   ]
  },
  {
   "cell_type": "code",
   "execution_count": null,
   "metadata": {},
   "outputs": [],
   "source": []
  }
 ],
 "metadata": {
  "kernelspec": {
   "display_name": "Python 3",
   "language": "python",
   "name": "python3"
  },
  "language_info": {
   "codemirror_mode": {
    "name": "ipython",
    "version": 3
   },
   "file_extension": ".py",
   "mimetype": "text/x-python",
   "name": "python",
   "nbconvert_exporter": "python",
   "pygments_lexer": "ipython3",
   "version": "3.7.5"
  }
 },
 "nbformat": 4,
 "nbformat_minor": 4
}
