{
 "cells": [
  {
   "cell_type": "markdown",
   "metadata": {},
   "source": [
    "# Project - Manipulación de DataFrames mediante el uso de Pandas"
   ]
  },
  {
   "cell_type": "code",
   "execution_count": null,
   "metadata": {},
   "outputs": [],
   "source": [
    "# Overview\n",
    "\n",
    "# El objetivo de este proyecto era la limpieza de un archivo csv mediante Pandas, el archivo lo importamos de la\n",
    "# pagina kaggle, llamado shark attack."
   ]
  },
  {
   "cell_type": "markdown",
   "metadata": {},
   "source": [
    "# Requerimientos Técnicos"
   ]
  },
  {
   "cell_type": "code",
   "execution_count": null,
   "metadata": {},
   "outputs": [],
   "source": [
    "# Importar la data usando pandas, así como las librerías necesarias\n",
    "# Aplicar al menos 8 manipulaciones y limpiezas al dataset\n",
    "# Examinar la data para cubrir los objetivos e hipótesis planteadas\n",
    "# Mediante un jupyter notebook mostrar paso a paso los códigos usados para la obtención de la data requerida"
   ]
  },
  {
   "cell_type": "markdown",
   "metadata": {},
   "source": [
    "# Los entregables necesarios"
   ]
  },
  {
   "cell_type": "code",
   "execution_count": null,
   "metadata": {},
   "outputs": [],
   "source": [
    "# El jupyter notebook con los códigos utilizados\n",
    "# El Readme explicando el proyecto"
   ]
  },
  {
   "cell_type": "markdown",
   "metadata": {},
   "source": [
    "# Hipótesis Planteadas"
   ]
  },
  {
   "cell_type": "code",
   "execution_count": null,
   "metadata": {},
   "outputs": [],
   "source": [
    "# Los ataques de tiburones guardan relación con la fatalidad en cada continente."
   ]
  },
  {
   "cell_type": "markdown",
   "metadata": {},
   "source": [
    "# Conclusiones"
   ]
  },
  {
   "cell_type": "code",
   "execution_count": null,
   "metadata": {},
   "outputs": [],
   "source": [
    "# Los ataques de tiburones no guardan relación con la fatalidad en cada continente, ya que continentes como\n",
    "# América u Oceanía que son los que tienen más ataques su % de fatalidad no es tan elevada, como sería el caso\n",
    "# de Africa y Asia donde la fatalidad ronda el 50% de los ataques, llevandome a pensar que puede ser por 2 cosas,\n",
    "# 1) La especie de tiburones en esas aguas con más letales,\n",
    "# 2) Las asistencias son más precarias, cubriendo con menos éxito cada caso."
   ]
  },
  {
   "cell_type": "markdown",
   "metadata": {},
   "source": [
    "# Recursos utilizados"
   ]
  },
  {
   "cell_type": "code",
   "execution_count": null,
   "metadata": {},
   "outputs": [],
   "source": [
    "# [Pandas Documentation]\n",
    "# [Pandas Tutorials]\n",
    "# [StackOverflow Pandas Questions]\n",
    "# [Awesome Public Data Sets]\n",
    "# [Kaggle Data Sets]"
   ]
  }
 ],
 "metadata": {
  "kernelspec": {
   "display_name": "Python 3",
   "language": "python",
   "name": "python3"
  },
  "language_info": {
   "codemirror_mode": {
    "name": "ipython",
    "version": 3
   },
   "file_extension": ".py",
   "mimetype": "text/x-python",
   "name": "python",
   "nbconvert_exporter": "python",
   "pygments_lexer": "ipython3",
   "version": "3.7.5"
  }
 },
 "nbformat": 4,
 "nbformat_minor": 4
}
