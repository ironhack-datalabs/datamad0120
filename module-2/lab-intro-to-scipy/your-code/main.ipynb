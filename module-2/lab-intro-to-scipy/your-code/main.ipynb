{
 "cells": [
  {
   "cell_type": "markdown",
   "metadata": {},
   "source": [
    "# Before your start:\n",
    "- Read the README.md file\n",
    "- Comment as much as you can and use the resources (README.md file)\n",
    "- Happy learning!"
   ]
  },
  {
   "cell_type": "code",
   "execution_count": 55,
   "metadata": {},
   "outputs": [],
   "source": [
    "import numpy as np\n",
    "import pandas as pd\n",
    "import scipy\n",
    "from scipy import linalg\n",
    "from scipy.interpolate import interp1d"
   ]
  },
  {
   "cell_type": "markdown",
   "metadata": {},
   "source": [
    "# Challenge 1 - The `stats` Submodule\n",
    "\n",
    "This submodule contains statistical functions for conducting hypothesis tests, producing various distributions and other useful tools. Let's examine this submodule using the KickStarter dataset. We will load the dataset below."
   ]
  },
  {
   "cell_type": "code",
   "execution_count": 14,
   "metadata": {},
   "outputs": [],
   "source": [
    "# Run this code:\n",
    "kickstarter = pd.read_csv('../ks-projects-201801.csv')"
   ]
  },
  {
   "cell_type": "markdown",
   "metadata": {},
   "source": [
    "Now print the `head` function to examine the dataset."
   ]
  },
  {
   "cell_type": "code",
   "execution_count": 5,
   "metadata": {},
   "outputs": [
    {
     "data": {
      "text/html": "<div>\n<style scoped>\n    .dataframe tbody tr th:only-of-type {\n        vertical-align: middle;\n    }\n\n    .dataframe tbody tr th {\n        vertical-align: top;\n    }\n\n    .dataframe thead th {\n        text-align: right;\n    }\n</style>\n<table border=\"1\" class=\"dataframe\">\n  <thead>\n    <tr style=\"text-align: right;\">\n      <th></th>\n      <th>ID</th>\n      <th>name</th>\n      <th>category</th>\n      <th>main_category</th>\n      <th>currency</th>\n      <th>deadline</th>\n      <th>goal</th>\n      <th>launched</th>\n      <th>pledged</th>\n      <th>state</th>\n      <th>backers</th>\n      <th>country</th>\n      <th>usd pledged</th>\n      <th>usd_pledged_real</th>\n      <th>usd_goal_real</th>\n    </tr>\n  </thead>\n  <tbody>\n    <tr>\n      <th>0</th>\n      <td>1000002330</td>\n      <td>The Songs of Adelaide &amp; Abullah</td>\n      <td>Poetry</td>\n      <td>Publishing</td>\n      <td>GBP</td>\n      <td>2015-10-09</td>\n      <td>1000.0</td>\n      <td>2015-08-11 12:12:28</td>\n      <td>0.00</td>\n      <td>failed</td>\n      <td>0</td>\n      <td>GB</td>\n      <td>0.00</td>\n      <td>0.00</td>\n      <td>1533.95</td>\n    </tr>\n    <tr>\n      <th>1</th>\n      <td>1000003930</td>\n      <td>Greeting From Earth: ZGAC Arts Capsule For ET</td>\n      <td>Narrative Film</td>\n      <td>Film &amp; Video</td>\n      <td>USD</td>\n      <td>2017-11-01</td>\n      <td>30000.0</td>\n      <td>2017-09-02 04:43:57</td>\n      <td>2421.00</td>\n      <td>failed</td>\n      <td>15</td>\n      <td>US</td>\n      <td>100.00</td>\n      <td>2421.00</td>\n      <td>30000.00</td>\n    </tr>\n    <tr>\n      <th>2</th>\n      <td>1000004038</td>\n      <td>Where is Hank?</td>\n      <td>Narrative Film</td>\n      <td>Film &amp; Video</td>\n      <td>USD</td>\n      <td>2013-02-26</td>\n      <td>45000.0</td>\n      <td>2013-01-12 00:20:50</td>\n      <td>220.00</td>\n      <td>failed</td>\n      <td>3</td>\n      <td>US</td>\n      <td>220.00</td>\n      <td>220.00</td>\n      <td>45000.00</td>\n    </tr>\n    <tr>\n      <th>3</th>\n      <td>1000007540</td>\n      <td>ToshiCapital Rekordz Needs Help to Complete Album</td>\n      <td>Music</td>\n      <td>Music</td>\n      <td>USD</td>\n      <td>2012-04-16</td>\n      <td>5000.0</td>\n      <td>2012-03-17 03:24:11</td>\n      <td>1.00</td>\n      <td>failed</td>\n      <td>1</td>\n      <td>US</td>\n      <td>1.00</td>\n      <td>1.00</td>\n      <td>5000.00</td>\n    </tr>\n    <tr>\n      <th>4</th>\n      <td>1000011046</td>\n      <td>Community Film Project: The Art of Neighborhoo...</td>\n      <td>Film &amp; Video</td>\n      <td>Film &amp; Video</td>\n      <td>USD</td>\n      <td>2015-08-29</td>\n      <td>19500.0</td>\n      <td>2015-07-04 08:35:03</td>\n      <td>1283.00</td>\n      <td>canceled</td>\n      <td>14</td>\n      <td>US</td>\n      <td>1283.00</td>\n      <td>1283.00</td>\n      <td>19500.00</td>\n    </tr>\n    <tr>\n      <th>5</th>\n      <td>1000014025</td>\n      <td>Monarch Espresso Bar</td>\n      <td>Restaurants</td>\n      <td>Food</td>\n      <td>USD</td>\n      <td>2016-04-01</td>\n      <td>50000.0</td>\n      <td>2016-02-26 13:38:27</td>\n      <td>52375.00</td>\n      <td>successful</td>\n      <td>224</td>\n      <td>US</td>\n      <td>52375.00</td>\n      <td>52375.00</td>\n      <td>50000.00</td>\n    </tr>\n    <tr>\n      <th>6</th>\n      <td>1000023410</td>\n      <td>Support Solar Roasted Coffee &amp; Green Energy!  ...</td>\n      <td>Food</td>\n      <td>Food</td>\n      <td>USD</td>\n      <td>2014-12-21</td>\n      <td>1000.0</td>\n      <td>2014-12-01 18:30:44</td>\n      <td>1205.00</td>\n      <td>successful</td>\n      <td>16</td>\n      <td>US</td>\n      <td>1205.00</td>\n      <td>1205.00</td>\n      <td>1000.00</td>\n    </tr>\n    <tr>\n      <th>7</th>\n      <td>1000030581</td>\n      <td>Chaser Strips. Our Strips make Shots their B*tch!</td>\n      <td>Drinks</td>\n      <td>Food</td>\n      <td>USD</td>\n      <td>2016-03-17</td>\n      <td>25000.0</td>\n      <td>2016-02-01 20:05:12</td>\n      <td>453.00</td>\n      <td>failed</td>\n      <td>40</td>\n      <td>US</td>\n      <td>453.00</td>\n      <td>453.00</td>\n      <td>25000.00</td>\n    </tr>\n    <tr>\n      <th>8</th>\n      <td>1000034518</td>\n      <td>SPIN - Premium Retractable In-Ear Headphones w...</td>\n      <td>Product Design</td>\n      <td>Design</td>\n      <td>USD</td>\n      <td>2014-05-29</td>\n      <td>125000.0</td>\n      <td>2014-04-24 18:14:43</td>\n      <td>8233.00</td>\n      <td>canceled</td>\n      <td>58</td>\n      <td>US</td>\n      <td>8233.00</td>\n      <td>8233.00</td>\n      <td>125000.00</td>\n    </tr>\n    <tr>\n      <th>9</th>\n      <td>100004195</td>\n      <td>STUDIO IN THE SKY - A Documentary Feature Film...</td>\n      <td>Documentary</td>\n      <td>Film &amp; Video</td>\n      <td>USD</td>\n      <td>2014-08-10</td>\n      <td>65000.0</td>\n      <td>2014-07-11 21:55:48</td>\n      <td>6240.57</td>\n      <td>canceled</td>\n      <td>43</td>\n      <td>US</td>\n      <td>6240.57</td>\n      <td>6240.57</td>\n      <td>65000.00</td>\n    </tr>\n  </tbody>\n</table>\n</div>",
      "text/plain": "           ID                                               name  \\\n0  1000002330                    The Songs of Adelaide & Abullah   \n1  1000003930      Greeting From Earth: ZGAC Arts Capsule For ET   \n2  1000004038                                     Where is Hank?   \n3  1000007540  ToshiCapital Rekordz Needs Help to Complete Album   \n4  1000011046  Community Film Project: The Art of Neighborhoo...   \n5  1000014025                               Monarch Espresso Bar   \n6  1000023410  Support Solar Roasted Coffee & Green Energy!  ...   \n7  1000030581  Chaser Strips. Our Strips make Shots their B*tch!   \n8  1000034518  SPIN - Premium Retractable In-Ear Headphones w...   \n9   100004195  STUDIO IN THE SKY - A Documentary Feature Film...   \n\n         category main_category currency    deadline      goal  \\\n0          Poetry    Publishing      GBP  2015-10-09    1000.0   \n1  Narrative Film  Film & Video      USD  2017-11-01   30000.0   \n2  Narrative Film  Film & Video      USD  2013-02-26   45000.0   \n3           Music         Music      USD  2012-04-16    5000.0   \n4    Film & Video  Film & Video      USD  2015-08-29   19500.0   \n5     Restaurants          Food      USD  2016-04-01   50000.0   \n6            Food          Food      USD  2014-12-21    1000.0   \n7          Drinks          Food      USD  2016-03-17   25000.0   \n8  Product Design        Design      USD  2014-05-29  125000.0   \n9     Documentary  Film & Video      USD  2014-08-10   65000.0   \n\n              launched   pledged       state  backers country  usd pledged  \\\n0  2015-08-11 12:12:28      0.00      failed        0      GB         0.00   \n1  2017-09-02 04:43:57   2421.00      failed       15      US       100.00   \n2  2013-01-12 00:20:50    220.00      failed        3      US       220.00   \n3  2012-03-17 03:24:11      1.00      failed        1      US         1.00   \n4  2015-07-04 08:35:03   1283.00    canceled       14      US      1283.00   \n5  2016-02-26 13:38:27  52375.00  successful      224      US     52375.00   \n6  2014-12-01 18:30:44   1205.00  successful       16      US      1205.00   \n7  2016-02-01 20:05:12    453.00      failed       40      US       453.00   \n8  2014-04-24 18:14:43   8233.00    canceled       58      US      8233.00   \n9  2014-07-11 21:55:48   6240.57    canceled       43      US      6240.57   \n\n   usd_pledged_real  usd_goal_real  \n0              0.00        1533.95  \n1           2421.00       30000.00  \n2            220.00       45000.00  \n3              1.00        5000.00  \n4           1283.00       19500.00  \n5          52375.00       50000.00  \n6           1205.00        1000.00  \n7            453.00       25000.00  \n8           8233.00      125000.00  \n9           6240.57       65000.00  "
     },
     "execution_count": 5,
     "metadata": {},
     "output_type": "execute_result"
    }
   ],
   "source": [
    "# Your code here:\n",
    "kickstarter.head(10)\n"
   ]
  },
  {
   "cell_type": "markdown",
   "metadata": {},
   "source": [
    "Import the `mode` function from `scipy.stats` and find the mode of the `country` and `currency` column."
   ]
  },
  {
   "cell_type": "code",
   "execution_count": 10,
   "metadata": {},
   "outputs": [
    {
     "data": {
      "text/plain": "ModeResult(mode=array(['US'], dtype=object), count=array([292627]))"
     },
     "execution_count": 10,
     "metadata": {},
     "output_type": "execute_result"
    }
   ],
   "source": [
    "# Your code here:\n",
    "a = kickstarter['country']\n",
    "stats.mode(a)"
   ]
  },
  {
   "cell_type": "code",
   "execution_count": 11,
   "metadata": {},
   "outputs": [
    {
     "data": {
      "text/plain": "ModeResult(mode=array(['USD'], dtype=object), count=array([295365]))"
     },
     "execution_count": 11,
     "metadata": {},
     "output_type": "execute_result"
    }
   ],
   "source": [
    "b = kickstarter['currency']\n",
    "stats.mode(b)"
   ]
  },
  {
   "cell_type": "markdown",
   "metadata": {},
   "source": [
    "The trimmed mean is a function that computes the mean of the data with observations removed. The most common way to compute a trimmed mean is by specifying a percentage and then removing elements from both ends. However, we can also specify a threshold on both ends. The goal of this function is to create a more robust method of computing the mean that is less influenced by outliers. SciPy contains a function called `tmean` for computing the trimmed mean. \n",
    "\n",
    "In the cell below, import the `tmean` function and then find the 75th percentile of the `goal` column. Compute the trimmed mean between 0 and the 75th percentile of the column. Read more about the `tmean` function [here](https://docs.scipy.org/doc/scipy/reference/generated/scipy.stats.tmean.html#scipy.stats.tmean)."
   ]
  },
  {
   "cell_type": "code",
   "execution_count": 26,
   "metadata": {},
   "outputs": [
    {
     "data": {
      "text/plain": "28.02929089026915"
     },
     "execution_count": 26,
     "metadata": {},
     "output_type": "execute_result"
    }
   ],
   "source": [
    "# Your code here:\n",
    "stats.tmean(kickstarter['goal'],(0,75))"
   ]
  },
  {
   "cell_type": "markdown",
   "metadata": {},
   "source": [
    "#### SciPy contains various statistical tests. One of the tests is Fisher's exact test. This test is used for contingency tables. \n",
    "\n",
    "The test originates from the \"Lady Tasting Tea\" experiment. In 1935, Fisher published the results of the experiment in his book. The experiment was based on a claim by Muriel Bristol that she can taste whether tea or milk was first poured into the cup. Fisher devised this test to disprove her claim. The null hypothesis is that the treatments do not affect outcomes, while the alternative hypothesis is that the treatment does affect outcome. To read more about Fisher's exact test, click [here](https://en.wikipedia.org/wiki/Fisher%27s_exact_test).\n",
    "\n",
    "Let's perform Fisher's exact test on our KickStarter data. We intend to test the hypothesis that the choice of currency has an impact on meeting the pledge goal. We'll start by creating two derived columns in our dataframe. The first will contain 1 if the amount of money in `usd_pledged_real` is greater than the amount of money in `usd_goal_real`. We can compute this by using the `np.where` function. If the amount in one column is greater than the other, enter a value of 1, otherwise enter a value of zero. Add this column to the dataframe and name it `goal_met`."
   ]
  },
  {
   "cell_type": "code",
   "execution_count": 36,
   "metadata": {},
   "outputs": [
    {
     "data": {
      "text/html": "<div>\n<style scoped>\n    .dataframe tbody tr th:only-of-type {\n        vertical-align: middle;\n    }\n\n    .dataframe tbody tr th {\n        vertical-align: top;\n    }\n\n    .dataframe thead th {\n        text-align: right;\n    }\n</style>\n<table border=\"1\" class=\"dataframe\">\n  <thead>\n    <tr style=\"text-align: right;\">\n      <th></th>\n      <th>ID</th>\n      <th>name</th>\n      <th>category</th>\n      <th>main_category</th>\n      <th>currency</th>\n      <th>deadline</th>\n      <th>goal</th>\n      <th>launched</th>\n      <th>pledged</th>\n      <th>state</th>\n      <th>backers</th>\n      <th>country</th>\n      <th>usd pledged</th>\n      <th>usd_pledged_real</th>\n      <th>usd_goal_real</th>\n      <th>goal_met</th>\n    </tr>\n  </thead>\n  <tbody>\n    <tr>\n      <th>0</th>\n      <td>1000002330</td>\n      <td>The Songs of Adelaide &amp; Abullah</td>\n      <td>Poetry</td>\n      <td>Publishing</td>\n      <td>GBP</td>\n      <td>2015-10-09</td>\n      <td>1000.0</td>\n      <td>2015-08-11 12:12:28</td>\n      <td>0.0</td>\n      <td>failed</td>\n      <td>0</td>\n      <td>GB</td>\n      <td>0.0</td>\n      <td>0.0</td>\n      <td>1533.95</td>\n      <td>0</td>\n    </tr>\n    <tr>\n      <th>1</th>\n      <td>1000003930</td>\n      <td>Greeting From Earth: ZGAC Arts Capsule For ET</td>\n      <td>Narrative Film</td>\n      <td>Film &amp; Video</td>\n      <td>USD</td>\n      <td>2017-11-01</td>\n      <td>30000.0</td>\n      <td>2017-09-02 04:43:57</td>\n      <td>2421.0</td>\n      <td>failed</td>\n      <td>15</td>\n      <td>US</td>\n      <td>100.0</td>\n      <td>2421.0</td>\n      <td>30000.00</td>\n      <td>0</td>\n    </tr>\n    <tr>\n      <th>2</th>\n      <td>1000004038</td>\n      <td>Where is Hank?</td>\n      <td>Narrative Film</td>\n      <td>Film &amp; Video</td>\n      <td>USD</td>\n      <td>2013-02-26</td>\n      <td>45000.0</td>\n      <td>2013-01-12 00:20:50</td>\n      <td>220.0</td>\n      <td>failed</td>\n      <td>3</td>\n      <td>US</td>\n      <td>220.0</td>\n      <td>220.0</td>\n      <td>45000.00</td>\n      <td>0</td>\n    </tr>\n    <tr>\n      <th>3</th>\n      <td>1000007540</td>\n      <td>ToshiCapital Rekordz Needs Help to Complete Album</td>\n      <td>Music</td>\n      <td>Music</td>\n      <td>USD</td>\n      <td>2012-04-16</td>\n      <td>5000.0</td>\n      <td>2012-03-17 03:24:11</td>\n      <td>1.0</td>\n      <td>failed</td>\n      <td>1</td>\n      <td>US</td>\n      <td>1.0</td>\n      <td>1.0</td>\n      <td>5000.00</td>\n      <td>0</td>\n    </tr>\n    <tr>\n      <th>4</th>\n      <td>1000011046</td>\n      <td>Community Film Project: The Art of Neighborhoo...</td>\n      <td>Film &amp; Video</td>\n      <td>Film &amp; Video</td>\n      <td>USD</td>\n      <td>2015-08-29</td>\n      <td>19500.0</td>\n      <td>2015-07-04 08:35:03</td>\n      <td>1283.0</td>\n      <td>canceled</td>\n      <td>14</td>\n      <td>US</td>\n      <td>1283.0</td>\n      <td>1283.0</td>\n      <td>19500.00</td>\n      <td>0</td>\n    </tr>\n    <tr>\n      <th>...</th>\n      <td>...</td>\n      <td>...</td>\n      <td>...</td>\n      <td>...</td>\n      <td>...</td>\n      <td>...</td>\n      <td>...</td>\n      <td>...</td>\n      <td>...</td>\n      <td>...</td>\n      <td>...</td>\n      <td>...</td>\n      <td>...</td>\n      <td>...</td>\n      <td>...</td>\n      <td>...</td>\n    </tr>\n    <tr>\n      <th>378656</th>\n      <td>999976400</td>\n      <td>ChknTruk Nationwide Charity Drive 2014 (Canceled)</td>\n      <td>Documentary</td>\n      <td>Film &amp; Video</td>\n      <td>USD</td>\n      <td>2014-10-17</td>\n      <td>50000.0</td>\n      <td>2014-09-17 02:35:30</td>\n      <td>25.0</td>\n      <td>canceled</td>\n      <td>1</td>\n      <td>US</td>\n      <td>25.0</td>\n      <td>25.0</td>\n      <td>50000.00</td>\n      <td>0</td>\n    </tr>\n    <tr>\n      <th>378657</th>\n      <td>999977640</td>\n      <td>The Tribe</td>\n      <td>Narrative Film</td>\n      <td>Film &amp; Video</td>\n      <td>USD</td>\n      <td>2011-07-19</td>\n      <td>1500.0</td>\n      <td>2011-06-22 03:35:14</td>\n      <td>155.0</td>\n      <td>failed</td>\n      <td>5</td>\n      <td>US</td>\n      <td>155.0</td>\n      <td>155.0</td>\n      <td>1500.00</td>\n      <td>0</td>\n    </tr>\n    <tr>\n      <th>378658</th>\n      <td>999986353</td>\n      <td>Walls of Remedy- New lesbian Romantic Comedy f...</td>\n      <td>Narrative Film</td>\n      <td>Film &amp; Video</td>\n      <td>USD</td>\n      <td>2010-08-16</td>\n      <td>15000.0</td>\n      <td>2010-07-01 19:40:30</td>\n      <td>20.0</td>\n      <td>failed</td>\n      <td>1</td>\n      <td>US</td>\n      <td>20.0</td>\n      <td>20.0</td>\n      <td>15000.00</td>\n      <td>0</td>\n    </tr>\n    <tr>\n      <th>378659</th>\n      <td>999987933</td>\n      <td>BioDefense Education Kit</td>\n      <td>Technology</td>\n      <td>Technology</td>\n      <td>USD</td>\n      <td>2016-02-13</td>\n      <td>15000.0</td>\n      <td>2016-01-13 18:13:53</td>\n      <td>200.0</td>\n      <td>failed</td>\n      <td>6</td>\n      <td>US</td>\n      <td>200.0</td>\n      <td>200.0</td>\n      <td>15000.00</td>\n      <td>0</td>\n    </tr>\n    <tr>\n      <th>378660</th>\n      <td>999988282</td>\n      <td>Nou Renmen Ayiti!  We Love Haiti!</td>\n      <td>Performance Art</td>\n      <td>Art</td>\n      <td>USD</td>\n      <td>2011-08-16</td>\n      <td>2000.0</td>\n      <td>2011-07-19 09:07:47</td>\n      <td>524.0</td>\n      <td>failed</td>\n      <td>17</td>\n      <td>US</td>\n      <td>524.0</td>\n      <td>524.0</td>\n      <td>2000.00</td>\n      <td>0</td>\n    </tr>\n  </tbody>\n</table>\n<p>378661 rows × 16 columns</p>\n</div>",
      "text/plain": "                ID                                               name  \\\n0       1000002330                    The Songs of Adelaide & Abullah   \n1       1000003930      Greeting From Earth: ZGAC Arts Capsule For ET   \n2       1000004038                                     Where is Hank?   \n3       1000007540  ToshiCapital Rekordz Needs Help to Complete Album   \n4       1000011046  Community Film Project: The Art of Neighborhoo...   \n...            ...                                                ...   \n378656   999976400  ChknTruk Nationwide Charity Drive 2014 (Canceled)   \n378657   999977640                                          The Tribe   \n378658   999986353  Walls of Remedy- New lesbian Romantic Comedy f...   \n378659   999987933                           BioDefense Education Kit   \n378660   999988282                  Nou Renmen Ayiti!  We Love Haiti!   \n\n               category main_category currency    deadline     goal  \\\n0                Poetry    Publishing      GBP  2015-10-09   1000.0   \n1        Narrative Film  Film & Video      USD  2017-11-01  30000.0   \n2        Narrative Film  Film & Video      USD  2013-02-26  45000.0   \n3                 Music         Music      USD  2012-04-16   5000.0   \n4          Film & Video  Film & Video      USD  2015-08-29  19500.0   \n...                 ...           ...      ...         ...      ...   \n378656      Documentary  Film & Video      USD  2014-10-17  50000.0   \n378657   Narrative Film  Film & Video      USD  2011-07-19   1500.0   \n378658   Narrative Film  Film & Video      USD  2010-08-16  15000.0   \n378659       Technology    Technology      USD  2016-02-13  15000.0   \n378660  Performance Art           Art      USD  2011-08-16   2000.0   \n\n                   launched  pledged     state  backers country  usd pledged  \\\n0       2015-08-11 12:12:28      0.0    failed        0      GB          0.0   \n1       2017-09-02 04:43:57   2421.0    failed       15      US        100.0   \n2       2013-01-12 00:20:50    220.0    failed        3      US        220.0   \n3       2012-03-17 03:24:11      1.0    failed        1      US          1.0   \n4       2015-07-04 08:35:03   1283.0  canceled       14      US       1283.0   \n...                     ...      ...       ...      ...     ...          ...   \n378656  2014-09-17 02:35:30     25.0  canceled        1      US         25.0   \n378657  2011-06-22 03:35:14    155.0    failed        5      US        155.0   \n378658  2010-07-01 19:40:30     20.0    failed        1      US         20.0   \n378659  2016-01-13 18:13:53    200.0    failed        6      US        200.0   \n378660  2011-07-19 09:07:47    524.0    failed       17      US        524.0   \n\n        usd_pledged_real  usd_goal_real  goal_met  \n0                    0.0        1533.95         0  \n1                 2421.0       30000.00         0  \n2                  220.0       45000.00         0  \n3                    1.0        5000.00         0  \n4                 1283.0       19500.00         0  \n...                  ...            ...       ...  \n378656              25.0       50000.00         0  \n378657             155.0        1500.00         0  \n378658              20.0       15000.00         0  \n378659             200.0       15000.00         0  \n378660             524.0        2000.00         0  \n\n[378661 rows x 16 columns]"
     },
     "execution_count": 36,
     "metadata": {},
     "output_type": "execute_result"
    }
   ],
   "source": [
    "# Your code here:\n",
    "kickstarter['goal_met'] = np.where(kickstarter['usd_pledged_real'] > kickstarter['usd_goal_real'], 1, 0)\n",
    "kickstarter"
   ]
  },
  {
   "cell_type": "markdown",
   "metadata": {},
   "source": [
    "Next, create a column that checks whether the currency of the project is in US Dollars. Create a column called `usd` using the `np.where` function where if the currency is US Dollars, assign a value of 1 to the row and 0 otherwise."
   ]
  },
  {
   "cell_type": "code",
   "execution_count": 43,
   "metadata": {},
   "outputs": [
    {
     "data": {
      "text/html": "<div>\n<style scoped>\n    .dataframe tbody tr th:only-of-type {\n        vertical-align: middle;\n    }\n\n    .dataframe tbody tr th {\n        vertical-align: top;\n    }\n\n    .dataframe thead th {\n        text-align: right;\n    }\n</style>\n<table border=\"1\" class=\"dataframe\">\n  <thead>\n    <tr style=\"text-align: right;\">\n      <th></th>\n      <th>ID</th>\n      <th>name</th>\n      <th>category</th>\n      <th>main_category</th>\n      <th>currency</th>\n      <th>deadline</th>\n      <th>goal</th>\n      <th>launched</th>\n      <th>pledged</th>\n      <th>state</th>\n      <th>backers</th>\n      <th>country</th>\n      <th>usd pledged</th>\n      <th>usd_pledged_real</th>\n      <th>usd_goal_real</th>\n      <th>goal_met</th>\n      <th>usd</th>\n    </tr>\n  </thead>\n  <tbody>\n    <tr>\n      <th>0</th>\n      <td>1000002330</td>\n      <td>The Songs of Adelaide &amp; Abullah</td>\n      <td>Poetry</td>\n      <td>Publishing</td>\n      <td>GBP</td>\n      <td>2015-10-09</td>\n      <td>1000.0</td>\n      <td>2015-08-11 12:12:28</td>\n      <td>0.0</td>\n      <td>failed</td>\n      <td>0</td>\n      <td>GB</td>\n      <td>0.0</td>\n      <td>0.0</td>\n      <td>1533.95</td>\n      <td>0</td>\n      <td>0</td>\n    </tr>\n    <tr>\n      <th>1</th>\n      <td>1000003930</td>\n      <td>Greeting From Earth: ZGAC Arts Capsule For ET</td>\n      <td>Narrative Film</td>\n      <td>Film &amp; Video</td>\n      <td>USD</td>\n      <td>2017-11-01</td>\n      <td>30000.0</td>\n      <td>2017-09-02 04:43:57</td>\n      <td>2421.0</td>\n      <td>failed</td>\n      <td>15</td>\n      <td>US</td>\n      <td>100.0</td>\n      <td>2421.0</td>\n      <td>30000.00</td>\n      <td>0</td>\n      <td>1</td>\n    </tr>\n    <tr>\n      <th>2</th>\n      <td>1000004038</td>\n      <td>Where is Hank?</td>\n      <td>Narrative Film</td>\n      <td>Film &amp; Video</td>\n      <td>USD</td>\n      <td>2013-02-26</td>\n      <td>45000.0</td>\n      <td>2013-01-12 00:20:50</td>\n      <td>220.0</td>\n      <td>failed</td>\n      <td>3</td>\n      <td>US</td>\n      <td>220.0</td>\n      <td>220.0</td>\n      <td>45000.00</td>\n      <td>0</td>\n      <td>1</td>\n    </tr>\n    <tr>\n      <th>3</th>\n      <td>1000007540</td>\n      <td>ToshiCapital Rekordz Needs Help to Complete Album</td>\n      <td>Music</td>\n      <td>Music</td>\n      <td>USD</td>\n      <td>2012-04-16</td>\n      <td>5000.0</td>\n      <td>2012-03-17 03:24:11</td>\n      <td>1.0</td>\n      <td>failed</td>\n      <td>1</td>\n      <td>US</td>\n      <td>1.0</td>\n      <td>1.0</td>\n      <td>5000.00</td>\n      <td>0</td>\n      <td>1</td>\n    </tr>\n    <tr>\n      <th>4</th>\n      <td>1000011046</td>\n      <td>Community Film Project: The Art of Neighborhoo...</td>\n      <td>Film &amp; Video</td>\n      <td>Film &amp; Video</td>\n      <td>USD</td>\n      <td>2015-08-29</td>\n      <td>19500.0</td>\n      <td>2015-07-04 08:35:03</td>\n      <td>1283.0</td>\n      <td>canceled</td>\n      <td>14</td>\n      <td>US</td>\n      <td>1283.0</td>\n      <td>1283.0</td>\n      <td>19500.00</td>\n      <td>0</td>\n      <td>1</td>\n    </tr>\n    <tr>\n      <th>...</th>\n      <td>...</td>\n      <td>...</td>\n      <td>...</td>\n      <td>...</td>\n      <td>...</td>\n      <td>...</td>\n      <td>...</td>\n      <td>...</td>\n      <td>...</td>\n      <td>...</td>\n      <td>...</td>\n      <td>...</td>\n      <td>...</td>\n      <td>...</td>\n      <td>...</td>\n      <td>...</td>\n      <td>...</td>\n    </tr>\n    <tr>\n      <th>378656</th>\n      <td>999976400</td>\n      <td>ChknTruk Nationwide Charity Drive 2014 (Canceled)</td>\n      <td>Documentary</td>\n      <td>Film &amp; Video</td>\n      <td>USD</td>\n      <td>2014-10-17</td>\n      <td>50000.0</td>\n      <td>2014-09-17 02:35:30</td>\n      <td>25.0</td>\n      <td>canceled</td>\n      <td>1</td>\n      <td>US</td>\n      <td>25.0</td>\n      <td>25.0</td>\n      <td>50000.00</td>\n      <td>0</td>\n      <td>1</td>\n    </tr>\n    <tr>\n      <th>378657</th>\n      <td>999977640</td>\n      <td>The Tribe</td>\n      <td>Narrative Film</td>\n      <td>Film &amp; Video</td>\n      <td>USD</td>\n      <td>2011-07-19</td>\n      <td>1500.0</td>\n      <td>2011-06-22 03:35:14</td>\n      <td>155.0</td>\n      <td>failed</td>\n      <td>5</td>\n      <td>US</td>\n      <td>155.0</td>\n      <td>155.0</td>\n      <td>1500.00</td>\n      <td>0</td>\n      <td>1</td>\n    </tr>\n    <tr>\n      <th>378658</th>\n      <td>999986353</td>\n      <td>Walls of Remedy- New lesbian Romantic Comedy f...</td>\n      <td>Narrative Film</td>\n      <td>Film &amp; Video</td>\n      <td>USD</td>\n      <td>2010-08-16</td>\n      <td>15000.0</td>\n      <td>2010-07-01 19:40:30</td>\n      <td>20.0</td>\n      <td>failed</td>\n      <td>1</td>\n      <td>US</td>\n      <td>20.0</td>\n      <td>20.0</td>\n      <td>15000.00</td>\n      <td>0</td>\n      <td>1</td>\n    </tr>\n    <tr>\n      <th>378659</th>\n      <td>999987933</td>\n      <td>BioDefense Education Kit</td>\n      <td>Technology</td>\n      <td>Technology</td>\n      <td>USD</td>\n      <td>2016-02-13</td>\n      <td>15000.0</td>\n      <td>2016-01-13 18:13:53</td>\n      <td>200.0</td>\n      <td>failed</td>\n      <td>6</td>\n      <td>US</td>\n      <td>200.0</td>\n      <td>200.0</td>\n      <td>15000.00</td>\n      <td>0</td>\n      <td>1</td>\n    </tr>\n    <tr>\n      <th>378660</th>\n      <td>999988282</td>\n      <td>Nou Renmen Ayiti!  We Love Haiti!</td>\n      <td>Performance Art</td>\n      <td>Art</td>\n      <td>USD</td>\n      <td>2011-08-16</td>\n      <td>2000.0</td>\n      <td>2011-07-19 09:07:47</td>\n      <td>524.0</td>\n      <td>failed</td>\n      <td>17</td>\n      <td>US</td>\n      <td>524.0</td>\n      <td>524.0</td>\n      <td>2000.00</td>\n      <td>0</td>\n      <td>1</td>\n    </tr>\n  </tbody>\n</table>\n<p>378661 rows × 17 columns</p>\n</div>",
      "text/plain": "                ID                                               name  \\\n0       1000002330                    The Songs of Adelaide & Abullah   \n1       1000003930      Greeting From Earth: ZGAC Arts Capsule For ET   \n2       1000004038                                     Where is Hank?   \n3       1000007540  ToshiCapital Rekordz Needs Help to Complete Album   \n4       1000011046  Community Film Project: The Art of Neighborhoo...   \n...            ...                                                ...   \n378656   999976400  ChknTruk Nationwide Charity Drive 2014 (Canceled)   \n378657   999977640                                          The Tribe   \n378658   999986353  Walls of Remedy- New lesbian Romantic Comedy f...   \n378659   999987933                           BioDefense Education Kit   \n378660   999988282                  Nou Renmen Ayiti!  We Love Haiti!   \n\n               category main_category currency    deadline     goal  \\\n0                Poetry    Publishing      GBP  2015-10-09   1000.0   \n1        Narrative Film  Film & Video      USD  2017-11-01  30000.0   \n2        Narrative Film  Film & Video      USD  2013-02-26  45000.0   \n3                 Music         Music      USD  2012-04-16   5000.0   \n4          Film & Video  Film & Video      USD  2015-08-29  19500.0   \n...                 ...           ...      ...         ...      ...   \n378656      Documentary  Film & Video      USD  2014-10-17  50000.0   \n378657   Narrative Film  Film & Video      USD  2011-07-19   1500.0   \n378658   Narrative Film  Film & Video      USD  2010-08-16  15000.0   \n378659       Technology    Technology      USD  2016-02-13  15000.0   \n378660  Performance Art           Art      USD  2011-08-16   2000.0   \n\n                   launched  pledged     state  backers country  usd pledged  \\\n0       2015-08-11 12:12:28      0.0    failed        0      GB          0.0   \n1       2017-09-02 04:43:57   2421.0    failed       15      US        100.0   \n2       2013-01-12 00:20:50    220.0    failed        3      US        220.0   \n3       2012-03-17 03:24:11      1.0    failed        1      US          1.0   \n4       2015-07-04 08:35:03   1283.0  canceled       14      US       1283.0   \n...                     ...      ...       ...      ...     ...          ...   \n378656  2014-09-17 02:35:30     25.0  canceled        1      US         25.0   \n378657  2011-06-22 03:35:14    155.0    failed        5      US        155.0   \n378658  2010-07-01 19:40:30     20.0    failed        1      US         20.0   \n378659  2016-01-13 18:13:53    200.0    failed        6      US        200.0   \n378660  2011-07-19 09:07:47    524.0    failed       17      US        524.0   \n\n        usd_pledged_real  usd_goal_real  goal_met  usd  \n0                    0.0        1533.95         0    0  \n1                 2421.0       30000.00         0    1  \n2                  220.0       45000.00         0    1  \n3                    1.0        5000.00         0    1  \n4                 1283.0       19500.00         0    1  \n...                  ...            ...       ...  ...  \n378656              25.0       50000.00         0    1  \n378657             155.0        1500.00         0    1  \n378658              20.0       15000.00         0    1  \n378659             200.0       15000.00         0    1  \n378660             524.0        2000.00         0    1  \n\n[378661 rows x 17 columns]"
     },
     "execution_count": 43,
     "metadata": {},
     "output_type": "execute_result"
    }
   ],
   "source": [
    "# Your code here:\n",
    "kickstarter['usd'] = np.where(kickstarter['currency'] == ('USD'),1, 0)\n",
    "kickstarter\n"
   ]
  },
  {
   "cell_type": "markdown",
   "metadata": {},
   "source": [
    "Now create a contingency table using the `pd.crosstab` function in the cell below to compare the `goal_met` and `usd` columns."
   ]
  },
  {
   "cell_type": "code",
   "execution_count": 46,
   "metadata": {},
   "outputs": [
    {
     "data": {
      "text/html": "<div>\n<style scoped>\n    .dataframe tbody tr th:only-of-type {\n        vertical-align: middle;\n    }\n\n    .dataframe tbody tr th {\n        vertical-align: top;\n    }\n\n    .dataframe thead th {\n        text-align: right;\n    }\n</style>\n<table border=\"1\" class=\"dataframe\">\n  <thead>\n    <tr style=\"text-align: right;\">\n      <th>usd</th>\n      <th>0</th>\n      <th>1</th>\n    </tr>\n    <tr>\n      <th>goal_met</th>\n      <th></th>\n      <th></th>\n    </tr>\n  </thead>\n  <tbody>\n    <tr>\n      <th>0</th>\n      <td>58685</td>\n      <td>187130</td>\n    </tr>\n    <tr>\n      <th>1</th>\n      <td>24611</td>\n      <td>108235</td>\n    </tr>\n  </tbody>\n</table>\n</div>",
      "text/plain": "usd           0       1\ngoal_met               \n0         58685  187130\n1         24611  108235"
     },
     "execution_count": 46,
     "metadata": {},
     "output_type": "execute_result"
    }
   ],
   "source": [
    "table = pd.crosstab(kickstarter['goal_met'], kickstarter['usd'])\n",
    "table"
   ]
  },
  {
   "cell_type": "markdown",
   "metadata": {},
   "source": [
    "Import the `fisher_exact` function from `scipy.stats` and conduct the hypothesis test on the contingency table that you have generated above. You can read more about the `fisher_exact` function [here](https://docs.scipy.org/doc/scipy/reference/generated/scipy.stats.fisher_exact.html#scipy.stats.fisher_exact). The output of the function should be the odds ratio and the p-value. The p-value will provide you with the outcome of the test."
   ]
  },
  {
   "cell_type": "code",
   "execution_count": 47,
   "metadata": {},
   "outputs": [
    {
     "data": {
      "text/plain": "(1.3791838163150314, 9.78e-321)"
     },
     "execution_count": 47,
     "metadata": {},
     "output_type": "execute_result"
    }
   ],
   "source": [
    "# Your code here:\n",
    "stats.fisher_exact(table, alternative='two-sided')"
   ]
  },
  {
   "cell_type": "markdown",
   "metadata": {},
   "source": [
    "# Challenge 2 - The `linalg` submodule\n",
    "\n",
    "This submodule allows us to perform various linear algebra calculations. \n",
    "\n",
    "Using the solve function, find the solution of the equation system 5x + 2y = 3 and 3x + y = 2 in the cell below."
   ]
  },
  {
   "cell_type": "code",
   "execution_count": 52,
   "metadata": {},
   "outputs": [
    {
     "name": "stdout",
     "output_type": "stream",
     "text": "0.9999999999999991 -0.9999999999999978\n"
    }
   ],
   "source": [
    "# Your code here:\n",
    "A = np.array([5,2,3,1]).reshape(2,2)\n",
    "b = np.array([[3,2]]).T\n",
    "[x],[y] = linalg.solve(A,b)\n",
    "print(x,y)"
   ]
  },
  {
   "cell_type": "markdown",
   "metadata": {},
   "source": [
    "# Challenge 3 - The `interpolate` submodule\n",
    "\n",
    "This submodule allows us to interpolate between two points and create a continuous distribution based on the observed data.\n",
    "\n",
    "In the cell below, import the `interp1d` function and first take a sample of 10 rows from `kickstarter`. "
   ]
  },
  {
   "cell_type": "code",
   "execution_count": 14,
   "metadata": {},
   "outputs": [],
   "source": [
    "# Your code here:\n"
   ]
  },
  {
   "cell_type": "markdown",
   "metadata": {},
   "source": [
    "Next, create a linear interpolation of the backers as a function of `usd_pledged_real`. Create a function `f` that generates a linear interpolation of backers as predicted by the amount of real pledged dollars."
   ]
  },
  {
   "cell_type": "code",
   "execution_count": 15,
   "metadata": {},
   "outputs": [],
   "source": [
    "# Your code here:\n",
    "\n"
   ]
  },
  {
   "cell_type": "markdown",
   "metadata": {},
   "source": [
    "Now create a new variable called `x_new`. This variable will contain all integers between the minimum number of backers in our sample and the maximum number of backers. The goal here is to take the dataset that contains few obeservations due to sampling and fill all observations with a value using the interpolation function. \n",
    "\n",
    "Hint: one option is the `np.arange` function."
   ]
  },
  {
   "cell_type": "code",
   "execution_count": 16,
   "metadata": {},
   "outputs": [],
   "source": [
    "# Your code here:\n",
    "\n"
   ]
  },
  {
   "cell_type": "markdown",
   "metadata": {},
   "source": [
    "Plot function f for all values of `x_new`. Run the code below."
   ]
  },
  {
   "cell_type": "code",
   "execution_count": null,
   "metadata": {},
   "outputs": [],
   "source": [
    "# Run this code:\n",
    "\n",
    "%matplotlib inline\n",
    "import matplotlib.pyplot as plt\n",
    "\n",
    "plt.plot(x_new, f(x_new))"
   ]
  },
  {
   "cell_type": "markdown",
   "metadata": {},
   "source": [
    "Next create a function that will generate a cubic interpolation function. Name the function `g`"
   ]
  },
  {
   "cell_type": "code",
   "execution_count": 18,
   "metadata": {},
   "outputs": [],
   "source": [
    "# Your code here:\n",
    "\n"
   ]
  },
  {
   "cell_type": "code",
   "execution_count": null,
   "metadata": {},
   "outputs": [],
   "source": [
    "# Run this code:\n",
    "\n",
    "plt.plot(x_new, g(x_new))"
   ]
  },
  {
   "cell_type": "markdown",
   "metadata": {},
   "source": [
    "# Bonus Challenge - The Binomial Distribution\n",
    "\n",
    "The binomial distribution allows us to calculate the probability of k successes in n trials for a random variable with two possible outcomes (which we typically label success and failure).  \n",
    "\n",
    "The probability of success is typically denoted by p and the probability of failure is denoted by 1-p.\n",
    "\n",
    "The `scipy.stats` submodule contains a `binom` function for computing the probabilites of a random variable with the binomial distribution. You may read more about the binomial distribution [here](https://en.wikipedia.org/wiki/Binomial_distribution) and about the `binom` function [here](https://docs.scipy.org/doc/scipy/reference/generated/scipy.stats.binom.html#scipy.stats.binom).\n",
    "\n",
    "In the cell below, compute the probability that a die lands on 5 exactly 3 times in 8 tries.\n",
    "\n",
    "Hint: the probability of rolling a 5 is 1/6."
   ]
  },
  {
   "cell_type": "code",
   "execution_count": 19,
   "metadata": {},
   "outputs": [],
   "source": [
    "# Your code here:\n",
    "\n"
   ]
  },
  {
   "cell_type": "code",
   "execution_count": null,
   "metadata": {},
   "outputs": [],
   "source": []
  }
 ],
 "metadata": {
  "kernelspec": {
   "display_name": "Python 3",
   "language": "python",
   "name": "python3"
  },
  "language_info": {
   "codemirror_mode": {
    "name": "ipython",
    "version": 3
   },
   "file_extension": ".py",
   "mimetype": "text/x-python",
   "name": "python",
   "nbconvert_exporter": "python",
   "pygments_lexer": "ipython3",
   "version": "3.7.5-final"
  }
 },
 "nbformat": 4,
 "nbformat_minor": 2
}