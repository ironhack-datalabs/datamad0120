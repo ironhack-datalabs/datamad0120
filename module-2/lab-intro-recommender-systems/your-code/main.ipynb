{
 "cells": [
  {
   "cell_type": "markdown",
   "metadata": {},
   "source": [
    "# Intro to Recommender Systems Lab\n",
    "\n",
    "Complete the exercises below to solidify your knowledge and understanding of recommender systems.\n",
    "\n",
    "For this lab, we are going to be putting together a user similarity based recommender system in a step-by-step fashion. Our data set contains customer grocery purchases, and we will use similar purchase behavior to inform our recommender system. Our recommender system will generate 5 recommendations for each customer based on the purchases they have made."
   ]
  },
  {
   "cell_type": "code",
   "execution_count": 1,
   "metadata": {},
   "outputs": [],
   "source": [
    "import pandas as pd\n",
    "from scipy.spatial.distance import pdist, squareform"
   ]
  },
  {
   "cell_type": "code",
   "execution_count": 4,
   "metadata": {},
   "outputs": [],
   "source": [
    "data = pd.read_csv('../data/customer_product_sales.csv')"
   ]
  },
  {
   "cell_type": "code",
   "execution_count": 5,
   "metadata": {},
   "outputs": [
    {
     "data": {
      "text/html": [
       "<div>\n",
       "<style scoped>\n",
       "    .dataframe tbody tr th:only-of-type {\n",
       "        vertical-align: middle;\n",
       "    }\n",
       "\n",
       "    .dataframe tbody tr th {\n",
       "        vertical-align: top;\n",
       "    }\n",
       "\n",
       "    .dataframe thead th {\n",
       "        text-align: right;\n",
       "    }\n",
       "</style>\n",
       "<table border=\"1\" class=\"dataframe\">\n",
       "  <thead>\n",
       "    <tr style=\"text-align: right;\">\n",
       "      <th></th>\n",
       "      <th>CustomerID</th>\n",
       "      <th>FirstName</th>\n",
       "      <th>LastName</th>\n",
       "      <th>SalesID</th>\n",
       "      <th>ProductID</th>\n",
       "      <th>ProductName</th>\n",
       "      <th>Quantity</th>\n",
       "    </tr>\n",
       "  </thead>\n",
       "  <tbody>\n",
       "    <tr>\n",
       "      <th>0</th>\n",
       "      <td>61288</td>\n",
       "      <td>Rosa</td>\n",
       "      <td>Andersen</td>\n",
       "      <td>134196</td>\n",
       "      <td>229</td>\n",
       "      <td>Bread - Hot Dog Buns</td>\n",
       "      <td>16</td>\n",
       "    </tr>\n",
       "    <tr>\n",
       "      <th>1</th>\n",
       "      <td>77352</td>\n",
       "      <td>Myron</td>\n",
       "      <td>Murray</td>\n",
       "      <td>6167892</td>\n",
       "      <td>229</td>\n",
       "      <td>Bread - Hot Dog Buns</td>\n",
       "      <td>20</td>\n",
       "    </tr>\n",
       "    <tr>\n",
       "      <th>2</th>\n",
       "      <td>40094</td>\n",
       "      <td>Susan</td>\n",
       "      <td>Stevenson</td>\n",
       "      <td>5970885</td>\n",
       "      <td>229</td>\n",
       "      <td>Bread - Hot Dog Buns</td>\n",
       "      <td>11</td>\n",
       "    </tr>\n",
       "    <tr>\n",
       "      <th>3</th>\n",
       "      <td>23548</td>\n",
       "      <td>Tricia</td>\n",
       "      <td>Vincent</td>\n",
       "      <td>6426954</td>\n",
       "      <td>229</td>\n",
       "      <td>Bread - Hot Dog Buns</td>\n",
       "      <td>6</td>\n",
       "    </tr>\n",
       "    <tr>\n",
       "      <th>4</th>\n",
       "      <td>78981</td>\n",
       "      <td>Scott</td>\n",
       "      <td>Burch</td>\n",
       "      <td>819094</td>\n",
       "      <td>229</td>\n",
       "      <td>Bread - Hot Dog Buns</td>\n",
       "      <td>20</td>\n",
       "    </tr>\n",
       "  </tbody>\n",
       "</table>\n",
       "</div>"
      ],
      "text/plain": [
       "   CustomerID FirstName   LastName  SalesID  ProductID           ProductName  \\\n",
       "0       61288      Rosa   Andersen   134196        229  Bread - Hot Dog Buns   \n",
       "1       77352     Myron     Murray  6167892        229  Bread - Hot Dog Buns   \n",
       "2       40094     Susan  Stevenson  5970885        229  Bread - Hot Dog Buns   \n",
       "3       23548    Tricia    Vincent  6426954        229  Bread - Hot Dog Buns   \n",
       "4       78981     Scott      Burch   819094        229  Bread - Hot Dog Buns   \n",
       "\n",
       "   Quantity  \n",
       "0        16  \n",
       "1        20  \n",
       "2        11  \n",
       "3         6  \n",
       "4        20  "
      ]
     },
     "execution_count": 5,
     "metadata": {},
     "output_type": "execute_result"
    }
   ],
   "source": [
    "data.head()"
   ]
  },
  {
   "cell_type": "markdown",
   "metadata": {},
   "source": [
    "## Step 1: Create a data frame that contains the total quantity of each product purchased by each customer.\n",
    "\n",
    "You will need to group by CustomerID and ProductName and then sum the Quantity field."
   ]
  },
  {
   "cell_type": "code",
   "execution_count": null,
   "metadata": {},
   "outputs": [],
   "source": []
  },
  {
   "cell_type": "markdown",
   "metadata": {},
   "source": [
    "## Step 2: Use the `pivot_table` method to create a product by customer matrix.\n",
    "\n",
    "The rows of the matrix should represent the products, the columns should represent the customers, and the values should be the quantities of each product purchased by each customer. You will also need to replace nulls with zeros, which you can do using the `fillna` method."
   ]
  },
  {
   "cell_type": "code",
   "execution_count": null,
   "metadata": {},
   "outputs": [],
   "source": []
  },
  {
   "cell_type": "markdown",
   "metadata": {},
   "source": [
    "## Step 3: Create a customer similarity matrix using `squareform` and `pdist`. For the distance metric, choose \"euclidean.\""
   ]
  },
  {
   "cell_type": "code",
   "execution_count": null,
   "metadata": {},
   "outputs": [],
   "source": []
  },
  {
   "cell_type": "markdown",
   "metadata": {},
   "source": [
    "## Step 4: Check your results by generating a list of the top 5 most similar customers for a specific CustomerID."
   ]
  },
  {
   "cell_type": "code",
   "execution_count": null,
   "metadata": {},
   "outputs": [],
   "source": []
  },
  {
   "cell_type": "markdown",
   "metadata": {},
   "source": [
    "## Step 5: From the data frame you created in Step 1, select the records for the list of similar CustomerIDs you obtained in Step 4."
   ]
  },
  {
   "cell_type": "code",
   "execution_count": null,
   "metadata": {},
   "outputs": [],
   "source": []
  },
  {
   "cell_type": "markdown",
   "metadata": {},
   "source": [
    "## Step 6: Aggregate those customer purchase records by ProductName, sum the Quantity field, and then rank them in descending order by quantity.\n",
    "\n",
    "This will give you the total number of each product purchased by the 5 most similar customers to the customer you selected in order from most purchased to least."
   ]
  },
  {
   "cell_type": "code",
   "execution_count": null,
   "metadata": {},
   "outputs": [],
   "source": []
  },
  {
   "cell_type": "markdown",
   "metadata": {},
   "source": [
    "## Step 7: Filter the list for products that the chosen customer has not yet purchased and then recommend the top 5 products with the highest quantities that are left.\n",
    "\n",
    "- Merge the ranked products data frame with the customer product matrix on the ProductName field.\n",
    "- Filter for records where the chosen customer has not purchased the product.\n",
    "- Show the top 5 results."
   ]
  },
  {
   "cell_type": "code",
   "execution_count": null,
   "metadata": {},
   "outputs": [],
   "source": []
  },
  {
   "cell_type": "markdown",
   "metadata": {},
   "source": [
    "## Step 8: Now that we have generated product recommendations for a single user, put the pieces together and iterate over a list of all CustomerIDs.\n",
    "\n",
    "- Create an empty dictionary that will hold the recommendations for all customers.\n",
    "- Create a list of unique CustomerIDs to iterate over.\n",
    "- Iterate over the customer list performing steps 4 through 7 for each and appending the results of each iteration to the dictionary you created."
   ]
  },
  {
   "cell_type": "code",
   "execution_count": null,
   "metadata": {},
   "outputs": [],
   "source": []
  },
  {
   "cell_type": "markdown",
   "metadata": {},
   "source": [
    "##  Step 9: Store the results in a Pandas data frame. The data frame should a column for Customer ID and then a column for each of the 5 product recommendations for each customer."
   ]
  },
  {
   "cell_type": "code",
   "execution_count": null,
   "metadata": {
    "scrolled": true
   },
   "outputs": [],
   "source": []
  },
  {
   "cell_type": "markdown",
   "metadata": {},
   "source": [
    "## Step 10: Change the distance metric used in Step 3 to something other than euclidean (correlation, cityblock, consine, jaccard, etc.). Regenerate the recommendations for all customers and note the differences."
   ]
  },
  {
   "cell_type": "code",
   "execution_count": null,
   "metadata": {},
   "outputs": [],
   "source": []
  }
 ],
 "metadata": {
  "kernelspec": {
   "display_name": "Python 3",
   "language": "python",
   "name": "python3"
  },
  "language_info": {
   "codemirror_mode": {
    "name": "ipython",
    "version": 3
   },
   "file_extension": ".py",
   "mimetype": "text/x-python",
   "name": "python",
   "nbconvert_exporter": "python",
   "pygments_lexer": "ipython3",
   "version": "3.7.5"
  }
 },
 "nbformat": 4,
 "nbformat_minor": 2
}
