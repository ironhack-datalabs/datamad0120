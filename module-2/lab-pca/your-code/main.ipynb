{
 "cells": [
  {
   "cell_type": "markdown",
   "metadata": {},
   "source": [
    "# Before your start:\n",
    "- Read the README.md file\n",
    "- Comment as much as you can and use the resources (README.md file)\n",
    "- Happy learning!"
   ]
  },
  {
   "cell_type": "code",
   "execution_count": 18,
   "metadata": {},
   "outputs": [
    {
     "name": "stdout",
     "output_type": "stream",
     "text": [
      "Requirement already satisfied: sklearn in /usr/local/lib/python3.7/site-packages (0.0)\r\n",
      "Requirement already satisfied: scikit-learn in /usr/local/lib/python3.7/site-packages (from sklearn) (0.22.1)\r\n",
      "Requirement already satisfied: numpy>=1.11.0 in /usr/local/lib/python3.7/site-packages (from scikit-learn->sklearn) (1.18.1)\r\n",
      "Requirement already satisfied: scipy>=0.17.0 in /usr/local/lib/python3.7/site-packages (from scikit-learn->sklearn) (1.4.1)\r\n",
      "Requirement already satisfied: joblib>=0.11 in /usr/local/lib/python3.7/site-packages (from scikit-learn->sklearn) (0.14.1)\r\n"
     ]
    }
   ],
   "source": [
    "# Run this code:\n",
    "\n",
    "%matplotlib inline\n",
    "!pip3 install sklearn\n",
    "import matplotlib.pyplot as plt"
   ]
  },
  {
   "cell_type": "code",
   "execution_count": 19,
   "metadata": {},
   "outputs": [],
   "source": [
    "# Import numpy and pandas:\n",
    "import numpy as np\n",
    "import pandas as pd"
   ]
  },
  {
   "cell_type": "markdown",
   "metadata": {},
   "source": [
    "# Challenge 1 - Reading and Standardizing the Data\n",
    "\n",
    "In this challenge we will work with image data and reduce the dimensions of the data to create a 2 dimensional plot. While we have not worked much with image data before, it can be represented as a numpy array where each pixel is assigned a numeric value. In this lesson, we will look at a dataset of cats and a dataset of dogs and see whether reducing them to two dimensions allows us to see if the data is separable. We will start by loading and processing the data. Run the cell below to load the two csv files and convert them into numpy arrays."
   ]
  },
  {
   "cell_type": "code",
   "execution_count": 20,
   "metadata": {},
   "outputs": [],
   "source": [
    "# Run this code\n",
    "\n",
    "cats = np.array(pd.read_csv(\"https://raw.githubusercontent.com/bioramble/pca/master/cat.csv\", header=None))\n",
    "dogs = np.array(pd.read_csv(\"https://raw.githubusercontent.com/bioramble/pca/master/dog.csv\", header=None))"
   ]
  },
  {
   "cell_type": "markdown",
   "metadata": {},
   "source": [
    "Next, we'll examine the shape of both the cats and the dogs arrays. Print out both shapes below."
   ]
  },
  {
   "cell_type": "code",
   "execution_count": 21,
   "metadata": {},
   "outputs": [
    {
     "name": "stdout",
     "output_type": "stream",
     "text": [
      "(4096, 80) (4096, 80)\n"
     ]
    }
   ],
   "source": [
    "# Your code here:\n",
    "print(cats.shape, dogs.shape)"
   ]
  },
  {
   "cell_type": "markdown",
   "metadata": {},
   "source": [
    "What this means is that both arrays contain 80 images each (the number of columns). Each image is comprised of 64x64 pixels (so a total of 4096 pixels per image). The images have been flattened such that all 4096 are in a single row.\n",
    "\n",
    "Print out column 0 of the cats array to see what the pixels values look like."
   ]
  },
  {
   "cell_type": "code",
   "execution_count": 40,
   "metadata": {},
   "outputs": [
    {
     "name": "stdout",
     "output_type": "stream",
     "text": [
      "[ 64  23 250 137  55 173  18 134  19  47 109 164  41  78 108 108 247 105\n",
      " 158  54 103   4  23 102 239  72  42  21 168 109 112 177  22 233  15 236\n",
      " 250 137  32   5 178 109  24 107  53 241 226 143   5 136  98 100  89  66\n",
      " 228  92 255  88 230  56 160  69   6  24 195 183 239  35 154 154 122  18\n",
      "  87 106 174  69  28  60 223 101]\n"
     ]
    }
   ],
   "source": [
    "# Your code here:\n",
    "print(cats[0])"
   ]
  },
  {
   "cell_type": "markdown",
   "metadata": {},
   "source": [
    "Using `matplotlib` we can plot a single cat or a single dog. We do this by reshaping the vector back to a 64x64 image and then using the `imshow` function.\n",
    "\n",
    "Run the code below to look at the first dog and the first cat."
   ]
  },
  {
   "cell_type": "code",
   "execution_count": 41,
   "metadata": {},
   "outputs": [
    {
     "data": {
      "text/plain": [
       "<matplotlib.image.AxesImage at 0x125b22410>"
      ]
     },
     "execution_count": 41,
     "metadata": {},
     "output_type": "execute_result"
    },
    {
     "data": {
      "image/png": "[encoded data removed]",
      "text/plain": [
       "<Figure size 432x288 with 1 Axes>"
      ]
     },
     "metadata": {
      "needs_background": "light"
     },
     "output_type": "display_data"
    }
   ],
   "source": [
    "# Run this code:\n",
    "fig, ax = plt.subplots()\n",
    "ax.imshow(cats[:,0].reshape(64, 64).T, cmap=plt.cm.bone, interpolation='nearest') "
   ]
  },
  {
   "cell_type": "code",
   "execution_count": 42,
   "metadata": {},
   "outputs": [
    {
     "data": {
      "text/plain": [
       "<matplotlib.image.AxesImage at 0x125bca4d0>"
      ]
     },
     "execution_count": 42,
     "metadata": {},
     "output_type": "execute_result"
    },
    {
     "data": {
      "image/png": "[encoded data removed]",
      "text/plain": [
       "<Figure size 432x288 with 1 Axes>"
      ]
     },
     "metadata": {
      "needs_background": "light"
     },
     "output_type": "display_data"
    }
   ],
   "source": [
    "# Run this code:\n",
    "fig, ax = plt.subplots()\n",
    "ax.imshow(dogs[:,0].reshape(64, 64).T, cmap=plt.cm.bone, interpolation='nearest') "
   ]
  },
  {
   "cell_type": "markdown",
   "metadata": {},
   "source": [
    "Next, we would like to create a standardization function. This function will find the mean and standard deviation of each image. We subtract the mean from each pixel and divide each pixel by the standard deviation. Write the function below.\n",
    "\n",
    "Hint: To find the mean and standard deviation of each image, use `numpy`'s version of mean and stadnard deviation and use `axis=0`."
   ]
  },
  {
   "cell_type": "code",
   "execution_count": 131,
   "metadata": {},
   "outputs": [],
   "source": [
    "def standardize(x):\n",
    "    #This function takes as input a numpy array and returns a stadardized numpy array of the same dimensions.\n",
    "    #Sample input: np.array([[1,2,3],[4,5,6]])\n",
    "    #Sample output: np.array([[-1,-1,-1],[1,1,1]])\n",
    "\n",
    "    # Your code here:\n",
    "    mean = np.mean(x, axis=0)\n",
    "    std = np.std(x, axis=0)\n",
    "    total = (x-mean)/std\n",
    "    return total"
   ]
  },
  {
   "cell_type": "markdown",
   "metadata": {},
   "source": [
    "Now, use the `np.concatenate` function to combine the cats and dogs arrays. Use `axis=1` to combine the two correctly. Make sure to put dogs first."
   ]
  },
  {
   "cell_type": "code",
   "execution_count": 132,
   "metadata": {},
   "outputs": [],
   "source": [
    "# Your code here:\n",
    "total1 = np.concatenate((dogs, cats), axis = 1)"
   ]
  },
  {
   "cell_type": "markdown",
   "metadata": {},
   "source": [
    "Standardize the concatenated array below."
   ]
  },
  {
   "cell_type": "code",
   "execution_count": 133,
   "metadata": {},
   "outputs": [],
   "source": [
    "# Your code here:\n",
    "stan = standardize(total1)"
   ]
  },
  {
   "cell_type": "markdown",
   "metadata": {},
   "source": [
    "# Challenge 2 - Using PCA\n",
    "\n",
    "Now that we have created a standardized matrix of cats and dogs, we'll find the two most important components in the data.\n",
    "\n",
    "Load the `PCA` function from `statsmodels` (read about this function [here](https://www.statsmodels.org/dev/generated/statsmodels.multivariate.pca.PCA.html)) and apply the function to our standarized data. Create a PCA model with two components."
   ]
  },
  {
   "cell_type": "code",
   "execution_count": 134,
   "metadata": {},
   "outputs": [
    {
     "name": "stdout",
     "output_type": "stream",
     "text": [
      "(4096, 2) (4096, 160)\n"
     ]
    }
   ],
   "source": [
    "# Your code here:\n",
    "# No use statsmodel ya que Marc nos comentó que con sklearn es más directo.\n",
    "from sklearn.decomposition import PCA\n",
    "\n",
    "pca = PCA(n_components=2)\n",
    "total1_2d = pca.fit_transform(total1)\n",
    "print(total1_2d.shape, stan.shape)"
   ]
  },
  {
   "cell_type": "markdown",
   "metadata": {},
   "source": [
    "Use `numpy` to find to transpose the standardized pet array. This will help us compute the projection."
   ]
  },
  {
   "cell_type": "code",
   "execution_count": 135,
   "metadata": {},
   "outputs": [
    {
     "data": {
      "text/plain": [
       "array([[ 2.37662907,  2.37662907,  2.37662907, ...,  0.22755315,\n",
       "         0.22755315,  0.22755315],\n",
       "       [-0.30753004, -0.40500299, -0.68349716, ..., -0.68349716,\n",
       "        -0.40500299, -0.40500299],\n",
       "       [ 0.93254857,  1.15681724,  0.93254857, ...,  0.63352369,\n",
       "         0.35941754,  0.35941754],\n",
       "       ...,\n",
       "       [-1.80817356, -2.06459792, -1.73124626, ..., -0.65426398,\n",
       "        -0.32091232, -0.67990641],\n",
       "       [ 1.42293481,  1.44036713,  1.45779946, ...,  0.67334483,\n",
       "         0.70820948,  0.62104786],\n",
       "       [-0.20363951, -0.05437635, -0.07925354, ...,  0.11976401,\n",
       "        -0.45241144,  0.09488681]])"
      ]
     },
     "execution_count": 135,
     "metadata": {},
     "output_type": "execute_result"
    }
   ],
   "source": [
    "# Your code here:\n",
    "stanT = np.transpose(stan)\n",
    "stanT"
   ]
  },
  {
   "cell_type": "markdown",
   "metadata": {},
   "source": [
    "Find the dot product of the transposed standardized pet matrix and the `factors` of the `PCA` model found above. This will be the projection onto 2 dimensions. This means that each cat and dog image will now only have two columns instead of 4096."
   ]
  },
  {
   "cell_type": "code",
   "execution_count": 136,
   "metadata": {},
   "outputs": [
    {
     "data": {
      "text/plain": [
       "(160, 2)"
      ]
     },
     "execution_count": 136,
     "metadata": {},
     "output_type": "execute_result"
    }
   ],
   "source": [
    "# Your code here\n",
    "factors = np.dot(stanT,total1_2d)\n",
    "factors.shape"
   ]
  },
  {
   "cell_type": "code",
   "execution_count": 137,
   "metadata": {},
   "outputs": [
    {
     "data": {
      "text/plain": [
       "array([[ 8.59993821e+05,  2.58906717e+05],\n",
       "       [ 6.73393130e+05, -3.07742440e+05],\n",
       "       [-2.60486046e+05, -2.83937479e+05],\n",
       "       [ 1.21064131e+05, -5.41342553e+05],\n",
       "       [ 6.77172484e+05,  9.35361988e+04],\n",
       "       [-1.76374415e+05, -7.73471708e+05],\n",
       "       [ 4.55299992e+05, -2.12670299e+05],\n",
       "       [ 3.12266056e+05, -6.80377888e+05],\n",
       "       [ 2.67465773e+05, -6.46279053e+05],\n",
       "       [ 8.14661707e+05,  5.24959260e+04],\n",
       "       [ 1.76707407e+04, -5.83518667e+05],\n",
       "       [ 4.46590148e+05, -2.85419315e+05],\n",
       "       [ 1.93497260e+05, -2.45527391e+05],\n",
       "       [-4.93894004e+04, -2.47326762e+05],\n",
       "       [ 4.03944320e+05, -5.23800045e+05],\n",
       "       [ 3.71702666e+05, -5.34985133e+05],\n",
       "       [ 3.28519066e+05, -1.38763607e+05],\n",
       "       [ 8.06301759e+05, -3.43286706e+05],\n",
       "       [ 3.86304440e+05, -4.75223243e+05],\n",
       "       [ 3.34418244e+05, -7.72855221e+05],\n",
       "       [-4.77555077e+04, -5.76498002e+05],\n",
       "       [ 5.59178763e+04, -6.66148662e+05],\n",
       "       [ 2.02842531e+05, -2.35601314e+05],\n",
       "       [ 2.55866823e+05, -7.00396250e+05],\n",
       "       [ 5.78356171e+05, -5.27644366e+05],\n",
       "       [ 2.21046322e+04, -7.33039996e+05],\n",
       "       [-6.85850465e+04, -4.75909661e+05],\n",
       "       [ 1.32580632e+04, -3.75927494e+05],\n",
       "       [ 2.98600479e+05, -8.23391071e+05],\n",
       "       [ 2.03344682e+05, -4.11085359e+05],\n",
       "       [ 1.25489446e+05, -5.13358378e+05],\n",
       "       [ 1.64302029e+05, -4.50260055e+05],\n",
       "       [ 6.32328215e+05, -5.07419770e+05],\n",
       "       [ 2.85379857e+05, -5.84248920e+05],\n",
       "       [-1.40314919e+05, -6.56469579e+05],\n",
       "       [ 3.44231842e+05, -2.36602413e+05],\n",
       "       [-2.71572017e+05, -6.18905427e+05],\n",
       "       [ 3.68221243e+04, -5.63732349e+05],\n",
       "       [-1.15309954e+05, -7.16251429e+05],\n",
       "       [ 6.07231885e+05, -3.41799818e+05],\n",
       "       [ 3.65767248e+05, -6.62303038e+05],\n",
       "       [ 2.25159840e+05,  2.86937022e+05],\n",
       "       [-1.91333485e+05, -5.20223872e+05],\n",
       "       [ 3.15244438e+05, -4.55927827e+05],\n",
       "       [-1.62189357e+05, -2.71153724e+05],\n",
       "       [ 3.95549673e+05,  3.71683978e+05],\n",
       "       [ 5.57790346e+05,  1.95839488e+05],\n",
       "       [ 1.51071014e+05, -1.54129584e+05],\n",
       "       [ 3.15832370e+05,  2.40287822e+05],\n",
       "       [-3.36283487e+05, -5.62568500e+05],\n",
       "       [ 5.84421790e+05,  1.74875656e+05],\n",
       "       [ 7.48249607e+05,  4.48197371e+05],\n",
       "       [ 1.16217610e+05,  2.55626546e+05],\n",
       "       [-4.35983738e+05, -6.50678818e+05],\n",
       "       [-4.39025890e+05, -9.29835896e+04],\n",
       "       [-2.67707606e+05, -3.65009220e+04],\n",
       "       [ 5.83131348e+05,  9.19604987e+04],\n",
       "       [ 2.82152463e+05,  2.04190567e+05],\n",
       "       [-3.43889256e+05, -4.39249212e+05],\n",
       "       [-3.81425996e+04, -4.82459375e+05],\n",
       "       [ 1.70504614e+05, -6.44647621e+05],\n",
       "       [ 6.15921782e+05,  3.62655356e+05],\n",
       "       [ 6.59871727e+05,  1.52752551e+05],\n",
       "       [-4.70491160e+05,  4.74856811e+04],\n",
       "       [-2.18989581e+05, -1.61737724e+05],\n",
       "       [ 5.61200056e+05,  3.93768552e+04],\n",
       "       [ 1.02972180e+05,  3.86790318e+05],\n",
       "       [-6.67808152e+05, -2.15714696e+05],\n",
       "       [-3.54653858e+04, -4.33101855e+04],\n",
       "       [ 4.67116123e+05, -4.70373387e+05],\n",
       "       [-2.12283227e+05, -2.06133275e+05],\n",
       "       [-1.88510919e+04, -5.42058001e+05],\n",
       "       [ 5.51873766e+05, -4.32966206e+05],\n",
       "       [-4.29447543e+05, -3.90698120e+05],\n",
       "       [ 1.98820227e+05,  4.37655092e+05],\n",
       "       [ 8.19102147e+05,  1.08337742e+05],\n",
       "       [ 6.86326791e+05, -1.17000505e+05],\n",
       "       [-1.65448728e+05, -6.08835085e+05],\n",
       "       [-5.06414172e+04, -5.19156879e+05],\n",
       "       [ 8.08417504e+05,  7.57798938e+04],\n",
       "       [-3.04858272e+05,  2.55910973e+05],\n",
       "       [-1.02739383e+06, -1.58329478e+04],\n",
       "       [ 1.01095658e+06,  8.80770506e+04],\n",
       "       [ 8.28367983e+05, -2.95912871e+04],\n",
       "       [-6.15222394e+05,  2.74747156e+05],\n",
       "       [-4.39962394e+05,  5.02886337e+05],\n",
       "       [-8.59141486e+05, -6.82557580e+04],\n",
       "       [-1.13603816e+05,  2.38563544e+05],\n",
       "       [-8.65416755e+05,  1.29143387e+05],\n",
       "       [-4.46718802e+05,  3.08347264e+05],\n",
       "       [ 7.88847148e+03,  9.61080393e+04],\n",
       "       [ 1.21578005e+05,  1.03812797e+05],\n",
       "       [-1.06387694e+06,  1.43129555e+05],\n",
       "       [-6.17320782e+05,  2.02835461e+05],\n",
       "       [ 6.02514713e+05,  2.00836564e+05],\n",
       "       [-7.93489475e+05,  2.52941509e+05],\n",
       "       [ 5.90441874e+05,  1.75339895e+05],\n",
       "       [-6.90772800e+05,  1.43090829e+05],\n",
       "       [ 9.01650420e+05,  1.86358383e+04],\n",
       "       [-1.03665960e+06,  5.81676247e+04],\n",
       "       [ 2.41378222e+05,  1.64827067e+05],\n",
       "       [-7.43122552e+05, -7.11756864e+04],\n",
       "       [-7.45450430e+05, -2.41703566e+05],\n",
       "       [-6.93516624e+05, -5.35753602e+05],\n",
       "       [ 1.06744025e+06,  9.91229311e+04],\n",
       "       [-1.50094421e+05, -3.54620603e+05],\n",
       "       [-7.10523532e+05,  2.97020523e+05],\n",
       "       [-6.49510033e+05, -3.20677805e+05],\n",
       "       [ 4.33827542e+05, -4.25423153e+02],\n",
       "       [-4.41048774e+05,  1.09500223e+05],\n",
       "       [-6.56259401e+04,  2.44112025e+05],\n",
       "       [ 2.73027356e+05,  2.69763689e+05],\n",
       "       [-3.84670409e+05,  4.47790795e+05],\n",
       "       [ 1.09889234e+06,  1.95957745e+05],\n",
       "       [-1.04810747e+06, -2.17598862e+04],\n",
       "       [-1.38677345e+05, -1.47974673e+05],\n",
       "       [ 1.04873520e+06, -1.43624794e+04],\n",
       "       [-8.78627845e+05,  1.29217312e+05],\n",
       "       [-4.13884535e+05, -2.99255091e+05],\n",
       "       [-3.25592567e+05,  2.14265338e+05],\n",
       "       [-1.40572674e+05,  3.50976950e+05],\n",
       "       [-5.59652707e+05,  3.25367486e+05],\n",
       "       [-1.11547796e+06, -2.57451804e+05],\n",
       "       [-6.45272291e+05, -3.70037740e+05],\n",
       "       [-1.05871710e+06, -3.20114023e+05],\n",
       "       [ 6.85676478e+05,  2.24377159e+05],\n",
       "       [ 7.03024628e+05, -7.09836885e+04],\n",
       "       [ 6.06821926e+05,  2.19552557e+05],\n",
       "       [-1.04906998e+06, -1.05378065e+05],\n",
       "       [ 2.16370750e+04,  1.05420141e+05],\n",
       "       [-5.17450272e+05,  2.82133337e+05],\n",
       "       [-3.17072538e+05, -2.15177575e+05],\n",
       "       [-9.37141187e+05,  2.71583582e+05],\n",
       "       [-7.36755358e+05,  2.20561985e+05],\n",
       "       [ 3.80739503e+05,  3.08758087e+05],\n",
       "       [-7.91461956e+05,  2.86761591e+05],\n",
       "       [-7.47783824e+05,  3.80875917e+05],\n",
       "       [-4.05529996e+05, -1.89167158e+05],\n",
       "       [ 6.64025166e+05,  4.45053424e+05],\n",
       "       [-4.27581620e+05, -5.52142219e+05],\n",
       "       [-2.96493087e+04,  1.67101639e+04],\n",
       "       [-4.38832610e+05,  1.88709945e+05],\n",
       "       [-8.18303540e+05,  1.20584677e+05],\n",
       "       [-8.60781863e+05, -1.73180644e+05],\n",
       "       [ 5.18340759e+05,  2.73743959e+04],\n",
       "       [-1.51282418e+05,  2.74677170e+05],\n",
       "       [ 1.05132040e+06,  1.27137885e+05],\n",
       "       [-5.72815450e+04,  4.48350611e+04],\n",
       "       [ 4.59995566e+05,  1.06017598e+05],\n",
       "       [ 6.74699913e+05, -5.20581688e+04],\n",
       "       [ 3.33551106e+05,  6.54322664e+04],\n",
       "       [-7.02850549e+05, -1.85219802e+05],\n",
       "       [-2.35398780e+05,  2.11100624e+05],\n",
       "       [ 4.32859420e+04, -3.42506984e+04],\n",
       "       [ 2.22694087e+05, -2.94020032e+04],\n",
       "       [-5.42515921e+05, -3.29478188e+05],\n",
       "       [-6.78141604e+05, -3.88555288e+05],\n",
       "       [-9.24446047e+05, -2.04468361e+05],\n",
       "       [ 3.60041352e+05, -4.57765354e+04],\n",
       "       [-1.64644792e+05,  2.04103312e+05]])"
      ]
     },
     "execution_count": 137,
     "metadata": {},
     "output_type": "execute_result"
    }
   ],
   "source": [
    "factors"
   ]
  },
  {
   "cell_type": "markdown",
   "metadata": {},
   "source": [
    "# Challenge 3 - Plotting the Data\n",
    "\n",
    "Now that we have reduced our cats and dogs arrays, we can easily plot the data in a way that the human eye can understand. We can look at this plot to see whether there are differences between the cat and dog images. \n",
    "\n",
    "In the cell below, turn the two dimensional projection into a pandas dataframe and name the columns `pc1`, and `pc2` respectively."
   ]
  },
  {
   "cell_type": "code",
   "execution_count": 138,
   "metadata": {},
   "outputs": [
    {
     "data": {
      "text/html": [
       "<div>\n",
       "<style scoped>\n",
       "    .dataframe tbody tr th:only-of-type {\n",
       "        vertical-align: middle;\n",
       "    }\n",
       "\n",
       "    .dataframe tbody tr th {\n",
       "        vertical-align: top;\n",
       "    }\n",
       "\n",
       "    .dataframe thead th {\n",
       "        text-align: right;\n",
       "    }\n",
       "</style>\n",
       "<table border=\"1\" class=\"dataframe\">\n",
       "  <thead>\n",
       "    <tr style=\"text-align: right;\">\n",
       "      <th></th>\n",
       "      <th>pc1</th>\n",
       "      <th>pc2</th>\n",
       "    </tr>\n",
       "  </thead>\n",
       "  <tbody>\n",
       "    <tr>\n",
       "      <th>0</th>\n",
       "      <td>859993.820743</td>\n",
       "      <td>258906.717131</td>\n",
       "    </tr>\n",
       "    <tr>\n",
       "      <th>1</th>\n",
       "      <td>673393.130060</td>\n",
       "      <td>-307742.440191</td>\n",
       "    </tr>\n",
       "    <tr>\n",
       "      <th>2</th>\n",
       "      <td>-260486.046242</td>\n",
       "      <td>-283937.478939</td>\n",
       "    </tr>\n",
       "    <tr>\n",
       "      <th>3</th>\n",
       "      <td>121064.131041</td>\n",
       "      <td>-541342.553379</td>\n",
       "    </tr>\n",
       "    <tr>\n",
       "      <th>4</th>\n",
       "      <td>677172.484180</td>\n",
       "      <td>93536.198764</td>\n",
       "    </tr>\n",
       "    <tr>\n",
       "      <th>...</th>\n",
       "      <td>...</td>\n",
       "      <td>...</td>\n",
       "    </tr>\n",
       "    <tr>\n",
       "      <th>155</th>\n",
       "      <td>-542515.921116</td>\n",
       "      <td>-329478.187714</td>\n",
       "    </tr>\n",
       "    <tr>\n",
       "      <th>156</th>\n",
       "      <td>-678141.603574</td>\n",
       "      <td>-388555.288063</td>\n",
       "    </tr>\n",
       "    <tr>\n",
       "      <th>157</th>\n",
       "      <td>-924446.047409</td>\n",
       "      <td>-204468.360955</td>\n",
       "    </tr>\n",
       "    <tr>\n",
       "      <th>158</th>\n",
       "      <td>360041.352272</td>\n",
       "      <td>-45776.535413</td>\n",
       "    </tr>\n",
       "    <tr>\n",
       "      <th>159</th>\n",
       "      <td>-164644.792417</td>\n",
       "      <td>204103.311630</td>\n",
       "    </tr>\n",
       "  </tbody>\n",
       "</table>\n",
       "<p>160 rows × 2 columns</p>\n",
       "</div>"
      ],
      "text/plain": [
       "               pc1            pc2\n",
       "0    859993.820743  258906.717131\n",
       "1    673393.130060 -307742.440191\n",
       "2   -260486.046242 -283937.478939\n",
       "3    121064.131041 -541342.553379\n",
       "4    677172.484180   93536.198764\n",
       "..             ...            ...\n",
       "155 -542515.921116 -329478.187714\n",
       "156 -678141.603574 -388555.288063\n",
       "157 -924446.047409 -204468.360955\n",
       "158  360041.352272  -45776.535413\n",
       "159 -164644.792417  204103.311630\n",
       "\n",
       "[160 rows x 2 columns]"
      ]
     },
     "execution_count": 138,
     "metadata": {},
     "output_type": "execute_result"
    }
   ],
   "source": [
    "# Your code here:\n",
    "df = pd.DataFrame(factors, columns=['pc1','pc2'])\n",
    "df"
   ]
  },
  {
   "cell_type": "markdown",
   "metadata": {},
   "source": [
    "Create a labels list. This list will be of size 160. The first 80 elements in the list will be the word `blue`, and the last 80 elements will be `red`. This will ensure that all dog observations will be colored in blue and all cats will be colored in red. Name this list `colors`."
   ]
  },
  {
   "cell_type": "code",
   "execution_count": 139,
   "metadata": {},
   "outputs": [],
   "source": [
    "# Your code here:\n",
    "colors = []\n",
    "for i in range(160):\n",
    "    if i < 80:\n",
    "        colors.append('blue')\n",
    "    else:\n",
    "         colors.append('red')"
   ]
  },
  {
   "cell_type": "markdown",
   "metadata": {},
   "source": [
    "Create a scatter plot of `pc1` and `pc2` below. Use the `colors` list above to color the observations by setting `c=colors`."
   ]
  },
  {
   "cell_type": "code",
   "execution_count": 141,
   "metadata": {},
   "outputs": [
    {
     "data": {
      "text/plain": [
       "<matplotlib.collections.PathCollection at 0x1374f7150>"
      ]
     },
     "execution_count": 141,
     "metadata": {},
     "output_type": "execute_result"
    },
    {
     "data": {
      "image/png": "[encoded data removed]",
      "text/plain": [
       "<Figure size 432x288 with 1 Axes>"
      ]
     },
     "metadata": {
      "needs_background": "light"
     },
     "output_type": "display_data"
    }
   ],
   "source": [
    "# Your code here:\n",
    "plt.scatter(x = df.pc1, y = df.pc2, c=colors)"
   ]
  },
  {
   "cell_type": "markdown",
   "metadata": {},
   "source": [
    "Do you see a clear separation between cats and dogs? Write your answer below."
   ]
  },
  {
   "cell_type": "code",
   "execution_count": 146,
   "metadata": {},
   "outputs": [
    {
     "data": {
      "text/plain": [
       "'No se ve claramente una separación, ya que en gran parte del centro y de la parte superior izquierda convergen ambos colores, pero arriba a la izquierda se puede observar únicamente el color rojo que representa al gato, y abajo a la derecha el color azul que representa al perro. Pareciera que existiese una especie de diagonal central que los divide'"
      ]
     },
     "execution_count": 146,
     "metadata": {},
     "output_type": "execute_result"
    }
   ],
   "source": [
    "# Your conclusions here:\n",
    "'No se ve claramente una separación, ya que en gran parte del centro y de la parte superior izquierda convergen ambos colores, pero arriba a la izquierda se puede observar únicamente el color rojo que representa al gato, y abajo a la derecha el color azul que representa al perro. Pareciera que existiese una especie de diagonal central que los divide'"
   ]
  },
  {
   "cell_type": "code",
   "execution_count": null,
   "metadata": {},
   "outputs": [],
   "source": []
  }
 ],
 "metadata": {
  "kernelspec": {
   "display_name": "Python 3",
   "language": "python",
   "name": "python3"
  },
  "language_info": {
   "codemirror_mode": {
    "name": "ipython",
    "version": 3
   },
   "file_extension": ".py",
   "mimetype": "text/x-python",
   "name": "python",
   "nbconvert_exporter": "python",
   "pygments_lexer": "ipython3",
   "version": "3.7.5"
  }
 },
 "nbformat": 4,
 "nbformat_minor": 2
}
