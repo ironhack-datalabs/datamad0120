{
 "cells": [
  {
   "cell_type": "markdown",
   "metadata": {},
   "source": [
    "# Before your start:\n",
    "- Read the README.md file\n",
    "- Comment as much as you can and use the resources (README.md file)\n",
    "- Happy learning!"
   ]
  },
  {
   "cell_type": "code",
   "execution_count": 120,
   "metadata": {},
   "outputs": [],
   "source": [
    "# Import your libraries\n",
    "from scipy.stats import norm\n",
    "from scipy.stats import binom\n",
    "from scipy.stats import poisson\n",
    "import numpy as np\n",
    "import seaborn as sns\n",
    "import matplotlib.pyplot as plt"
   ]
  },
  {
   "cell_type": "markdown",
   "metadata": {},
   "source": [
    "# Challenge 1 - Generate and Plot Normal Distributions"
   ]
  },
  {
   "cell_type": "markdown",
   "metadata": {},
   "source": [
    "#### Step 1: Generate samples and test normal distribution\n",
    "\n",
    "Use mean=50, standard_deviation=5, and sample_size=[10, 50, 500, 5000] to generate 4 random samples that are normally distributed. Test your normal distributions with [`scipy.stats.normaltest`](https://docs.scipy.org/doc/scipy/reference/generated/scipy.stats.normaltest.html).\n",
    "\n",
    "\n",
    "*Hint: Read the documentation for `scipy.stats.normaltest`. The function does not simply return Yes or No for whether your data is normal distribution. It returns the likelihood.*"
   ]
  },
  {
   "cell_type": "code",
   "execution_count": 68,
   "metadata": {},
   "outputs": [
    {
     "name": "stdout",
     "output_type": "stream",
     "text": [
      "size=10--> NormaltestResult(statistic=2.5885885013192205, pvalue=0.2740912357963974)\n",
      "size=50--> NormaltestResult(statistic=0.7387179329870308, pvalue=0.6911772564373442)\n",
      "size=500--> NormaltestResult(statistic=3.2407133252455598, pvalue=0.1978281286002297)\n",
      "size=5000--> NormaltestResult(statistic=0.4604259256604326, pvalue=0.7943644143946715)\n"
     ]
    }
   ],
   "source": [
    "# Your code here\n",
    "sample1 = norm.rvs(loc = 50, scale = 5, size=10)\n",
    "sample2 = norm.rvs(loc = 50, scale = 5, size=50)\n",
    "sample3 = norm.rvs(loc = 50, scale = 5, size=500)\n",
    "sample4 = norm.rvs(loc = 50, scale = 5, size=5000)\n",
    "print(\"size=10-->\", scipy.stats.normaltest(sample1))\n",
    "print(\"size=50-->\", scipy.stats.normaltest(sample2))\n",
    "print(\"size=500-->\", scipy.stats.normaltest(sample3))\n",
    "print(\"size=5000-->\", scipy.stats.normaltest(sample4))\n",
    "# pvalue nos indica la concordancia entre las frecuencias esperadas y obtenidas.\n",
    "# Cuanto más cerca estemos de 0, mayor será la concordancia "
   ]
  },
  {
   "cell_type": "markdown",
   "metadata": {},
   "source": [
    "#### Interpret the normaltest results and make your observations."
   ]
  },
  {
   "cell_type": "code",
   "execution_count": 80,
   "metadata": {},
   "outputs": [],
   "source": [
    "# pvalor (hip nula: mis medidas se ditribuyen como una normal \n",
    "# alfa por convención 0.05:\n",
    "# · Si pvalor < alfa se rechaza la hip nula y por tanto, mi distrib no es normal\n",
    "# · Si pvalor > alfa se falla en el rechazo (aceptar hip nula) y la dist será normal.)\n",
    "# Nuestro p > alfa la dist es normal."
   ]
  },
  {
   "cell_type": "markdown",
   "metadata": {},
   "source": [
    "#### Step 2: Plot normal distributions\n",
    "\n",
    "Use matplotlib subplots to plot a histogram of each sample. \n",
    "\n",
    "*Hints:*\n",
    "- Use subplots to compare your figures side by side.\n",
    "\n",
    "- Your output should look like below:\n",
    "\n",
    "![normal distributions with different sample sizes](ch-1.png)"
   ]
  },
  {
   "cell_type": "code",
   "execution_count": 65,
   "metadata": {},
   "outputs": [
    {
     "data": {
      "text/plain": [
       "[Text(0, 0.5, 'Frequency'), Text(0.5, 0, 'Normal Distribution')]"
      ]
     },
     "execution_count": 65,
     "metadata": {},
     "output_type": "execute_result"
    },
    {
     "data": {
      "image/png": "[encoded data removed]",
      "text/plain": [
       "<Figure size 1080x288 with 4 Axes>"
      ]
     },
     "metadata": {
      "needs_background": "light"
     },
     "output_type": "display_data"
    }
   ],
   "source": [
    "# Your code here\n",
    "# Explain the test results here\n",
    "fig, (ax1, ax2, ax3, ax4) = plt.subplots(1, 4)\n",
    "fig.set_figwidth(15)\n",
    "ax4.set_title('n=10')\n",
    "ax4.hist(sample1)\n",
    "ax4.set(xlabel='Normal Distribution', ylabel='Frequency')\n",
    "ax3.set_title('n=50')\n",
    "ax3.hist(sample2)\n",
    "ax3.set(xlabel='Normal Distribution', ylabel='Frequency')\n",
    "ax2.set_title('n=500')\n",
    "ax2.hist(sample3)\n",
    "ax2.set(xlabel='Normal Distribution', ylabel='Frequency')\n",
    "ax1.set_title('n=5000')\n",
    "ax1.hist(sample4)\n",
    "ax1.set(xlabel='Normal Distribution', ylabel='Frequency')"
   ]
  },
  {
   "cell_type": "markdown",
   "metadata": {},
   "source": [
    "#### Compare the distributions above. What do you observe? Explain with the Central Limit Theorem."
   ]
  },
  {
   "cell_type": "code",
   "execution_count": null,
   "metadata": {},
   "outputs": [],
   "source": [
    "# Your comment and explanation here\n",
    "# Según vamos aumentando el tamaño de la muestra nos vamos acercando a la media de la distribución normal\n",
    "# en nuestro caso 50."
   ]
  },
  {
   "cell_type": "markdown",
   "metadata": {},
   "source": [
    "# Challenge 2 - Plot Probability Mass Function (PMF)"
   ]
  },
  {
   "cell_type": "markdown",
   "metadata": {},
   "source": [
    "#### Background knowledge\n",
    "\n",
    "[PMF](https://en.wikipedia.org/wiki/Probability_mass_function) shows the probability distribution of a **discrete random variable**. A [discrete random variable](https://en.wikipedia.org/wiki/Random_variable#Discrete_random_variable) has random numeric values that are not continuous. For example, the number of people in a household can only be integers but not floats. Therefore the number of people in a household is a discrete variable.\n",
    "\n",
    "#### Question: We assume that the probability of clicking an Ad in a Youtube video is 0.15. We have a sample of 5 people who wathched the video and we want to plot the PMF for a binomial distribution.\n",
    "\n",
    "*Hint: use binom from `scipy.stats.binom`. Your output should look like below:*\n",
    "\n",
    "![binom 10](ch-2.png)"
   ]
  },
  {
   "cell_type": "code",
   "execution_count": 118,
   "metadata": {},
   "outputs": [
    {
     "data": {
      "text/plain": [
       "[<matplotlib.lines.Line2D at 0x7f63de936d50>]"
      ]
     },
     "execution_count": 118,
     "metadata": {},
     "output_type": "execute_result"
    },
    {
     "data": {
      "image/png": "[encoded data removed]",
      "text/plain": [
       "<Figure size 432x288 with 1 Axes>"
      ]
     },
     "metadata": {
      "needs_background": "light"
     },
     "output_type": "display_data"
    }
   ],
   "source": [
    "# Your code here\n",
    "n = 5\n",
    "p = 0.15\n",
    "x= np.arange(n)\n",
    "rv = binom(n, p)\n",
    "plt.plot(x,rv.pmf(x))"
   ]
  },
  {
   "cell_type": "markdown",
   "metadata": {},
   "source": [
    "#### Explain what you observe from the plot above"
   ]
  },
  {
   "cell_type": "code",
   "execution_count": 105,
   "metadata": {},
   "outputs": [],
   "source": [
    "# Your comment here\n",
    "# La probabilidad de que en un grupo de cinco personas 0 personas hayan clickado es aprox 0.43\n",
    "# La probabilidad de que en un grupo de cinco personas 1 personas hayan clickado es aprox 0.37\n",
    "# La probabilidad de que en un grupo de cinco personas 2 personas hayan clickado es aprox 0.13\n",
    "# La probabilidad de que en un grupo de cinco personas 3 personas hayan clickado es aprox 0.03\n",
    "# La probabilidad de que en un grupo de cinco personas 4 personas hayan clickado es aprox 0"
   ]
  },
  {
   "cell_type": "markdown",
   "metadata": {},
   "source": [
    "#### Now plot PMF with 50, 500, and 5000 visitors."
   ]
  },
  {
   "cell_type": "code",
   "execution_count": 112,
   "metadata": {},
   "outputs": [
    {
     "data": {
      "text/plain": [
       "[<matplotlib.lines.Line2D at 0x7f63dec42d50>]"
      ]
     },
     "execution_count": 112,
     "metadata": {},
     "output_type": "execute_result"
    },
    {
     "data": {
      "image/png": "[encoded data removed]",
      "text/plain": [
       "<Figure size 1080x288 with 3 Axes>"
      ]
     },
     "metadata": {
      "needs_background": "light"
     },
     "output_type": "display_data"
    }
   ],
   "source": [
    "# Your code here\n",
    "n = 50\n",
    "p = 0.15\n",
    "fig, (ax1, ax2, ax3) = plt.subplots(1, 3)\n",
    "fig.set_figwidth(15)\n",
    "x= np.arange(n)\n",
    "rv = binom(n, p)\n",
    "ax3.set_title('n=50')\n",
    "ax3.plot(x,rv.pmf(x))\n",
    "n = 500\n",
    "x= np.arange(n)\n",
    "rv = binom(n, p)\n",
    "ax2.set_title('n=500')\n",
    "ax2.plot(x,rv.pmf(x))\n",
    "n = 1000\n",
    "x= np.arange(n)\n",
    "rv = binom(n, p)\n",
    "ax1.set_title('n=5000')\n",
    "ax1.plot(x,rv.pmf(x))"
   ]
  },
  {
   "cell_type": "markdown",
   "metadata": {},
   "source": [
    "#### What did you notice from the distribution plots? Comment your findings."
   ]
  },
  {
   "cell_type": "code",
   "execution_count": null,
   "metadata": {},
   "outputs": [],
   "source": [
    "# Your comment here\n",
    "# Según aumenta el tamaño de la muestra hay aumenta la probabilidad de que clique más gente al mismo tiempo.\n",
    "# Para n = 50 hay unan prob de 0.15 de que 8 de las 50 hayan clickado"
   ]
  },
  {
   "cell_type": "markdown",
   "metadata": {},
   "source": [
    "# Challenge 3"
   ]
  },
  {
   "cell_type": "markdown",
   "metadata": {},
   "source": [
    "#### Reaserch the Poisson distribution. Write about your own understanding of the Poisson distribution."
   ]
  },
  {
   "cell_type": "code",
   "execution_count": null,
   "metadata": {},
   "outputs": [],
   "source": [
    "# Es una distribución de probabilidad que usaremos cuando el tamaño muestral sea pequeño o que la probabilidad\n",
    "# del suceso sea muy pequeño"
   ]
  },
  {
   "cell_type": "markdown",
   "metadata": {},
   "source": [
    "#### A website has an average of 300 visits per day. What is the probability of getting 320 visitors in a day?\n",
    "\n",
    "*Hint: use `scipy.stats.poisson`*"
   ]
  },
  {
   "cell_type": "code",
   "execution_count": 138,
   "metadata": {},
   "outputs": [
    {
     "data": {
      "text/plain": [
       "0.011612348610402475"
      ]
     },
     "execution_count": 138,
     "metadata": {},
     "output_type": "execute_result"
    }
   ],
   "source": [
    "mu = 300\n",
    "poisson.pmf(320, mu)"
   ]
  },
  {
   "cell_type": "markdown",
   "metadata": {},
   "source": [
    "#### What is the probability of getting 60 visits?"
   ]
  },
  {
   "cell_type": "code",
   "execution_count": 139,
   "metadata": {},
   "outputs": [
    {
     "data": {
      "text/plain": [
       "2.622743762294515e-64"
      ]
     },
     "execution_count": 139,
     "metadata": {},
     "output_type": "execute_result"
    }
   ],
   "source": [
    "poisson.pmf(60, mu)"
   ]
  },
  {
   "cell_type": "markdown",
   "metadata": {},
   "source": [
    "#### Plot the distribution of the probability for getting 0-1000 visits.\n",
    "\n",
    "*Hints:* \n",
    "\n",
    "- Create a list to store the Poisson distribution probabilities for n=0 to 1000. Then plot the probabilities.\n",
    "\n",
    "- Your plot should look like below:\n",
    "\n",
    "![poisson distribution](ch-3.png)"
   ]
  },
  {
   "cell_type": "code",
   "execution_count": 140,
   "metadata": {},
   "outputs": [
    {
     "data": {
      "text/plain": [
       "[<matplotlib.lines.Line2D at 0x7f63de78d190>]"
      ]
     },
     "execution_count": 140,
     "metadata": {},
     "output_type": "execute_result"
    },
    {
     "data": {
      "image/png": "[encoded data removed]",
      "text/plain": [
       "<Figure size 432x288 with 1 Axes>"
      ]
     },
     "metadata": {
      "needs_background": "light"
     },
     "output_type": "display_data"
    }
   ],
   "source": [
    "x = range(1000)\n",
    "plt.plot(x,poisson.pmf(x, mu))\n"
   ]
  }
 ],
 "metadata": {
  "anaconda-cloud": {},
  "kernelspec": {
   "display_name": "Python 3",
   "language": "python",
   "name": "python3"
  },
  "language_info": {
   "codemirror_mode": {
    "name": "ipython",
    "version": 3
   },
   "file_extension": ".py",
   "mimetype": "text/x-python",
   "name": "python",
   "nbconvert_exporter": "python",
   "pygments_lexer": "ipython3",
   "version": "3.7.5"
  }
 },
 "nbformat": 4,
 "nbformat_minor": 1
}
