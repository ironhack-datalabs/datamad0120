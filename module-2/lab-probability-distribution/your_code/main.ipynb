{
 "cells": [
  {
   "cell_type": "markdown",
   "metadata": {},
   "source": [
    "# Before your start:\n",
    "- Read the README.md file\n",
    "- Comment as much as you can and use the resources (README.md file)\n",
    "- Happy learning!"
   ]
  },
  {
   "cell_type": "code",
   "execution_count": 227,
   "metadata": {},
   "outputs": [],
   "source": [
    "# Import your libraries\n",
    "from scipy.stats import uniform\n",
    "import matplotlib.pyplot as plt\n",
    "import seaborn as sns\n",
    "import numpy as np\n",
    "from scipy.stats import norm\n",
    "from scipy.stats import binom\n",
    "from scipy.stats import poisson"
   ]
  },
  {
   "cell_type": "markdown",
   "metadata": {},
   "source": [
    "# Challenge 1 - Generate and Plot Normal Distributions"
   ]
  },
  {
   "cell_type": "markdown",
   "metadata": {},
   "source": [
    "#### Step 1: Generate samples and test normal distribution\n",
    "\n",
    "Use mean=50, standard_deviation=5, and sample_size=[10, 50, 500, 5000] to generate 4 random samples that are normally distributed. Test your normal distributions with [`scipy.stats.normaltest`](https://docs.scipy.org/doc/scipy/reference/generated/scipy.stats.normaltest.html).\n",
    "\n",
    "\n",
    "*Hint: Read the documentation for `scipy.stats.normaltest`. The function does not simply return Yes or No for whether your data is normal distribution. It returns the likelihood.*"
   ]
  },
  {
   "cell_type": "code",
   "execution_count": 182,
   "metadata": {},
   "outputs": [
    {
     "name": "stdout",
     "output_type": "stream",
     "text": [
      "p = 0.403657\n",
      "p = 0.670359\n",
      "p = 0.951988\n",
      "p = 0.321187\n"
     ]
    }
   ],
   "source": [
    "sample_size=[10, 50, 500, 5000]\n",
    "for x in sample_size:\n",
    "    ex = np.random.normal(loc= 50, scale= 5,size=x)\n",
    "    k, p = stats.normaltest(ex)\n",
    "    print(\"p = {:g}\".format(p))\n",
    "#if p < alpha:  # null hypothesis: x comes from a normal distribution\n",
    "#    print(\"The null hypothesis can be rejected\")\n",
    "#else:\n",
    "#    print(\"The null hypothesis cannot be rejected\")\n",
    "\n"
   ]
  },
  {
   "cell_type": "code",
   "execution_count": 187,
   "metadata": {},
   "outputs": [
    {
     "name": "stdout",
     "output_type": "stream",
     "text": [
      "p = 0.523849\n"
     ]
    }
   ],
   "source": [
    "a = np.random.normal(loc= 50, scale= 5,size=10)\n",
    "b = np.random.normal(loc= 50, scale= 5,size=50)\n",
    "c = np.random.normal(loc= 50, scale= 5,size=500)\n",
    "d = np.random.normal(loc= 50, scale= 5,size=5000)\n",
    "x = np.concatenate((a, b, c, d))\n",
    "k2, p = stats.normaltest(x)\n",
    "print(\"p = {:g}\".format(p))"
   ]
  },
  {
   "cell_type": "markdown",
   "metadata": {},
   "source": [
    "#### Interpret the normaltest results and make your observations."
   ]
  },
  {
   "cell_type": "code",
   "execution_count": 219,
   "metadata": {},
   "outputs": [
    {
     "data": {
      "text/plain": [
       "'Las hipótesis nulas no pueden ser rechazadas porque mis p-valor, en cada uno de los casos, son mayores a alpha.'"
      ]
     },
     "execution_count": 219,
     "metadata": {},
     "output_type": "execute_result"
    }
   ],
   "source": [
    "# NOTA PARA MI: El valor de alpha con el que trabajaremos por defecto a lo largo del bootcamp será de 0.05.\n",
    "'Las hipótesis nulas no pueden ser rechazadas porque mis p-valor, en cada uno de los casos, son mayores a alpha.'"
   ]
  },
  {
   "cell_type": "markdown",
   "metadata": {},
   "source": [
    "#### Step 2: Plot normal distributions\n",
    "\n",
    "Use matplotlib subplots to plot a histogram of each sample. \n",
    "\n",
    "*Hints:*\n",
    "- Use subplots to compare your figures side by side.\n",
    "\n",
    "- Your output should look like below:\n",
    "\n",
    "![normal distributions with different sample sizes](ch-1.png)"
   ]
  },
  {
   "cell_type": "code",
   "execution_count": 217,
   "metadata": {},
   "outputs": [
    {
     "data": {
      "text/plain": [
       "(array([  15.,  109.,  342.,  982., 1391., 1257.,  629.,  219.,   50.,\n",
       "           6.]),\n",
       " array([32.94906358, 36.51881255, 40.08856152, 43.65831048, 47.22805945,\n",
       "        50.79780841, 54.36755738, 57.93730634, 61.50705531, 65.07680427,\n",
       "        68.64655324]),\n",
       " <a list of 10 Patch objects>)"
      ]
     },
     "execution_count": 217,
     "metadata": {},
     "output_type": "execute_result"
    },
    {
     "data": {
      "image/png": "[encoded data removed]",
      "text/plain": [
       "<Figure size 720x360 with 4 Axes>"
      ]
     },
     "metadata": {
      "needs_background": "light"
     },
     "output_type": "display_data"
    }
   ],
   "source": [
    "plt.figure(figsize=(10,5))\n",
    "plt.subplot(1,4,1)\n",
    "plt.hist(a)\n",
    "\n",
    "plt.subplot(1,4,2)\n",
    "plt.hist(b)\n",
    "\n",
    "plt.subplot(1,4,3)\n",
    "plt.hist(c)\n",
    "\n",
    "plt.subplot(1,4,4)\n",
    "plt.hist(d)"
   ]
  },
  {
   "cell_type": "markdown",
   "metadata": {},
   "source": [
    "#### Compare the distributions above. What do you observe? Explain with the Central Limit Theorem."
   ]
  },
  {
   "cell_type": "code",
   "execution_count": 221,
   "metadata": {},
   "outputs": [
    {
     "data": {
      "text/plain": [
       "'Veo que mientras mayor sea la muestra la gráfica va cogiendo forma más centrada. Y el teorema del límite central nos indica que si tenemos una varianza no nula y variables aleatorias independientes suficientemente grandes entonces la función de distribución se aproxima a una distribución normal (Campana de Gauss)'"
      ]
     },
     "execution_count": 221,
     "metadata": {},
     "output_type": "execute_result"
    }
   ],
   "source": [
    "'Veo que mientras mayor sea la muestra la gráfica va cogiendo forma más centrada. Y el teorema del límite central nos indica que si tenemos una varianza no nula y variables aleatorias independientes suficientemente grandes entonces la función de distribución se aproxima a una distribución normal (Campana de Gauss)'\n"
   ]
  },
  {
   "cell_type": "markdown",
   "metadata": {},
   "source": [
    "# Challenge 2 - Plot Probability Mass Function (PMF)"
   ]
  },
  {
   "cell_type": "markdown",
   "metadata": {},
   "source": [
    "#### Background knowledge\n",
    "\n",
    "[PMF](https://en.wikipedia.org/wiki/Probability_mass_function) shows the probability distribution of a **discrete random variable**. A [discrete random variable](https://en.wikipedia.org/wiki/Random_variable#Discrete_random_variable) has random numeric values that are not continuous. For example, the number of people in a household can only be integers but not floats. Therefore the number of people in a household is a discrete variable.\n",
    "\n",
    "#### Question: We assume that the probability of clicking an Ad in a Youtube video is 0.15. We have a sample of 5 people who wathched the video and we want to plot the PMF for a binomial distribution.\n",
    "\n",
    "*Hint: use binom from `scipy.stats.binom`. Your output should look like below:*\n",
    "\n",
    "![binom 10](ch-2.png)"
   ]
  },
  {
   "cell_type": "code",
   "execution_count": 214,
   "metadata": {},
   "outputs": [
    {
     "data": {
      "text/plain": [
       "[<matplotlib.lines.Line2D at 0x1267e5250>]"
      ]
     },
     "execution_count": 214,
     "metadata": {},
     "output_type": "execute_result"
    },
    {
     "data": {
      "image/png": "[encoded data removed]",
      "text/plain": [
       "<Figure size 432x288 with 1 Axes>"
      ]
     },
     "metadata": {
      "needs_background": "light"
     },
     "output_type": "display_data"
    }
   ],
   "source": [
    "# Your code here\n",
    "n = 5\n",
    "p = 0.15\n",
    "#loc = 0\n",
    "k = np.arange(n)\n",
    "click = binom.pmf(k,n,p)\n",
    "#click = binom.pmf(k-loc,n,p)\n",
    "plt.plot(click)"
   ]
  },
  {
   "cell_type": "markdown",
   "metadata": {},
   "source": [
    "#### Explain what you observe from the plot above"
   ]
  },
  {
   "cell_type": "code",
   "execution_count": 223,
   "metadata": {},
   "outputs": [
    {
     "data": {
      "text/plain": [
       "'Con la distribución binomial podemos observar que es 0% la probabilidad que las 5 personas clicken, en cambio la probabilidad de que 1 clicke es de 40%, de que 2 clicken es de unos 12% aprox.'"
      ]
     },
     "execution_count": 223,
     "metadata": {},
     "output_type": "execute_result"
    }
   ],
   "source": [
    "'Con la distribución binomial podemos observar que es 0% la probabilidad que las 5 personas clicken, en cambio la probabilidad de que 1 clicke es de 40%, de que 2 clicken es de unos 12% aprox.'"
   ]
  },
  {
   "cell_type": "markdown",
   "metadata": {},
   "source": [
    "#### Now plot PMP with 50, 500, and 5000 visitors."
   ]
  },
  {
   "cell_type": "code",
   "execution_count": 211,
   "metadata": {},
   "outputs": [
    {
     "data": {
      "text/plain": [
       "[<matplotlib.lines.Line2D at 0x126217410>]"
      ]
     },
     "execution_count": 211,
     "metadata": {},
     "output_type": "execute_result"
    },
    {
     "data": {
      "image/png": "[encoded data removed]",
      "text/plain": [
       "<Figure size 1080x360 with 3 Axes>"
      ]
     },
     "metadata": {
      "needs_background": "light"
     },
     "output_type": "display_data"
    }
   ],
   "source": [
    "plt.figure(figsize=(15,5))\n",
    "plt.subplot(1,4,1)\n",
    "n = 50\n",
    "p = 0.15\n",
    "k = np.arange(n)\n",
    "click = binom.pmf(k,n,p)\n",
    "plt.plot(click)\n",
    "plt.subplot(1,4,2)\n",
    "n = 500\n",
    "p = 0.15\n",
    "k = np.arange(n)\n",
    "click = binom.pmf(k,n,p)\n",
    "plt.plot(click)\n",
    "plt.subplot(1,4,3)\n",
    "n = 5000\n",
    "p = 0.15\n",
    "k = np.arange(n)\n",
    "click = binom.pmf(k,n,p)\n",
    "plt.plot(click)"
   ]
  },
  {
   "cell_type": "markdown",
   "metadata": {},
   "source": [
    "#### What did you notice from the distribution plots? Comment your findings."
   ]
  },
  {
   "cell_type": "code",
   "execution_count": 226,
   "metadata": {},
   "outputs": [
    {
     "data": {
      "text/plain": [
       "'Observamos que el mayor número de clicks se producen siempre alrededor del 18% de la muestra, pero mientras la muestra se hace más grande el % de clicks se hace más pequeño'"
      ]
     },
     "execution_count": 226,
     "metadata": {},
     "output_type": "execute_result"
    }
   ],
   "source": [
    "'Observamos que el mayor número de clicks se producen siempre alrededor del 18% de la muestra, pero mientras la muestra se hace más grande el % de clicks se hace más pequeño'"
   ]
  },
  {
   "cell_type": "markdown",
   "metadata": {},
   "source": [
    "# Challenge 3"
   ]
  },
  {
   "cell_type": "markdown",
   "metadata": {},
   "source": [
    "#### Reaserch the Poisson distribution. Write about your own understanding of the Poisson distribution."
   ]
  },
  {
   "cell_type": "code",
   "execution_count": 238,
   "metadata": {},
   "outputs": [
    {
     "data": {
      "text/plain": [
       "'La distribución de poisson parte de una frecuencia de ocurrencia media, y de ahí la probabilidad de que ocurra un determinado número de eventos durante cierto período de tiempo. Se especializa en la probabilidad de ocurrencia de sucesos con probabilidades muy pequeñas'"
      ]
     },
     "execution_count": 238,
     "metadata": {},
     "output_type": "execute_result"
    }
   ],
   "source": [
    "'La distribución de poisson parte de una frecuencia de ocurrencia media, y de ahí la probabilidad de que ocurra un determinado número de eventos durante cierto período de tiempo. Se especializa en la probabilidad de ocurrencia de sucesos con probabilidades muy pequeñas'"
   ]
  },
  {
   "cell_type": "markdown",
   "metadata": {},
   "source": [
    "#### A website has an average of 300 visits per day. What is the probability of getting 320 visitors in a day?\n",
    "\n",
    "*Hint: use `scipy.stats.poisson`*"
   ]
  },
  {
   "cell_type": "code",
   "execution_count": 247,
   "metadata": {},
   "outputs": [
    {
     "data": {
      "text/plain": [
       "0.011612348610402475"
      ]
     },
     "execution_count": 247,
     "metadata": {},
     "output_type": "execute_result"
    }
   ],
   "source": [
    "k = 320\n",
    "mu = 300\n",
    "#poisson.pmf(k - loc, mu).\n",
    "website = poisson.pmf(k,mu)\n",
    "website"
   ]
  },
  {
   "cell_type": "markdown",
   "metadata": {},
   "source": [
    "#### What is the probability of getting 60 visits?"
   ]
  },
  {
   "cell_type": "code",
   "execution_count": 249,
   "metadata": {},
   "outputs": [
    {
     "data": {
      "text/plain": [
       "2.622743762294515e-64"
      ]
     },
     "execution_count": 249,
     "metadata": {},
     "output_type": "execute_result"
    }
   ],
   "source": [
    "k = 60\n",
    "mu = 300\n",
    "website = poisson.pmf(k,mu)\n",
    "website"
   ]
  },
  {
   "cell_type": "markdown",
   "metadata": {},
   "source": [
    "#### Plot the distribution of the probability for getting 0-1000 visits.\n",
    "\n",
    "*Hints:* \n",
    "\n",
    "- Create a list to store the Poisson distribution probabilities for n=0 to 1000. Then plot the probabilities.\n",
    "\n",
    "- Your plot should look like below:\n",
    "\n",
    "![poisson distribution](ch-3.png)"
   ]
  },
  {
   "cell_type": "code",
   "execution_count": 253,
   "metadata": {},
   "outputs": [
    {
     "data": {
      "text/plain": [
       "[<matplotlib.lines.Line2D at 0x1270e6490>]"
      ]
     },
     "execution_count": 253,
     "metadata": {},
     "output_type": "execute_result"
    },
    {
     "data": {
      "image/png": "[encoded data removed]",
      "text/plain": [
       "<Figure size 432x288 with 1 Axes>"
      ]
     },
     "metadata": {
      "needs_background": "light"
     },
     "output_type": "display_data"
    }
   ],
   "source": [
    "k = np.arange(1000)\n",
    "new = poisson.pmf(k,mu)\n",
    "plt.plot(k,new)"
   ]
  },
  {
   "cell_type": "code",
   "execution_count": null,
   "metadata": {},
   "outputs": [],
   "source": []
  }
 ],
 "metadata": {
  "anaconda-cloud": {},
  "kernelspec": {
   "display_name": "Python 3",
   "language": "python",
   "name": "python3"
  },
  "language_info": {
   "codemirror_mode": {
    "name": "ipython",
    "version": 3
   },
   "file_extension": ".py",
   "mimetype": "text/x-python",
   "name": "python",
   "nbconvert_exporter": "python",
   "pygments_lexer": "ipython3",
   "version": "3.7.5"
  }
 },
 "nbformat": 4,
 "nbformat_minor": 1
}
